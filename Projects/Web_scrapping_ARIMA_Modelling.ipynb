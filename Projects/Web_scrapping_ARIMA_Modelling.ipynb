{
  "nbformat": 4,
  "nbformat_minor": 0,
  "metadata": {
    "colab": {
      "name": "Web-scrapping_ARIMA_Modelling",
      "provenance": [],
      "authorship_tag": "ABX9TyP3M8dxFBcgukhDZcYPdZdT",
      "include_colab_link": true
    },
    "kernelspec": {
      "name": "python3",
      "display_name": "Python 3"
    },
    "language_info": {
      "name": "python"
    }
  },
  "cells": [
    {
      "cell_type": "markdown",
      "metadata": {
        "id": "view-in-github",
        "colab_type": "text"
      },
      "source": [
        "<a href=\"https://colab.research.google.com/github/BillHuynh/DataScienceProjects/blob/master/Web_scrapping_ARIMA_Modelling.ipynb\" target=\"_parent\"><img src=\"https://colab.research.google.com/assets/colab-badge.svg\" alt=\"Open In Colab\"/></a>"
      ]
    },
    {
      "cell_type": "markdown",
      "metadata": {
        "id": "JLALhARhFnPi"
      },
      "source": [
        "# Script uses selenium to web scrape data from google schoolar to predict any professor's number of citations using ARIMA time series \n"
      ]
    },
    {
      "cell_type": "code",
      "metadata": {
        "id": "zWwJGiwCMl70",
        "colab": {
          "base_uri": "https://localhost:8080/"
        },
        "outputId": "fd6f7ab3-439c-4da0-d731-b061ad399478"
      },
      "source": [
        "#setting up selenium on google colab\n",
        "!apt-get update\n",
        "!apt install chromium-chromedriver\n",
        "!cp /usr/lib/chromium-browser/chromedriver /usr/bin\n",
        "!pip install selenium\n",
        "from selenium import webdriver\n",
        "options = webdriver.ChromeOptions()\n",
        "options.add_argument('--headless')\n",
        "options.add_argument('--no-sandbox')\n",
        "options.add_argument('--disable-dev-shm-usage')\n",
        "wd = webdriver.Chrome('chromedriver',options=options)"
      ],
      "execution_count": null,
      "outputs": [
        {
          "output_type": "stream",
          "text": [
            "\r0% [Working]\r            \rGet:1 http://security.ubuntu.com/ubuntu bionic-security InRelease [88.7 kB]\n",
            "\r0% [Connecting to archive.ubuntu.com (91.189.88.152)] [1 InRelease 14.2 kB/88.7\r                                                                               \rGet:2 https://cloud.r-project.org/bin/linux/ubuntu bionic-cran40/ InRelease [3,626 B]\n",
            "Ign:3 https://developer.download.nvidia.com/compute/cuda/repos/ubuntu1804/x86_64  InRelease\n",
            "Get:4 http://ppa.launchpad.net/c2d4u.team/c2d4u4.0+/ubuntu bionic InRelease [15.9 kB]\n",
            "Hit:5 http://archive.ubuntu.com/ubuntu bionic InRelease\n",
            "Ign:6 https://developer.download.nvidia.com/compute/machine-learning/repos/ubuntu1804/x86_64  InRelease\n",
            "Get:7 https://developer.download.nvidia.com/compute/cuda/repos/ubuntu1804/x86_64  Release [697 B]\n",
            "Hit:8 https://developer.download.nvidia.com/compute/machine-learning/repos/ubuntu1804/x86_64  Release\n",
            "Get:9 https://developer.download.nvidia.com/compute/cuda/repos/ubuntu1804/x86_64  Release.gpg [836 B]\n",
            "Get:10 http://archive.ubuntu.com/ubuntu bionic-updates InRelease [88.7 kB]\n",
            "Get:11 https://cloud.r-project.org/bin/linux/ubuntu bionic-cran40/ Packages [62.2 kB]\n",
            "Hit:12 http://ppa.launchpad.net/cran/libgit2/ubuntu bionic InRelease\n",
            "Get:13 http://archive.ubuntu.com/ubuntu bionic-backports InRelease [74.6 kB]\n",
            "Get:14 http://ppa.launchpad.net/deadsnakes/ppa/ubuntu bionic InRelease [15.9 kB]\n",
            "Get:15 http://security.ubuntu.com/ubuntu bionic-security/main amd64 Packages [2,221 kB]\n",
            "Get:16 http://security.ubuntu.com/ubuntu bionic-security/universe amd64 Packages [1,418 kB]\n",
            "Hit:17 http://ppa.launchpad.net/graphics-drivers/ppa/ubuntu bionic InRelease\n",
            "Ign:19 https://developer.download.nvidia.com/compute/cuda/repos/ubuntu1804/x86_64  Packages\n",
            "Get:19 https://developer.download.nvidia.com/compute/cuda/repos/ubuntu1804/x86_64  Packages [637 kB]\n",
            "Get:20 http://ppa.launchpad.net/c2d4u.team/c2d4u4.0+/ubuntu bionic/main Sources [1,780 kB]\n",
            "Get:21 http://archive.ubuntu.com/ubuntu bionic-updates/main amd64 Packages [2,658 kB]\n",
            "Get:22 http://ppa.launchpad.net/c2d4u.team/c2d4u4.0+/ubuntu bionic/main amd64 Packages [910 kB]\n",
            "Get:23 http://archive.ubuntu.com/ubuntu bionic-updates/universe amd64 Packages [2,188 kB]\n",
            "Get:24 http://ppa.launchpad.net/deadsnakes/ppa/ubuntu bionic/main amd64 Packages [40.9 kB]\n",
            "Fetched 12.2 MB in 3s (3,963 kB/s)\n",
            "Reading package lists... Done\n",
            "Reading package lists... Done\n",
            "Building dependency tree       \n",
            "Reading state information... Done\n",
            "The following additional packages will be installed:\n",
            "  chromium-browser chromium-browser-l10n chromium-codecs-ffmpeg-extra\n",
            "Suggested packages:\n",
            "  webaccounts-chromium-extension unity-chromium-extension\n",
            "The following NEW packages will be installed:\n",
            "  chromium-browser chromium-browser-l10n chromium-chromedriver\n",
            "  chromium-codecs-ffmpeg-extra\n",
            "0 upgraded, 4 newly installed, 0 to remove and 58 not upgraded.\n",
            "Need to get 86.0 MB of archives.\n",
            "After this operation, 298 MB of additional disk space will be used.\n",
            "Get:1 http://archive.ubuntu.com/ubuntu bionic-updates/universe amd64 chromium-codecs-ffmpeg-extra amd64 91.0.4472.101-0ubuntu0.18.04.1 [1,124 kB]\n",
            "Get:2 http://archive.ubuntu.com/ubuntu bionic-updates/universe amd64 chromium-browser amd64 91.0.4472.101-0ubuntu0.18.04.1 [76.1 MB]\n",
            "Get:3 http://archive.ubuntu.com/ubuntu bionic-updates/universe amd64 chromium-browser-l10n all 91.0.4472.101-0ubuntu0.18.04.1 [3,937 kB]\n",
            "Get:4 http://archive.ubuntu.com/ubuntu bionic-updates/universe amd64 chromium-chromedriver amd64 91.0.4472.101-0ubuntu0.18.04.1 [4,837 kB]\n",
            "Fetched 86.0 MB in 3s (28.0 MB/s)\n",
            "Selecting previously unselected package chromium-codecs-ffmpeg-extra.\n",
            "(Reading database ... 160815 files and directories currently installed.)\n",
            "Preparing to unpack .../chromium-codecs-ffmpeg-extra_91.0.4472.101-0ubuntu0.18.04.1_amd64.deb ...\n",
            "Unpacking chromium-codecs-ffmpeg-extra (91.0.4472.101-0ubuntu0.18.04.1) ...\n",
            "Selecting previously unselected package chromium-browser.\n",
            "Preparing to unpack .../chromium-browser_91.0.4472.101-0ubuntu0.18.04.1_amd64.deb ...\n",
            "Unpacking chromium-browser (91.0.4472.101-0ubuntu0.18.04.1) ...\n",
            "Selecting previously unselected package chromium-browser-l10n.\n",
            "Preparing to unpack .../chromium-browser-l10n_91.0.4472.101-0ubuntu0.18.04.1_all.deb ...\n",
            "Unpacking chromium-browser-l10n (91.0.4472.101-0ubuntu0.18.04.1) ...\n",
            "Selecting previously unselected package chromium-chromedriver.\n",
            "Preparing to unpack .../chromium-chromedriver_91.0.4472.101-0ubuntu0.18.04.1_amd64.deb ...\n",
            "Unpacking chromium-chromedriver (91.0.4472.101-0ubuntu0.18.04.1) ...\n",
            "Setting up chromium-codecs-ffmpeg-extra (91.0.4472.101-0ubuntu0.18.04.1) ...\n",
            "Setting up chromium-browser (91.0.4472.101-0ubuntu0.18.04.1) ...\n",
            "update-alternatives: using /usr/bin/chromium-browser to provide /usr/bin/x-www-browser (x-www-browser) in auto mode\n",
            "update-alternatives: using /usr/bin/chromium-browser to provide /usr/bin/gnome-www-browser (gnome-www-browser) in auto mode\n",
            "Setting up chromium-chromedriver (91.0.4472.101-0ubuntu0.18.04.1) ...\n",
            "Setting up chromium-browser-l10n (91.0.4472.101-0ubuntu0.18.04.1) ...\n",
            "Processing triggers for man-db (2.8.3-2ubuntu0.1) ...\n",
            "Processing triggers for hicolor-icon-theme (0.17-2) ...\n",
            "Processing triggers for mime-support (3.60ubuntu1) ...\n",
            "Processing triggers for libc-bin (2.27-3ubuntu1.2) ...\n",
            "/sbin/ldconfig.real: /usr/local/lib/python3.7/dist-packages/ideep4py/lib/libmkldnn.so.0 is not a symbolic link\n",
            "\n",
            "cp: '/usr/lib/chromium-browser/chromedriver' and '/usr/bin/chromedriver' are the same file\n",
            "Collecting selenium\n",
            "\u001b[?25l  Downloading https://files.pythonhosted.org/packages/80/d6/4294f0b4bce4de0abf13e17190289f9d0613b0a44e5dd6a7f5ca98459853/selenium-3.141.0-py2.py3-none-any.whl (904kB)\n",
            "\u001b[K     |████████████████████████████████| 911kB 25.3MB/s \n",
            "\u001b[?25hRequirement already satisfied: urllib3 in /usr/local/lib/python3.7/dist-packages (from selenium) (1.24.3)\n",
            "Installing collected packages: selenium\n",
            "Successfully installed selenium-3.141.0\n"
          ],
          "name": "stdout"
        }
      ]
    },
    {
      "cell_type": "code",
      "metadata": {
        "id": "OkZZT-FmZNoz"
      },
      "source": [
        "\n",
        "import pandas as pd\n",
        "#copy any link on a professor on google scholar \n",
        "wd.get(\"https://scholar.google.com/citations?user=dqwjm-0AAAAJ&hl\"+\"=en#d=sc_md_hist\")\n",
        "#find years\n",
        "data = []\n",
        "box = wd.find_elements_by_class_name('gsc_g_t')\n",
        "for a in box[0:19]:\n",
        "  data.append(a.get_attribute('innerHTML'))\n",
        "dfff = pd.DataFrame(data)\n",
        "dfff.columns = ['Year']\n",
        "#find citations\n",
        "data2 = []\n",
        "box2 = wd.find_elements_by_class_name('gsc_g_al')\n",
        "for b in box2[0:19]:\n",
        "  data2.append(b.get_attribute('innerHTML'))\n",
        "dff = pd.DataFrame(data2)\n",
        "dff.columns = ['citations']\n",
        "# create csv\n",
        "create_df = pd.concat([dfff, dff], axis=1)\n",
        "create_df.to_csv('citation2003-2021.csv', encoding='utf-8', index=False )"
      ],
      "execution_count": null,
      "outputs": []
    },
    {
      "cell_type": "code",
      "metadata": {
        "id": "V4-jwHSLigrC",
        "colab": {
          "base_uri": "https://localhost:8080/"
        },
        "outputId": "f02fb993-7626-48b6-fb97-fb2f33f28023"
      },
      "source": [
        "#install ARIMA \n",
        "!pip install \"statsmodels==0.11.1\""
      ],
      "execution_count": null,
      "outputs": [
        {
          "output_type": "stream",
          "text": [
            "Collecting statsmodels==0.11.1\n",
            "\u001b[?25l  Downloading https://files.pythonhosted.org/packages/7b/6a/0bf4184c3fb6f9f43df997b88de5784b4cb2f6bd19a5dc213463971076cf/statsmodels-0.11.1-cp37-cp37m-manylinux1_x86_64.whl (8.7MB)\n",
            "\u001b[K     |████████████████████████████████| 8.7MB 16.8MB/s \n",
            "\u001b[?25hRequirement already satisfied: pandas>=0.21 in /usr/local/lib/python3.7/dist-packages (from statsmodels==0.11.1) (1.1.5)\n",
            "Requirement already satisfied: scipy>=1.0 in /usr/local/lib/python3.7/dist-packages (from statsmodels==0.11.1) (1.4.1)\n",
            "Requirement already satisfied: patsy>=0.5 in /usr/local/lib/python3.7/dist-packages (from statsmodels==0.11.1) (0.5.1)\n",
            "Requirement already satisfied: numpy>=1.14 in /usr/local/lib/python3.7/dist-packages (from statsmodels==0.11.1) (1.19.5)\n",
            "Requirement already satisfied: python-dateutil>=2.7.3 in /usr/local/lib/python3.7/dist-packages (from pandas>=0.21->statsmodels==0.11.1) (2.8.1)\n",
            "Requirement already satisfied: pytz>=2017.2 in /usr/local/lib/python3.7/dist-packages (from pandas>=0.21->statsmodels==0.11.1) (2018.9)\n",
            "Requirement already satisfied: six in /usr/local/lib/python3.7/dist-packages (from patsy>=0.5->statsmodels==0.11.1) (1.15.0)\n",
            "Installing collected packages: statsmodels\n",
            "  Found existing installation: statsmodels 0.10.2\n",
            "    Uninstalling statsmodels-0.10.2:\n",
            "      Successfully uninstalled statsmodels-0.10.2\n",
            "Successfully installed statsmodels-0.11.1\n"
          ],
          "name": "stdout"
        }
      ]
    },
    {
      "cell_type": "code",
      "metadata": {
        "id": "LdBmudQDim3e",
        "colab": {
          "base_uri": "https://localhost:8080/"
        },
        "outputId": "4a793925-5653-449a-dfee-3e1a4856fc60"
      },
      "source": [
        "# split the data into train (year 2003 to 2017) and test\n",
        "from pandas import read_csv\n",
        "from statsmodels.tsa.arima.model import ARIMA\n",
        "\n",
        "# load dataset\n",
        "series = create_df[\"citations\"]\n",
        "\n",
        "# split into train and test sets\n",
        "X = series.values\n",
        "X = X.astype('float32')\n",
        "size = len(X) - 4\n",
        "train, test = X[0:size], X[size:-1]\n",
        "\n",
        "# fit an ARIMA model\n",
        "model = ARIMA(train, order=(1,1,1))\n",
        "model_fit = model.fit()"
      ],
      "execution_count": null,
      "outputs": [
        {
          "output_type": "stream",
          "text": [
            "/usr/local/lib/python3.7/dist-packages/statsmodels/tsa/statespace/sarimax.py:963: UserWarning: Non-stationary starting autoregressive parameters found. Using zeros as starting parameters.\n",
            "  warn('Non-stationary starting autoregressive parameters'\n"
          ],
          "name": "stderr"
        }
      ]
    },
    {
      "cell_type": "code",
      "metadata": {
        "id": "XjVoaVHXisHS",
        "colab": {
          "base_uri": "https://localhost:8080/"
        },
        "outputId": "94336a10-0c5a-433a-abd0-fdf0b17e8324"
      },
      "source": [
        "# forecast\n",
        "result = model_fit.get_forecast(steps=3)\n",
        "#95% CI for 2018,2019,2020\n",
        "CIlower0 = result.predicted_mean[0]-1.96*result.se_mean[0]\n",
        "CIupper0 = result.predicted_mean[0]+1.96*result.se_mean[0]\n",
        "CIlower1 = result.predicted_mean[1]-1.96*result.se_mean[1]\n",
        "CIlupper1 = result.predicted_mean[1]+1.96*result.se_mean[1]\n",
        "CIlower2 = result.predicted_mean[2]-1.96*result.se_mean[2]\n",
        "CIlupper2 = result.predicted_mean[2]+1.96*result.se_mean[2]\n",
        "\n",
        "# summarize forecast and confidence intervals\n",
        "print('Forcast2018: %.3f' % result.predicted_mean[0])\n",
        "print('Forcast2019: %.3f' % result.predicted_mean[1])\n",
        "print('Forcast2020: %.3f' % result.predicted_mean[2])\n",
        "#SE for 2018,2019,2020\n",
        "print('Standard Error2018: %.3f' % result.se_mean[0])\n",
        "print('Standard Error2019: %.3f' % result.se_mean[1])\n",
        "print('Standard Error2020: %.3f' % result.se_mean[2])\n",
        "# true values for 2018,2019,2020\n",
        "print('Expected2018: %.3f' % test[0])\n",
        "print('Expected2019: %.3f' % test[1])\n",
        "print('Expected2020: %.3f' % test[2])\n",
        "#95% CI for 2018,2019,2020\n",
        "print('95%% Interval2018: %.3f to %.3f' % (CIlower0, CIupper0))\n",
        "print('95%% Interval2019: %.3f to %.3f' % (CIlower1, CIlupper1))\n",
        "print('95%% Interval2020: %.3f to %.3f' % (CIlower2, CIlupper2))"
      ],
      "execution_count": null,
      "outputs": [
        {
          "output_type": "stream",
          "text": [
            "Forcast2018: 426.489\n",
            "Forcast2019: 465.761\n",
            "Forcast2020: 502.932\n",
            "Standard Error2018: 20.340\n",
            "Standard Error2019: 36.150\n",
            "Standard Error2020: 53.119\n",
            "Expected2018: 453.000\n",
            "Expected2019: 580.000\n",
            "Expected2020: 831.000\n",
            "95% Interval2018: 386.623 to 466.355\n",
            "95% Interval2019: 394.906 to 536.615\n",
            "95% Interval2020: 398.818 to 607.046\n"
          ],
          "name": "stdout"
        }
      ]
    },
    {
      "cell_type": "code",
      "metadata": {
        "id": "gwr0krsmi1MC",
        "colab": {
          "base_uri": "https://localhost:8080/"
        },
        "outputId": "cd39a191-8d06-440b-a10b-18126f19d645"
      },
      "source": [
        "# Print the error below by comparing the test and preds:\n",
        "from sklearn.metrics import mean_squared_error\n",
        "from math import sqrt\n",
        "import numpy as np\n",
        "predicted20182020 = [result.predicted_mean[0], result.predicted_mean[1],result.predicted_mean[2]]\n",
        "true20182020 = [test[0],test[1],test[2]]\n",
        "# Your code to show the performance RMSE\n",
        "rmse = sqrt(mean_squared_error(predicted20182020,true20182020 ))\n",
        "print(rmse)"
      ],
      "execution_count": null,
      "outputs": [
        {
          "output_type": "stream",
          "text": [
            "201.14823171373936\n"
          ],
          "name": "stdout"
        }
      ]
    },
    {
      "cell_type": "code",
      "metadata": {
        "id": "HIlj5ggVi4ty",
        "colab": {
          "base_uri": "https://localhost:8080/",
          "height": 295
        },
        "outputId": "3d9f4fd0-b8a4-430c-ce54-2eadc9b64d52"
      },
      "source": [
        "# You code: Visualize as required, the prediction with its confidence interval\n",
        "import matplotlib.pyplot as plt\n",
        "values20132017 = X[10:-1]\n",
        "values20132017x = create_df.Year.values[10:-1]\n",
        "axisX = create_df.Year.values[10:-1]\n",
        "plt.plot([2013,2014,2015,2016,2017,2018,2019,2020], [X[10],X[11],X[12],X[13],X[14],X[15],X[16],X[17]],marker='o', label = \"True Citations\")\n",
        "plt.plot([2018,2019,2020], predicted20182020, linestyle='--', marker='*', color='r', label = \"Predicted Citations\")\n",
        "plt.axis([2013,2021,0,900])\n",
        "plt.text(2018,predicted20182020[0],'CI:390 to 468', horizontalalignment='right')\n",
        "plt.text(2019,predicted20182020[1],'CI:400 to 540')\n",
        "plt.text(2020,predicted20182020[2],'CI:406 to 612')\n",
        "plt.plot([2018,2018], [390,468], linestyle='--', marker='_', color='g', label = \"Confidence Interval 95%\")\n",
        "plt.plot([2019,2019], [400,540], linestyle='--', marker='_', color='g')\n",
        "plt.plot([2020,2020], [406,612], linestyle='--', marker='_', color='g')\n",
        "plt.legend()\n",
        "plt.xlabel('Year')\n",
        "plt.ylabel(' Number of Citations')\n",
        "plt.title('Predicted & Real Citation Values')\n",
        "plt.show()"
      ],
      "execution_count": null,
      "outputs": [
        {
          "output_type": "display_data",
          "data": {
            "image/png": "[encoded data removed]",
            "text/plain": [
              "<Figure size 432x288 with 1 Axes>"
            ]
          },
          "metadata": {
            "tags": [],
            "needs_background": "light"
          }
        }
      ]
    },
    {
      "cell_type": "code",
      "metadata": {
        "id": "FR1bJGxydQ11",
        "colab": {
          "base_uri": "https://localhost:8080/"
        },
        "outputId": "dcedaab7-71e9-430f-aa22-60dfba9d80b7"
      },
      "source": [
        "# your code to run grid search\n",
        "from pandas import read_csv\n",
        "from pandas import datetime\n",
        "from matplotlib import pyplot\n",
        "from statsmodels.tsa.arima.model import ARIMA\n",
        "from sklearn.metrics import mean_squared_error\n",
        "from math import sqrt\n",
        "import warnings\n",
        "warnings.filterwarnings('ignore')\n",
        "series = read_csv('citation2003-2021.csv', header=0, index_col=0, squeeze=True)\n",
        "\n",
        "# split into train and test sets\n",
        "X = series.values\n",
        "X = X.astype('float32')\n",
        "size = len(X) - 4\n",
        "train, test = X[0:size], X[size:-1]\n",
        "history = [x for x in train]\n",
        "predictions = list()\n",
        "RSME = []\n",
        "PARAMETER = []\n",
        "p=[1,2]\n",
        "q=[1,2]\n",
        "d=[1,2]\n",
        "\n",
        "# walk-forward validation\n",
        "for i1 in p:\n",
        "  for i2 in q:\n",
        "    for i3 in d:\n",
        "      for t in range(len(test)):\n",
        "\t      model = ARIMA(history, order=(i1,i3,i2))\n",
        "\t      model_fit = model.fit()\n",
        "\t      output = model_fit.forecast()\n",
        "\t      yhat = output[0]\n",
        "\t      predictions.append(yhat)\n",
        "\t      obs = test[t]\n",
        "\t      history.append(obs)\n",
        "\t      #print('predicted=%f, expected=%f' % (yhat, obs)) Very useful thanks! \n",
        "      rmse = sqrt(mean_squared_error(test, predictions))\n",
        "      history = [x for x in train]\n",
        "      predictions = list()  \n",
        "      RSME.append(rmse)\n",
        "      PARAMETER.append(str(i1)+\" \"+str(i2)+\" \"+str(i3))\n",
        "      print('Test RMSE: %.3f' % rmse,i1,i2,i3) "
      ],
      "execution_count": null,
      "outputs": [
        {
          "output_type": "stream",
          "text": [
            "/usr/local/lib/python3.7/dist-packages/ipykernel_launcher.py:3: FutureWarning: The pandas.datetime class is deprecated and will be removed from pandas in a future version. Import from datetime module instead.\n",
            "  This is separate from the ipykernel package so we can avoid doing imports until\n"
          ],
          "name": "stderr"
        },
        {
          "output_type": "stream",
          "text": [
            "Test RMSE: 100.076 1 1 1\n",
            "Test RMSE: 94.768 1 1 2\n",
            "Test RMSE: 100.642 1 2 1\n",
            "Test RMSE: 96.588 1 2 2\n",
            "Test RMSE: 91.889 2 1 1\n",
            "Test RMSE: 105.847 2 1 2\n",
            "Test RMSE: 101.751 2 2 1\n",
            "Test RMSE: 104.219 2 2 2\n"
          ],
          "name": "stdout"
        }
      ]
    },
    {
      "cell_type": "code",
      "metadata": {
        "id": "ywXub2pBdWUy",
        "colab": {
          "base_uri": "https://localhost:8080/"
        },
        "outputId": "e467effa-249a-4a33-ab57-d8e55097ddfd"
      },
      "source": [
        "Results = pd.DataFrame({'RMSE':RSME,'Parameter':PARAMETER})\n",
        "print(Results.head(6))\n",
        "print(\"lowest RMSE\")\n",
        "print(Results.loc[Results['RMSE'].argmin()])\n",
        "Results.to_csv('search-results.csv', encoding='utf-8', index=False )"
      ],
      "execution_count": null,
      "outputs": [
        {
          "output_type": "stream",
          "text": [
            "         RMSE Parameter\n",
            "0  100.075746     1 1 1\n",
            "1   94.767923     1 1 2\n",
            "2  100.642059     1 2 1\n",
            "3   96.587520     1 2 2\n",
            "4   91.889087     2 1 1\n",
            "5  105.846888     2 1 2\n",
            "lowest RMSE\n",
            "RMSE         91.8891\n",
            "Parameter      2 1 1\n",
            "Name: 4, dtype: object\n"
          ],
          "name": "stdout"
        }
      ]
    },
    {
      "cell_type": "code",
      "metadata": {
        "id": "IzO8vm_Ode36",
        "colab": {
          "base_uri": "https://localhost:8080/"
        },
        "outputId": "d017fa6e-1331-484f-f8fa-f6b359ab43f9"
      },
      "source": [
        "# your code to perform the Arima train on data 2003 to 2020\n",
        "#train = create_df.citation_all.values[:-1]\n",
        "series = create_df.citations.values[:-1]\n",
        "# split into train and test sets\n",
        "X = series\n",
        "X = X.astype('float32')\n",
        "size = len(X) \n",
        "train = X[0:size]\n",
        "\n",
        "# fit an ARIMA model\n",
        "model = ARIMA(train, order=(1,1,1))\n",
        "model_fit = model.fit()\n",
        "\n",
        "# Your code to predict for 2021 and 2022\n",
        "# forecast\n",
        "result = model_fit.get_forecast(steps=2)\n",
        "\n",
        "CIlower0 = result.predicted_mean[0]-1.96*result.se_mean[0]\n",
        "CIupper0 = result.predicted_mean[0]+1.96*result.se_mean[0]\n",
        "CIlower1 = result.predicted_mean[1]-1.96*result.se_mean[1]\n",
        "CIlupper2 = result.predicted_mean[1]+1.96*result.se_mean[1]\n",
        "\n",
        "# summarize forecast and confidence intervals\n",
        "print('Forcast2021: %.3f' % result.predicted_mean[0])\n",
        "print('Forcast2022: %.3f' % result.predicted_mean[1])\n",
        "\n",
        "print('Standard Error: %.3f' % result.se_mean[0])\n",
        "print('Standard Error: %.3f' % result.se_mean[1])\n",
        "\n",
        "print('95%% Interval: %.3f to %.3f' % (CIlower0, CIupper0))\n",
        "print('95%% Interval: %.3f to %.3f' % (CIlower1, CIlupper2))"
      ],
      "execution_count": null,
      "outputs": [
        {
          "output_type": "stream",
          "text": [
            "Forcast2021: 1103.232\n",
            "Forcast2022: 1359.881\n",
            "Standard Error: 39.274\n",
            "Standard Error: 96.795\n",
            "95% Interval: 1026.256 to 1180.208\n",
            "95% Interval: 1170.163 to 1549.599\n"
          ],
          "name": "stdout"
        }
      ]
    },
    {
      "cell_type": "code",
      "metadata": {
        "id": "m-5BJnI3disi",
        "colab": {
          "base_uri": "https://localhost:8080/",
          "height": 312
        },
        "outputId": "f366dded-de27-43ee-afc2-4719ddeea806"
      },
      "source": [
        "# Plot the points and the prediction with its confidence interval\n",
        "import matplotlib.pyplot as plt\n",
        "plt.plot([2013,2014,2015,2016,2017,2018,2019,2020], [X[10],X[11],X[12],X[13],X[14],X[15],X[16],X[17]],marker='o', label = \"True Citations\" )\n",
        "plt.plot([2021,2022], [result.predicted_mean[0],result.predicted_mean[1]], linestyle='--', marker='*', color='r', label = \"Predicted Citations\" )\n",
        "plt.axis([2013,2024,0,1600])\n",
        "plt.text(2021,result.predicted_mean[0],'CI95%: 1041 to 1195', horizontalalignment='right')\n",
        "plt.text(2022,result.predicted_mean[1],'CI95%: 1190 to 1579')\n",
        "plt.plot([2021,2021], [1041,1195], linestyle='--', marker='_', color='g',label = \"Confidence Interval 95%\")\n",
        "plt.plot([2022,2022], [1190,1579], linestyle='--', marker='_', color='g')\n",
        "plt.xlabel('Year')\n",
        "plt.ylabel(' Number of Citations')\n",
        "plt.title('Predicted & Real Citation Values')\n",
        "plt.legend()\n"
      ],
      "execution_count": null,
      "outputs": [
        {
          "output_type": "execute_result",
          "data": {
            "text/plain": [
              "<matplotlib.legend.Legend at 0x7f660f3c77d0>"
            ]
          },
          "metadata": {
            "tags": []
          },
          "execution_count": 11
        },
        {
          "output_type": "display_data",
          "data": {
            "image/png": "[encoded data removed]",
            "text/plain": [
              "<Figure size 432x288 with 1 Axes>"
            ]
          },
          "metadata": {
            "tags": [],
            "needs_background": "light"
          }
        }
      ]
    }
  ]
}

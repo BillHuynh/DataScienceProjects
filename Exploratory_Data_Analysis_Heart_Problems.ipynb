{
  "nbformat": 4,
  "nbformat_minor": 0,
  "metadata": {
    "colab": {
      "name": "SIT720_A1_219071721.ipynb",
      "provenance": [],
      "include_colab_link": true
    },
    "kernelspec": {
      "name": "python3",
      "display_name": "Python 3"
    },
    "language_info": {
      "name": "python"
    }
  },
  "cells": [
    {
      "cell_type": "markdown",
      "metadata": {
        "id": "view-in-github",
        "colab_type": "text"
      },
      "source": [
        "<a href=\"https://colab.research.google.com/github/BillHuynh/DataScienceProjects/blob/master/Exploratory_Data_Analysis_Heart_Problems.ipynb\" target=\"_parent\"><img src=\"https://colab.research.google.com/assets/colab-badge.svg\" alt=\"Open In Colab\"/></a>"
      ]
    },
    {
      "cell_type": "markdown",
      "source": [
        "Exploratory Data Analysis of patients with risk of Heart Problems  "
      ],
      "metadata": {
        "id": "zpg4Lg09HX_V"
      }
    },
    {
      "cell_type": "code",
      "metadata": {
        "id": "W1XAlSobrqjT"
      },
      "source": [
        "#importing lib\n",
        "import pandas as pd\n",
        "import numpy as np\n",
        "import matplotlib.pyplot as plt\n",
        "import os"
      ],
      "execution_count": null,
      "outputs": []
    },
    {
      "cell_type": "code",
      "metadata": {
        "colab": {
          "base_uri": "https://localhost:8080/"
        },
        "id": "cXWlZ8SetBKn",
        "outputId": "691702a7-5191-4ee6-f169-a28a6b43cd52"
      },
      "source": [
        "#csv file will be located in google drive\n",
        "#File should be placed in main google drive folder\n",
        "from google.colab import drive\n",
        "drive.mount('/content/drive')"
      ],
      "execution_count": null,
      "outputs": [
        {
          "output_type": "stream",
          "text": [
            "Mounted at /content/drive\n"
          ],
          "name": "stdout"
        }
      ]
    },
    {
      "cell_type": "markdown",
      "source": [
        "**Exploratory Data Analysis**"
      ],
      "metadata": {
        "id": "nui-4al5_xiK"
      }
    },
    {
      "cell_type": "code",
      "metadata": {
        "id": "r02xVvrctOKi"
      },
      "source": [
        "#reading the CSV file from main google drive folder the csv file should be in main google drive \n",
        "heart_df = pd.read_csv(\"/content/drive/MyDrive/A1_heart_disease_dataset.csv\")"
      ],
      "execution_count": null,
      "outputs": []
    },
    {
      "cell_type": "code",
      "metadata": {
        "colab": {
          "base_uri": "https://localhost:8080/",
          "height": 238
        },
        "id": "E63f27awaEWi",
        "outputId": "339f5301-dd1f-4e6c-b072-3becd6428ed0"
      },
      "source": [
        "# dimensions of the csv file\n",
        "print(\"Dimensions before :\", heart_df.shape)\n",
        "print(\"_____________________________________________________________________________________________\")\n",
        "#first 5 rows of csv file\n",
        "heart_df.head()"
      ],
      "execution_count": null,
      "outputs": [
        {
          "output_type": "stream",
          "text": [
            "Dimensions before : (303, 14)\n",
            "_____________________________________________________________________________________________\n"
          ],
          "name": "stdout"
        },
        {
          "output_type": "execute_result",
          "data": {
            "text/html": [
              "<div>\n",
              "<style scoped>\n",
              "    .dataframe tbody tr th:only-of-type {\n",
              "        vertical-align: middle;\n",
              "    }\n",
              "\n",
              "    .dataframe tbody tr th {\n",
              "        vertical-align: top;\n",
              "    }\n",
              "\n",
              "    .dataframe thead th {\n",
              "        text-align: right;\n",
              "    }\n",
              "</style>\n",
              "<table border=\"1\" class=\"dataframe\">\n",
              "  <thead>\n",
              "    <tr style=\"text-align: right;\">\n",
              "      <th></th>\n",
              "      <th>age</th>\n",
              "      <th>sex</th>\n",
              "      <th>cp</th>\n",
              "      <th>trestbps</th>\n",
              "      <th>chol</th>\n",
              "      <th>fbs</th>\n",
              "      <th>restecg</th>\n",
              "      <th>thalach</th>\n",
              "      <th>exang</th>\n",
              "      <th>oldpeak</th>\n",
              "      <th>slope</th>\n",
              "      <th>ca</th>\n",
              "      <th>thal</th>\n",
              "      <th>state</th>\n",
              "    </tr>\n",
              "  </thead>\n",
              "  <tbody>\n",
              "    <tr>\n",
              "      <th>0</th>\n",
              "      <td>63.0</td>\n",
              "      <td>M</td>\n",
              "      <td>tap</td>\n",
              "      <td>145.0</td>\n",
              "      <td>233.0</td>\n",
              "      <td>yes</td>\n",
              "      <td>2.0</td>\n",
              "      <td>150.0</td>\n",
              "      <td>0.0</td>\n",
              "      <td>2.3</td>\n",
              "      <td>3.0</td>\n",
              "      <td>0.0</td>\n",
              "      <td>6.0</td>\n",
              "      <td>0.0</td>\n",
              "    </tr>\n",
              "    <tr>\n",
              "      <th>1</th>\n",
              "      <td>67.0</td>\n",
              "      <td>M</td>\n",
              "      <td>asp</td>\n",
              "      <td>160.0</td>\n",
              "      <td>286.0</td>\n",
              "      <td>no</td>\n",
              "      <td>2.0</td>\n",
              "      <td>108.0</td>\n",
              "      <td>1.0</td>\n",
              "      <td>1.5</td>\n",
              "      <td>2.0</td>\n",
              "      <td>3.0</td>\n",
              "      <td>3.0</td>\n",
              "      <td>2.0</td>\n",
              "    </tr>\n",
              "    <tr>\n",
              "      <th>2</th>\n",
              "      <td>67.0</td>\n",
              "      <td>M</td>\n",
              "      <td>asp</td>\n",
              "      <td>120.0</td>\n",
              "      <td>229.0</td>\n",
              "      <td>no</td>\n",
              "      <td>2.0</td>\n",
              "      <td>129.0</td>\n",
              "      <td>1.0</td>\n",
              "      <td>2.6</td>\n",
              "      <td>2.0</td>\n",
              "      <td>2.0</td>\n",
              "      <td>7.0</td>\n",
              "      <td>1.0</td>\n",
              "    </tr>\n",
              "    <tr>\n",
              "      <th>3</th>\n",
              "      <td>37.0</td>\n",
              "      <td>M</td>\n",
              "      <td>nap</td>\n",
              "      <td>130.0</td>\n",
              "      <td>250.0</td>\n",
              "      <td>no</td>\n",
              "      <td>0.0</td>\n",
              "      <td>187.0</td>\n",
              "      <td>0.0</td>\n",
              "      <td>3.5</td>\n",
              "      <td>3.0</td>\n",
              "      <td>0.0</td>\n",
              "      <td>3.0</td>\n",
              "      <td>0.0</td>\n",
              "    </tr>\n",
              "    <tr>\n",
              "      <th>4</th>\n",
              "      <td>41.0</td>\n",
              "      <td>F</td>\n",
              "      <td>aap</td>\n",
              "      <td>130.0</td>\n",
              "      <td>204.0</td>\n",
              "      <td>no</td>\n",
              "      <td>2.0</td>\n",
              "      <td>172.0</td>\n",
              "      <td>0.0</td>\n",
              "      <td>1.4</td>\n",
              "      <td>1.0</td>\n",
              "      <td>0.0</td>\n",
              "      <td>3.0</td>\n",
              "      <td>0.0</td>\n",
              "    </tr>\n",
              "  </tbody>\n",
              "</table>\n",
              "</div>"
            ],
            "text/plain": [
              "    age sex   cp  trestbps   chol  fbs  ...  exang  oldpeak  slope   ca  thal  state\n",
              "0  63.0   M  tap     145.0  233.0  yes  ...    0.0      2.3    3.0  0.0   6.0    0.0\n",
              "1  67.0   M  asp     160.0  286.0   no  ...    1.0      1.5    2.0  3.0   3.0    2.0\n",
              "2  67.0   M  asp     120.0  229.0   no  ...    1.0      2.6    2.0  2.0   7.0    1.0\n",
              "3  37.0   M  nap     130.0  250.0   no  ...    0.0      3.5    3.0  0.0   3.0    0.0\n",
              "4  41.0   F  aap     130.0  204.0   no  ...    0.0      1.4    1.0  0.0   3.0    0.0\n",
              "\n",
              "[5 rows x 14 columns]"
            ]
          },
          "metadata": {
            "tags": []
          },
          "execution_count": 5
        }
      ]
    },
    {
      "cell_type": "code",
      "metadata": {
        "colab": {
          "base_uri": "https://localhost:8080/"
        },
        "id": "hSriqtfnrV-S",
        "outputId": "df06ff00-c864-4500-baf3-ad8fafa46b9e"
      },
      "source": [
        "#removing all rows with the state column of 0\n",
        "heart_df1 = heart_df[heart_df.state != 0]\n",
        "print(\"Dimensions before :\", heart_df.shape)\n",
        "print(\"Dimensions after :\", heart_df1.shape)"
      ],
      "execution_count": null,
      "outputs": [
        {
          "output_type": "stream",
          "text": [
            "Dimensions before : (303, 14)\n",
            "Dimensions after : (143, 14)\n"
          ],
          "name": "stdout"
        }
      ]
    },
    {
      "cell_type": "markdown",
      "metadata": {
        "id": "T7b6hJ23fjUF"
      },
      "source": [
        "# FIND MISSING VALUES\n"
      ]
    },
    {
      "cell_type": "code",
      "metadata": {
        "colab": {
          "base_uri": "https://localhost:8080/",
          "height": 500
        },
        "id": "-KsWnbl1fnM_",
        "outputId": "49ee95cd-18c1-46c0-d189-7a61c43d6b3f"
      },
      "source": [
        "#display any missing values in CSV\n",
        "heart_missing_data = heart_df1[heart_df1.isnull().any(axis=1)]\n",
        "#dimensions of all the Nan rows in the csv\n",
        "print(heart_missing_data.shape)\n",
        "heart_missing_data.head(200)\n"
      ],
      "execution_count": null,
      "outputs": [
        {
          "output_type": "stream",
          "text": [
            "(14, 14)\n"
          ],
          "name": "stdout"
        },
        {
          "output_type": "execute_result",
          "data": {
            "text/html": [
              "<div>\n",
              "<style scoped>\n",
              "    .dataframe tbody tr th:only-of-type {\n",
              "        vertical-align: middle;\n",
              "    }\n",
              "\n",
              "    .dataframe tbody tr th {\n",
              "        vertical-align: top;\n",
              "    }\n",
              "\n",
              "    .dataframe thead th {\n",
              "        text-align: right;\n",
              "    }\n",
              "</style>\n",
              "<table border=\"1\" class=\"dataframe\">\n",
              "  <thead>\n",
              "    <tr style=\"text-align: right;\">\n",
              "      <th></th>\n",
              "      <th>age</th>\n",
              "      <th>sex</th>\n",
              "      <th>cp</th>\n",
              "      <th>trestbps</th>\n",
              "      <th>chol</th>\n",
              "      <th>fbs</th>\n",
              "      <th>restecg</th>\n",
              "      <th>thalach</th>\n",
              "      <th>exang</th>\n",
              "      <th>oldpeak</th>\n",
              "      <th>slope</th>\n",
              "      <th>ca</th>\n",
              "      <th>thal</th>\n",
              "      <th>state</th>\n",
              "    </tr>\n",
              "  </thead>\n",
              "  <tbody>\n",
              "    <tr>\n",
              "      <th>6</th>\n",
              "      <td>62.0</td>\n",
              "      <td>F</td>\n",
              "      <td>NaN</td>\n",
              "      <td>140.0</td>\n",
              "      <td>268.0</td>\n",
              "      <td>no</td>\n",
              "      <td>2.0</td>\n",
              "      <td>160.0</td>\n",
              "      <td>0.0</td>\n",
              "      <td>3.6</td>\n",
              "      <td>3.0</td>\n",
              "      <td>2.0</td>\n",
              "      <td>3.0</td>\n",
              "      <td>3.0</td>\n",
              "    </tr>\n",
              "    <tr>\n",
              "      <th>16</th>\n",
              "      <td>NaN</td>\n",
              "      <td>NaN</td>\n",
              "      <td>NaN</td>\n",
              "      <td>NaN</td>\n",
              "      <td>NaN</td>\n",
              "      <td>NaN</td>\n",
              "      <td>NaN</td>\n",
              "      <td>NaN</td>\n",
              "      <td>NaN</td>\n",
              "      <td>NaN</td>\n",
              "      <td>NaN</td>\n",
              "      <td>NaN</td>\n",
              "      <td>NaN</td>\n",
              "      <td>NaN</td>\n",
              "    </tr>\n",
              "    <tr>\n",
              "      <th>55</th>\n",
              "      <td>NaN</td>\n",
              "      <td>NaN</td>\n",
              "      <td>NaN</td>\n",
              "      <td>NaN</td>\n",
              "      <td>NaN</td>\n",
              "      <td>NaN</td>\n",
              "      <td>NaN</td>\n",
              "      <td>NaN</td>\n",
              "      <td>NaN</td>\n",
              "      <td>NaN</td>\n",
              "      <td>NaN</td>\n",
              "      <td>NaN</td>\n",
              "      <td>NaN</td>\n",
              "      <td>NaN</td>\n",
              "    </tr>\n",
              "    <tr>\n",
              "      <th>67</th>\n",
              "      <td>54.0</td>\n",
              "      <td>M</td>\n",
              "      <td>nap</td>\n",
              "      <td>150.0</td>\n",
              "      <td>232.0</td>\n",
              "      <td>no</td>\n",
              "      <td>2.0</td>\n",
              "      <td>165.0</td>\n",
              "      <td>0.0</td>\n",
              "      <td>1.6</td>\n",
              "      <td>1.0</td>\n",
              "      <td>0.0</td>\n",
              "      <td>7.0</td>\n",
              "      <td>NaN</td>\n",
              "    </tr>\n",
              "    <tr>\n",
              "      <th>114</th>\n",
              "      <td>NaN</td>\n",
              "      <td>NaN</td>\n",
              "      <td>NaN</td>\n",
              "      <td>NaN</td>\n",
              "      <td>NaN</td>\n",
              "      <td>NaN</td>\n",
              "      <td>NaN</td>\n",
              "      <td>NaN</td>\n",
              "      <td>NaN</td>\n",
              "      <td>NaN</td>\n",
              "      <td>NaN</td>\n",
              "      <td>NaN</td>\n",
              "      <td>NaN</td>\n",
              "      <td>NaN</td>\n",
              "    </tr>\n",
              "    <tr>\n",
              "      <th>165</th>\n",
              "      <td>57.0</td>\n",
              "      <td>M</td>\n",
              "      <td>asp</td>\n",
              "      <td>132.0</td>\n",
              "      <td>207.0</td>\n",
              "      <td>no</td>\n",
              "      <td>0.0</td>\n",
              "      <td>168.0</td>\n",
              "      <td>1.0</td>\n",
              "      <td>0.0</td>\n",
              "      <td>1.0</td>\n",
              "      <td>NaN</td>\n",
              "      <td>7.0</td>\n",
              "      <td>NaN</td>\n",
              "    </tr>\n",
              "    <tr>\n",
              "      <th>187</th>\n",
              "      <td>NaN</td>\n",
              "      <td>NaN</td>\n",
              "      <td>NaN</td>\n",
              "      <td>NaN</td>\n",
              "      <td>NaN</td>\n",
              "      <td>NaN</td>\n",
              "      <td>NaN</td>\n",
              "      <td>NaN</td>\n",
              "      <td>NaN</td>\n",
              "      <td>NaN</td>\n",
              "      <td>NaN</td>\n",
              "      <td>NaN</td>\n",
              "      <td>NaN</td>\n",
              "      <td>NaN</td>\n",
              "    </tr>\n",
              "    <tr>\n",
              "      <th>201</th>\n",
              "      <td>NaN</td>\n",
              "      <td>NaN</td>\n",
              "      <td>NaN</td>\n",
              "      <td>NaN</td>\n",
              "      <td>NaN</td>\n",
              "      <td>NaN</td>\n",
              "      <td>NaN</td>\n",
              "      <td>NaN</td>\n",
              "      <td>NaN</td>\n",
              "      <td>NaN</td>\n",
              "      <td>NaN</td>\n",
              "      <td>NaN</td>\n",
              "      <td>NaN</td>\n",
              "      <td>NaN</td>\n",
              "    </tr>\n",
              "    <tr>\n",
              "      <th>212</th>\n",
              "      <td>NaN</td>\n",
              "      <td>NaN</td>\n",
              "      <td>NaN</td>\n",
              "      <td>NaN</td>\n",
              "      <td>NaN</td>\n",
              "      <td>NaN</td>\n",
              "      <td>NaN</td>\n",
              "      <td>NaN</td>\n",
              "      <td>NaN</td>\n",
              "      <td>NaN</td>\n",
              "      <td>NaN</td>\n",
              "      <td>NaN</td>\n",
              "      <td>NaN</td>\n",
              "      <td>NaN</td>\n",
              "    </tr>\n",
              "    <tr>\n",
              "      <th>213</th>\n",
              "      <td>NaN</td>\n",
              "      <td>NaN</td>\n",
              "      <td>NaN</td>\n",
              "      <td>NaN</td>\n",
              "      <td>NaN</td>\n",
              "      <td>NaN</td>\n",
              "      <td>NaN</td>\n",
              "      <td>NaN</td>\n",
              "      <td>NaN</td>\n",
              "      <td>NaN</td>\n",
              "      <td>NaN</td>\n",
              "      <td>NaN</td>\n",
              "      <td>NaN</td>\n",
              "      <td>NaN</td>\n",
              "    </tr>\n",
              "    <tr>\n",
              "      <th>223</th>\n",
              "      <td>53.0</td>\n",
              "      <td>M</td>\n",
              "      <td>asp</td>\n",
              "      <td>123.0</td>\n",
              "      <td>282.0</td>\n",
              "      <td>no</td>\n",
              "      <td>0.0</td>\n",
              "      <td>95.0</td>\n",
              "      <td>1.0</td>\n",
              "      <td>2.0</td>\n",
              "      <td>2.0</td>\n",
              "      <td>NaN</td>\n",
              "      <td>7.0</td>\n",
              "      <td>3.0</td>\n",
              "    </tr>\n",
              "    <tr>\n",
              "      <th>228</th>\n",
              "      <td>54.0</td>\n",
              "      <td>M</td>\n",
              "      <td>asp</td>\n",
              "      <td>110.0</td>\n",
              "      <td>NaN</td>\n",
              "      <td>no</td>\n",
              "      <td>2.0</td>\n",
              "      <td>108.0</td>\n",
              "      <td>1.0</td>\n",
              "      <td>0.0</td>\n",
              "      <td>2.0</td>\n",
              "      <td>1.0</td>\n",
              "      <td>3.0</td>\n",
              "      <td>3.0</td>\n",
              "    </tr>\n",
              "    <tr>\n",
              "      <th>290</th>\n",
              "      <td>67.0</td>\n",
              "      <td>M</td>\n",
              "      <td>nap</td>\n",
              "      <td>152.0</td>\n",
              "      <td>212.0</td>\n",
              "      <td>no</td>\n",
              "      <td>2.0</td>\n",
              "      <td>NaN</td>\n",
              "      <td>0.0</td>\n",
              "      <td>0.8</td>\n",
              "      <td>2.0</td>\n",
              "      <td>0.0</td>\n",
              "      <td>7.0</td>\n",
              "      <td>1.0</td>\n",
              "    </tr>\n",
              "    <tr>\n",
              "      <th>300</th>\n",
              "      <td>NaN</td>\n",
              "      <td>NaN</td>\n",
              "      <td>NaN</td>\n",
              "      <td>NaN</td>\n",
              "      <td>NaN</td>\n",
              "      <td>NaN</td>\n",
              "      <td>NaN</td>\n",
              "      <td>NaN</td>\n",
              "      <td>NaN</td>\n",
              "      <td>NaN</td>\n",
              "      <td>NaN</td>\n",
              "      <td>NaN</td>\n",
              "      <td>NaN</td>\n",
              "      <td>NaN</td>\n",
              "    </tr>\n",
              "  </tbody>\n",
              "</table>\n",
              "</div>"
            ],
            "text/plain": [
              "      age  sex   cp  trestbps   chol  ... oldpeak  slope   ca  thal  state\n",
              "6    62.0    F  NaN     140.0  268.0  ...     3.6    3.0  2.0   3.0    3.0\n",
              "16    NaN  NaN  NaN       NaN    NaN  ...     NaN    NaN  NaN   NaN    NaN\n",
              "55    NaN  NaN  NaN       NaN    NaN  ...     NaN    NaN  NaN   NaN    NaN\n",
              "67   54.0    M  nap     150.0  232.0  ...     1.6    1.0  0.0   7.0    NaN\n",
              "114   NaN  NaN  NaN       NaN    NaN  ...     NaN    NaN  NaN   NaN    NaN\n",
              "165  57.0    M  asp     132.0  207.0  ...     0.0    1.0  NaN   7.0    NaN\n",
              "187   NaN  NaN  NaN       NaN    NaN  ...     NaN    NaN  NaN   NaN    NaN\n",
              "201   NaN  NaN  NaN       NaN    NaN  ...     NaN    NaN  NaN   NaN    NaN\n",
              "212   NaN  NaN  NaN       NaN    NaN  ...     NaN    NaN  NaN   NaN    NaN\n",
              "213   NaN  NaN  NaN       NaN    NaN  ...     NaN    NaN  NaN   NaN    NaN\n",
              "223  53.0    M  asp     123.0  282.0  ...     2.0    2.0  NaN   7.0    3.0\n",
              "228  54.0    M  asp     110.0    NaN  ...     0.0    2.0  1.0   3.0    3.0\n",
              "290  67.0    M  nap     152.0  212.0  ...     0.8    2.0  0.0   7.0    1.0\n",
              "300   NaN  NaN  NaN       NaN    NaN  ...     NaN    NaN  NaN   NaN    NaN\n",
              "\n",
              "[14 rows x 14 columns]"
            ]
          },
          "metadata": {
            "tags": []
          },
          "execution_count": 7
        }
      ]
    },
    {
      "cell_type": "code",
      "metadata": {
        "colab": {
          "base_uri": "https://localhost:8080/"
        },
        "id": "0cVoJpo5jj9k",
        "outputId": "1a9938b2-3180-466c-e4f9-bca06df6d77d"
      },
      "source": [
        "# replaces all continous NaN columns with minumum value\n",
        "heart_df2 = heart_df1.fillna(heart_df1.min())\n",
        "print(heart_df2.shape)\n",
        "print(heart_df2)"
      ],
      "execution_count": null,
      "outputs": [
        {
          "output_type": "stream",
          "text": [
            "(143, 14)\n",
            "      age  sex   cp  trestbps   chol  ... oldpeak  slope   ca  thal  state\n",
            "1    67.0    M  asp     160.0  286.0  ...     1.5    2.0  3.0   3.0    2.0\n",
            "2    67.0    M  asp     120.0  229.0  ...     2.6    2.0  2.0   7.0    1.0\n",
            "6    62.0    F  NaN     140.0  268.0  ...     3.6    3.0  2.0   3.0    3.0\n",
            "8    63.0    M  asp     130.0  254.0  ...     1.4    2.0  1.0   7.0    2.0\n",
            "9    53.0    M  asp     140.0  203.0  ...     3.1    3.0  0.0   7.0    1.0\n",
            "..    ...  ...  ...       ...    ...  ...     ...    ...  ...   ...    ...\n",
            "297  57.0    F  asp     140.0  241.0  ...     0.2    2.0  0.0   7.0    1.0\n",
            "298  45.0    M  tap     110.0  264.0  ...     1.2    2.0  0.0   7.0    1.0\n",
            "299  68.0    M  asp     144.0  193.0  ...     3.4    2.0  2.0   7.0    2.0\n",
            "300  35.0  NaN  NaN     100.0  149.0  ...     0.0    1.0  0.0   0.0    1.0\n",
            "301  57.0    F  aap     130.0  236.0  ...     0.0    2.0  1.0   3.0    1.0\n",
            "\n",
            "[143 rows x 14 columns]\n"
          ],
          "name": "stdout"
        }
      ]
    },
    {
      "cell_type": "code",
      "metadata": {
        "colab": {
          "base_uri": "https://localhost:8080/"
        },
        "id": "R76ez_h6l5h4",
        "outputId": "39a949db-841e-4f25-93ac-62b63319c40a"
      },
      "source": [
        "#removes any NaN catergoricals left in csv\n",
        "heart_df3 = heart_df2.dropna()\n",
        "print(heart_df3.shape)\n",
        "print(heart_df3)"
      ],
      "execution_count": null,
      "outputs": [
        {
          "output_type": "stream",
          "text": [
            "(134, 14)\n",
            "      age sex   cp  trestbps   chol  ... oldpeak  slope   ca  thal  state\n",
            "1    67.0   M  asp     160.0  286.0  ...     1.5    2.0  3.0   3.0    2.0\n",
            "2    67.0   M  asp     120.0  229.0  ...     2.6    2.0  2.0   7.0    1.0\n",
            "8    63.0   M  asp     130.0  254.0  ...     1.4    2.0  1.0   7.0    2.0\n",
            "9    53.0   M  asp     140.0  203.0  ...     3.1    3.0  0.0   7.0    1.0\n",
            "12   56.0   M  nap     130.0  256.0  ...     0.6    2.0  1.0   6.0    2.0\n",
            "..    ...  ..  ...       ...    ...  ...     ...    ...  ...   ...    ...\n",
            "296  59.0   M  asp     164.0  176.0  ...     1.0    2.0  2.0   6.0    3.0\n",
            "297  57.0   F  asp     140.0  241.0  ...     0.2    2.0  0.0   7.0    1.0\n",
            "298  45.0   M  tap     110.0  264.0  ...     1.2    2.0  0.0   7.0    1.0\n",
            "299  68.0   M  asp     144.0  193.0  ...     3.4    2.0  2.0   7.0    2.0\n",
            "301  57.0   F  aap     130.0  236.0  ...     0.0    2.0  1.0   3.0    1.0\n",
            "\n",
            "[134 rows x 14 columns]\n"
          ],
          "name": "stdout"
        }
      ]
    },
    {
      "cell_type": "code",
      "metadata": {
        "colab": {
          "base_uri": "https://localhost:8080/"
        },
        "id": "oH8BG1wrzH5W",
        "outputId": "d01de5dd-ba5c-42fa-90d2-0c3ac1ac9ab7"
      },
      "source": [
        "#The median BEFORE/AFTER removing Nan\n",
        "print(\"The median BEFORE removing Nan\")\n",
        "print(heart_df2.median(axis=0))\n",
        "print(\"The median AFTER removing Nan\")\n",
        "print(heart_df3.median(axis=0))"
      ],
      "execution_count": null,
      "outputs": [
        {
          "output_type": "stream",
          "text": [
            "The median BEFORE removing Nan\n",
            "age          57.0\n",
            "trestbps    130.0\n",
            "chol        247.0\n",
            "restecg       2.0\n",
            "thalach     141.0\n",
            "exang         1.0\n",
            "oldpeak       1.4\n",
            "slope         2.0\n",
            "ca            1.0\n",
            "thal          7.0\n",
            "state         2.0\n",
            "dtype: float64\n",
            "The median AFTER removing Nan\n",
            "age          58.0\n",
            "trestbps    131.0\n",
            "chol        249.0\n",
            "restecg       2.0\n",
            "thalach     142.0\n",
            "exang         1.0\n",
            "oldpeak       1.4\n",
            "slope         2.0\n",
            "ca            1.0\n",
            "thal          7.0\n",
            "state         2.0\n",
            "dtype: float64\n"
          ],
          "name": "stdout"
        }
      ]
    },
    {
      "cell_type": "markdown",
      "metadata": {
        "id": "e364xTEf8stk"
      },
      "source": [
        "# DATA TYPES"
      ]
    },
    {
      "cell_type": "code",
      "metadata": {
        "colab": {
          "base_uri": "https://localhost:8080/"
        },
        "id": "TnLTNV9PCQrv",
        "outputId": "6a3466e4-56d6-4e46-8338-86867a7b1c85"
      },
      "source": [
        "#check which values can be turned from float to int\n",
        "print(heart_df3.head(20))\n",
        "print(heart_df3.dtypes)"
      ],
      "execution_count": null,
      "outputs": [
        {
          "output_type": "stream",
          "text": [
            "     age sex   cp  trestbps   chol  ... oldpeak  slope   ca  thal  state\n",
            "1   67.0   M  asp     160.0  286.0  ...     1.5    2.0  3.0   3.0    2.0\n",
            "2   67.0   M  asp     120.0  229.0  ...     2.6    2.0  2.0   7.0    1.0\n",
            "8   63.0   M  asp     130.0  254.0  ...     1.4    2.0  1.0   7.0    2.0\n",
            "9   53.0   M  asp     140.0  203.0  ...     3.1    3.0  0.0   7.0    1.0\n",
            "12  56.0   M  nap     130.0  256.0  ...     0.6    2.0  1.0   6.0    2.0\n",
            "22  58.0   M  aap     120.0  284.0  ...     1.8    2.0  0.0   3.0    1.0\n",
            "23  58.0   M  nap     132.0  224.0  ...     3.2    1.0  2.0   7.0    3.0\n",
            "24  60.0   M  asp     130.0  206.0  ...     2.4    2.0  2.0   7.0    4.0\n",
            "29  40.0   M  asp     110.0  167.0  ...     2.0    2.0  0.0   7.0    3.0\n",
            "31  60.0   M  asp     117.0  230.0  ...     1.4    1.0  2.0   7.0    2.0\n",
            "32  64.0   M  nap     140.0  335.0  ...     0.0    1.0  0.0   3.0    1.0\n",
            "36  43.0   M  asp     120.0  177.0  ...     2.5    2.0  0.0   7.0    3.0\n",
            "37  57.0   M  asp     150.0  276.0  ...     0.6    2.0  1.0   6.0    1.0\n",
            "38  55.0   M  asp     132.0  353.0  ...     1.2    2.0  1.0   7.0    3.0\n",
            "40  65.0   F  asp     150.0  225.0  ...     1.0    2.0  3.0   7.0    4.0\n",
            "44  61.0   F  asp     130.0  330.0  ...     0.0    1.0  0.0   3.0    1.0\n",
            "45  58.0   M  nap     112.0  230.0  ...     2.5    2.0  1.0   7.0    4.0\n",
            "47  50.0   M  asp     150.0  243.0  ...     2.6    2.0  0.0   7.0    4.0\n",
            "52  44.0   M  asp     112.0  290.0  ...     0.0    1.0  1.0   3.0    2.0\n",
            "54  60.0   M  asp     130.0  253.0  ...     1.4    1.0  1.0   7.0    1.0\n",
            "\n",
            "[20 rows x 14 columns]\n",
            "age         float64\n",
            "sex          object\n",
            "cp           object\n",
            "trestbps    float64\n",
            "chol        float64\n",
            "fbs          object\n",
            "restecg     float64\n",
            "thalach     float64\n",
            "exang       float64\n",
            "oldpeak     float64\n",
            "slope       float64\n",
            "ca          float64\n",
            "thal        float64\n",
            "state       float64\n",
            "dtype: object\n"
          ],
          "name": "stdout"
        }
      ]
    },
    {
      "cell_type": "code",
      "metadata": {
        "colab": {
          "base_uri": "https://localhost:8080/"
        },
        "id": "Qu1NrdVwHhXZ",
        "outputId": "5e0cc415-dd19-494f-8c61-9bed8de6e7fc"
      },
      "source": [
        "#changing floats to int\n",
        "heart_df3[[\"age\",\"trestbps\",\"chol\",\"restecg\",\"thalach\",\"exang\",\"slope\",\"ca\",\"thal\",\"state\"]] = heart_df3[[\"age\",\"trestbps\",\"chol\",\"restecg\",\"thalach\",\"exang\",\"slope\",\"ca\",\"thal\",\"state\"]].astype(int)\n",
        "# print all the varibles that have changed to INT\n",
        "print(heart_df3.select_dtypes(int).columns)\n"
      ],
      "execution_count": null,
      "outputs": [
        {
          "output_type": "stream",
          "text": [
            "Index(['age', 'trestbps', 'chol', 'restecg', 'thalach', 'exang', 'slope', 'ca',\n",
            "       'thal', 'state'],\n",
            "      dtype='object')\n"
          ],
          "name": "stdout"
        },
        {
          "output_type": "stream",
          "text": [
            "/usr/local/lib/python3.7/dist-packages/pandas/core/frame.py:3069: SettingWithCopyWarning: \n",
            "A value is trying to be set on a copy of a slice from a DataFrame.\n",
            "Try using .loc[row_indexer,col_indexer] = value instead\n",
            "\n",
            "See the caveats in the documentation: https://pandas.pydata.org/pandas-docs/stable/user_guide/indexing.html#returning-a-view-versus-a-copy\n",
            "  self[k1] = value[k2]\n"
          ],
          "name": "stderr"
        }
      ]
    },
    {
      "cell_type": "markdown",
      "metadata": {
        "id": "uSlRhhgvLcnB"
      },
      "source": [
        "# CHECKING MALES/FEMALE HIGH RISK"
      ]
    },
    {
      "cell_type": "code",
      "metadata": {
        "colab": {
          "base_uri": "https://localhost:8080/"
        },
        "id": "iIoaiIn1LfIe",
        "outputId": "5e1a3b61-7333-4878-f4b7-070628791ca7"
      },
      "source": [
        "heart_df4 = heart_df3[heart_df.state == 4]\n",
        "total = heart_df3.state[heart_df.state == 4].count()\n",
        "male = heart_df4.sex[heart_df4.sex == \"M\"].count()/total*100\n",
        "female = heart_df4.sex[heart_df4.sex == \"F\"].count()/total*100\n",
        "print(heart_df4.head(20))"
      ],
      "execution_count": null,
      "outputs": [
        {
          "output_type": "stream",
          "text": [
            "     age sex   cp  trestbps  chol  fbs  ...  exang  oldpeak  slope  ca  thal  state\n",
            "24    60   M  asp       130   206   no  ...      1      2.4      2   2     7      4\n",
            "40    65   F  asp       150   225   no  ...      0      1.0      2   3     7      4\n",
            "45    58   M  nap       112   230   no  ...      0      2.5      2   1     7      4\n",
            "47    50   M  asp       150   243   no  ...      0      2.6      2   0     7      4\n",
            "121   63   F  asp       150   407   no  ...      0      4.0      2   3     7      4\n",
            "136   70   M  asp       145   174   no  ...      1      2.6      3   0     7      4\n",
            "146   57   M  asp       165   289  yes  ...      0      1.0      2   3     7      4\n",
            "153   55   M  asp       160   289   no  ...      1      0.8      2   1     7      4\n",
            "161   77   M  asp       125   304   no  ...      1      0.0      1   3     3      4\n",
            "174   64   M  asp       145   212   no  ...      0      2.0      2   2     6      4\n",
            "211   38   M  tap       120   231   no  ...      1      3.8      2   0     7      4\n",
            "264   61   M  asp       138   166   no  ...      1      3.6      2   1     3      4\n",
            "285   58   M  asp       114   318   no  ...      0      4.4      3   3     6      4\n",
            "\n",
            "[13 rows x 14 columns]\n"
          ],
          "name": "stdout"
        },
        {
          "output_type": "stream",
          "text": [
            "/usr/local/lib/python3.7/dist-packages/ipykernel_launcher.py:1: UserWarning: Boolean Series key will be reindexed to match DataFrame index.\n",
            "  \"\"\"Entry point for launching an IPython kernel.\n"
          ],
          "name": "stderr"
        }
      ]
    },
    {
      "cell_type": "code",
      "metadata": {
        "colab": {
          "base_uri": "https://localhost:8080/"
        },
        "id": "iPvWtW-MOEgq",
        "outputId": "203495df-3080-4dc5-c452-c9904c49cc09"
      },
      "source": [
        "print(\"There are a total of \"+ str(total) + \" people who are at the highest risk\")\n",
        "print(\"The ratio of females who are at highest risk is \" + str(female) + \"%\" )\n",
        "print(\"The ratio of male who are at highest risk is \" + str(male) + \"%\" )"
      ],
      "execution_count": null,
      "outputs": [
        {
          "output_type": "stream",
          "text": [
            "There are a total of 13 people who are at the highest risk\n",
            "The ratio of females who are at highest risk is 15.384615384615385%\n",
            "The ratio of male who are at highest risk is 84.61538461538461%\n"
          ],
          "name": "stdout"
        }
      ]
    },
    {
      "cell_type": "markdown",
      "metadata": {
        "id": "dKBIkRh1R8eJ"
      },
      "source": [
        "# CHECKING PATERNS BETWEEN thalach VS state"
      ]
    },
    {
      "cell_type": "code",
      "metadata": {
        "colab": {
          "base_uri": "https://localhost:8080/",
          "height": 282
        },
        "id": "ALfhdNHwSAuT",
        "outputId": "5de3e9e1-9f63-4762-be76-3500370b689d"
      },
      "source": [
        "x = heart_df3[\"thalach\"]\n",
        "y = heart_df3[\"state\"]\n",
        "plt.scatter(x,y)"
      ],
      "execution_count": null,
      "outputs": [
        {
          "output_type": "execute_result",
          "data": {
            "text/plain": [
              "<matplotlib.collections.PathCollection at 0x7f08611d0110>"
            ]
          },
          "metadata": {
            "tags": []
          },
          "execution_count": 15
        },
        {
          "output_type": "display_data",
          "data": {
            "image/png": "[encoded data removed]",
            "text/plain": [
              "<Figure size 432x288 with 1 Axes>"
            ]
          },
          "metadata": {
            "tags": [],
            "needs_background": "light"
          }
        }
      ]
    },
    {
      "cell_type": "code",
      "metadata": {
        "id": "7Vi2MOyVR7hG"
      },
      "source": [
        "#from the given data and scatter plot there does not seem to appear to have any relationship bewteen state and thalach"
      ],
      "execution_count": 1,
      "outputs": []
    },
    {
      "cell_type": "markdown",
      "metadata": {
        "id": "UkbWOfgmUxRl"
      },
      "source": [
        "# FINDING MEAN BASED ON CHO\n"
      ]
    },
    {
      "cell_type": "code",
      "metadata": {
        "colab": {
          "base_uri": "https://localhost:8080/",
          "height": 236
        },
        "id": "hE8rcFg5U1AM",
        "outputId": "0971f5d3-b9b3-4942-bb55-c5d4836fdf24"
      },
      "source": [
        "male_block = heart_df3[heart_df3.sex == \"M\"]\n",
        "female_block = heart_df3[heart_df3.sex == \"F\"]\n",
        "print(\"The Average cholesterol level in males for 0 blocked is \" + str(male_block.chol[male_block.ca == 0].mean()) + \" mg/dl\")\n",
        "print(\"The Average cholesterol level in males for 1 blocked is \" + str(male_block.chol[male_block.ca == 1].mean()) + \" mg/dl\")\n",
        "print(\"The Average cholesterol level in males for 2 blocked is \" + str(male_block.chol[male_block.ca == 2].mean()) + \" mg/dl\")\n",
        "print(\"The Average cholesterol level in males for 3 blocked is \" + str(male_block.chol[male_block.ca == 3].mean()) + \" mg/dl\")\n",
        "print(\"----------------------------------------------------------------------------------------------------\")\n",
        "print(\"The Average cholesterol level in females for 0 blocked is \" + str(female_block.chol[female_block.ca == 0].mean()) + \" mg/dl\")\n",
        "print(\"The Average cholesterol level in females for 1 blocked is \" + str(female_block.chol[female_block.ca == 1].mean()) + \" mg/dl\")\n",
        "print(\"The Average cholesterol level in females for 2 blocked is \" + str(female_block.chol[female_block.ca == 2].mean()) + \" mg/dl\")\n",
        "print(\"The Average cholesterol level in females for 3 blocked is \" + str(female_block.chol[female_block.ca == 3].mean()) + \" mg/dl\")\n",
        "print(\"----------------------------------------------------------------------------------------------------\")\n",
        "print(\"An increase in blocked vessels correlates with an average increase in choleserol in males, However it is not a linear relationship with females and a linear correlation cannot be established \")"
      ],
      "execution_count": 2,
      "outputs": [
        {
          "output_type": "error",
          "ename": "NameError",
          "evalue": "ignored",
          "traceback": [
            "\u001b[0;31m---------------------------------------------------------------------------\u001b[0m",
            "\u001b[0;31mNameError\u001b[0m                                 Traceback (most recent call last)",
            "\u001b[0;32m<ipython-input-2-f9391ce7384a>\u001b[0m in \u001b[0;36m<module>\u001b[0;34m()\u001b[0m\n\u001b[0;32m----> 1\u001b[0;31m \u001b[0mmale_block\u001b[0m \u001b[0;34m=\u001b[0m \u001b[0mheart_df3\u001b[0m\u001b[0;34m[\u001b[0m\u001b[0mheart_df3\u001b[0m\u001b[0;34m.\u001b[0m\u001b[0msex\u001b[0m \u001b[0;34m==\u001b[0m \u001b[0;34m\"M\"\u001b[0m\u001b[0;34m]\u001b[0m\u001b[0;34m\u001b[0m\u001b[0;34m\u001b[0m\u001b[0m\n\u001b[0m\u001b[1;32m      2\u001b[0m \u001b[0mfemale_block\u001b[0m \u001b[0;34m=\u001b[0m \u001b[0mheart_df3\u001b[0m\u001b[0;34m[\u001b[0m\u001b[0mheart_df3\u001b[0m\u001b[0;34m.\u001b[0m\u001b[0msex\u001b[0m \u001b[0;34m==\u001b[0m \u001b[0;34m\"F\"\u001b[0m\u001b[0;34m]\u001b[0m\u001b[0;34m\u001b[0m\u001b[0;34m\u001b[0m\u001b[0m\n\u001b[1;32m      3\u001b[0m \u001b[0mprint\u001b[0m\u001b[0;34m(\u001b[0m\u001b[0;34m\"The Average cholesterol level in males for 0 blocked is \"\u001b[0m \u001b[0;34m+\u001b[0m \u001b[0mstr\u001b[0m\u001b[0;34m(\u001b[0m\u001b[0mmale_block\u001b[0m\u001b[0;34m.\u001b[0m\u001b[0mchol\u001b[0m\u001b[0;34m[\u001b[0m\u001b[0mmale_block\u001b[0m\u001b[0;34m.\u001b[0m\u001b[0mca\u001b[0m \u001b[0;34m==\u001b[0m \u001b[0;36m0\u001b[0m\u001b[0;34m]\u001b[0m\u001b[0;34m.\u001b[0m\u001b[0mmean\u001b[0m\u001b[0;34m(\u001b[0m\u001b[0;34m)\u001b[0m\u001b[0;34m)\u001b[0m \u001b[0;34m+\u001b[0m \u001b[0;34m\" mg/dl\"\u001b[0m\u001b[0;34m)\u001b[0m\u001b[0;34m\u001b[0m\u001b[0;34m\u001b[0m\u001b[0m\n\u001b[1;32m      4\u001b[0m \u001b[0mprint\u001b[0m\u001b[0;34m(\u001b[0m\u001b[0;34m\"The Average cholesterol level in males for 1 blocked is \"\u001b[0m \u001b[0;34m+\u001b[0m \u001b[0mstr\u001b[0m\u001b[0;34m(\u001b[0m\u001b[0mmale_block\u001b[0m\u001b[0;34m.\u001b[0m\u001b[0mchol\u001b[0m\u001b[0;34m[\u001b[0m\u001b[0mmale_block\u001b[0m\u001b[0;34m.\u001b[0m\u001b[0mca\u001b[0m \u001b[0;34m==\u001b[0m \u001b[0;36m1\u001b[0m\u001b[0;34m]\u001b[0m\u001b[0;34m.\u001b[0m\u001b[0mmean\u001b[0m\u001b[0;34m(\u001b[0m\u001b[0;34m)\u001b[0m\u001b[0;34m)\u001b[0m \u001b[0;34m+\u001b[0m \u001b[0;34m\" mg/dl\"\u001b[0m\u001b[0;34m)\u001b[0m\u001b[0;34m\u001b[0m\u001b[0;34m\u001b[0m\u001b[0m\n\u001b[1;32m      5\u001b[0m \u001b[0mprint\u001b[0m\u001b[0;34m(\u001b[0m\u001b[0;34m\"The Average cholesterol level in males for 2 blocked is \"\u001b[0m \u001b[0;34m+\u001b[0m \u001b[0mstr\u001b[0m\u001b[0;34m(\u001b[0m\u001b[0mmale_block\u001b[0m\u001b[0;34m.\u001b[0m\u001b[0mchol\u001b[0m\u001b[0;34m[\u001b[0m\u001b[0mmale_block\u001b[0m\u001b[0;34m.\u001b[0m\u001b[0mca\u001b[0m \u001b[0;34m==\u001b[0m \u001b[0;36m2\u001b[0m\u001b[0;34m]\u001b[0m\u001b[0;34m.\u001b[0m\u001b[0mmean\u001b[0m\u001b[0;34m(\u001b[0m\u001b[0;34m)\u001b[0m\u001b[0;34m)\u001b[0m \u001b[0;34m+\u001b[0m \u001b[0;34m\" mg/dl\"\u001b[0m\u001b[0;34m)\u001b[0m\u001b[0;34m\u001b[0m\u001b[0;34m\u001b[0m\u001b[0m\n",
            "\u001b[0;31mNameError\u001b[0m: name 'heart_df3' is not defined"
          ]
        }
      ]
    },
    {
      "cell_type": "markdown",
      "metadata": {
        "id": "scI3mXiAZcMC"
      },
      "source": [
        "# SUB-SELECTING PARTICIPANTS AT RISK"
      ]
    },
    {
      "cell_type": "code",
      "metadata": {
        "colab": {
          "base_uri": "https://localhost:8080/",
          "height": 419
        },
        "id": "d6pdXsXuZg-u",
        "outputId": "4101df3e-d54a-4ed8-ec60-9ad2cd4485ae"
      },
      "source": [
        "heart_df3"
      ],
      "execution_count": null,
      "outputs": [
        {
          "output_type": "execute_result",
          "data": {
            "text/html": [
              "<div>\n",
              "<style scoped>\n",
              "    .dataframe tbody tr th:only-of-type {\n",
              "        vertical-align: middle;\n",
              "    }\n",
              "\n",
              "    .dataframe tbody tr th {\n",
              "        vertical-align: top;\n",
              "    }\n",
              "\n",
              "    .dataframe thead th {\n",
              "        text-align: right;\n",
              "    }\n",
              "</style>\n",
              "<table border=\"1\" class=\"dataframe\">\n",
              "  <thead>\n",
              "    <tr style=\"text-align: right;\">\n",
              "      <th></th>\n",
              "      <th>age</th>\n",
              "      <th>sex</th>\n",
              "      <th>cp</th>\n",
              "      <th>trestbps</th>\n",
              "      <th>chol</th>\n",
              "      <th>fbs</th>\n",
              "      <th>restecg</th>\n",
              "      <th>thalach</th>\n",
              "      <th>exang</th>\n",
              "      <th>oldpeak</th>\n",
              "      <th>slope</th>\n",
              "      <th>ca</th>\n",
              "      <th>thal</th>\n",
              "      <th>state</th>\n",
              "    </tr>\n",
              "  </thead>\n",
              "  <tbody>\n",
              "    <tr>\n",
              "      <th>1</th>\n",
              "      <td>67</td>\n",
              "      <td>M</td>\n",
              "      <td>asp</td>\n",
              "      <td>160</td>\n",
              "      <td>286</td>\n",
              "      <td>no</td>\n",
              "      <td>2</td>\n",
              "      <td>108</td>\n",
              "      <td>1</td>\n",
              "      <td>1.5</td>\n",
              "      <td>2</td>\n",
              "      <td>3</td>\n",
              "      <td>3</td>\n",
              "      <td>2</td>\n",
              "    </tr>\n",
              "    <tr>\n",
              "      <th>2</th>\n",
              "      <td>67</td>\n",
              "      <td>M</td>\n",
              "      <td>asp</td>\n",
              "      <td>120</td>\n",
              "      <td>229</td>\n",
              "      <td>no</td>\n",
              "      <td>2</td>\n",
              "      <td>129</td>\n",
              "      <td>1</td>\n",
              "      <td>2.6</td>\n",
              "      <td>2</td>\n",
              "      <td>2</td>\n",
              "      <td>7</td>\n",
              "      <td>1</td>\n",
              "    </tr>\n",
              "    <tr>\n",
              "      <th>8</th>\n",
              "      <td>63</td>\n",
              "      <td>M</td>\n",
              "      <td>asp</td>\n",
              "      <td>130</td>\n",
              "      <td>254</td>\n",
              "      <td>no</td>\n",
              "      <td>2</td>\n",
              "      <td>147</td>\n",
              "      <td>0</td>\n",
              "      <td>1.4</td>\n",
              "      <td>2</td>\n",
              "      <td>1</td>\n",
              "      <td>7</td>\n",
              "      <td>2</td>\n",
              "    </tr>\n",
              "    <tr>\n",
              "      <th>9</th>\n",
              "      <td>53</td>\n",
              "      <td>M</td>\n",
              "      <td>asp</td>\n",
              "      <td>140</td>\n",
              "      <td>203</td>\n",
              "      <td>yes</td>\n",
              "      <td>2</td>\n",
              "      <td>155</td>\n",
              "      <td>1</td>\n",
              "      <td>3.1</td>\n",
              "      <td>3</td>\n",
              "      <td>0</td>\n",
              "      <td>7</td>\n",
              "      <td>1</td>\n",
              "    </tr>\n",
              "    <tr>\n",
              "      <th>12</th>\n",
              "      <td>56</td>\n",
              "      <td>M</td>\n",
              "      <td>nap</td>\n",
              "      <td>130</td>\n",
              "      <td>256</td>\n",
              "      <td>yes</td>\n",
              "      <td>2</td>\n",
              "      <td>142</td>\n",
              "      <td>1</td>\n",
              "      <td>0.6</td>\n",
              "      <td>2</td>\n",
              "      <td>1</td>\n",
              "      <td>6</td>\n",
              "      <td>2</td>\n",
              "    </tr>\n",
              "    <tr>\n",
              "      <th>...</th>\n",
              "      <td>...</td>\n",
              "      <td>...</td>\n",
              "      <td>...</td>\n",
              "      <td>...</td>\n",
              "      <td>...</td>\n",
              "      <td>...</td>\n",
              "      <td>...</td>\n",
              "      <td>...</td>\n",
              "      <td>...</td>\n",
              "      <td>...</td>\n",
              "      <td>...</td>\n",
              "      <td>...</td>\n",
              "      <td>...</td>\n",
              "      <td>...</td>\n",
              "    </tr>\n",
              "    <tr>\n",
              "      <th>296</th>\n",
              "      <td>59</td>\n",
              "      <td>M</td>\n",
              "      <td>asp</td>\n",
              "      <td>164</td>\n",
              "      <td>176</td>\n",
              "      <td>yes</td>\n",
              "      <td>2</td>\n",
              "      <td>90</td>\n",
              "      <td>0</td>\n",
              "      <td>1.0</td>\n",
              "      <td>2</td>\n",
              "      <td>2</td>\n",
              "      <td>6</td>\n",
              "      <td>3</td>\n",
              "    </tr>\n",
              "    <tr>\n",
              "      <th>297</th>\n",
              "      <td>57</td>\n",
              "      <td>F</td>\n",
              "      <td>asp</td>\n",
              "      <td>140</td>\n",
              "      <td>241</td>\n",
              "      <td>no</td>\n",
              "      <td>0</td>\n",
              "      <td>123</td>\n",
              "      <td>1</td>\n",
              "      <td>0.2</td>\n",
              "      <td>2</td>\n",
              "      <td>0</td>\n",
              "      <td>7</td>\n",
              "      <td>1</td>\n",
              "    </tr>\n",
              "    <tr>\n",
              "      <th>298</th>\n",
              "      <td>45</td>\n",
              "      <td>M</td>\n",
              "      <td>tap</td>\n",
              "      <td>110</td>\n",
              "      <td>264</td>\n",
              "      <td>no</td>\n",
              "      <td>0</td>\n",
              "      <td>132</td>\n",
              "      <td>0</td>\n",
              "      <td>1.2</td>\n",
              "      <td>2</td>\n",
              "      <td>0</td>\n",
              "      <td>7</td>\n",
              "      <td>1</td>\n",
              "    </tr>\n",
              "    <tr>\n",
              "      <th>299</th>\n",
              "      <td>68</td>\n",
              "      <td>M</td>\n",
              "      <td>asp</td>\n",
              "      <td>144</td>\n",
              "      <td>193</td>\n",
              "      <td>yes</td>\n",
              "      <td>0</td>\n",
              "      <td>141</td>\n",
              "      <td>0</td>\n",
              "      <td>3.4</td>\n",
              "      <td>2</td>\n",
              "      <td>2</td>\n",
              "      <td>7</td>\n",
              "      <td>2</td>\n",
              "    </tr>\n",
              "    <tr>\n",
              "      <th>301</th>\n",
              "      <td>57</td>\n",
              "      <td>F</td>\n",
              "      <td>aap</td>\n",
              "      <td>130</td>\n",
              "      <td>236</td>\n",
              "      <td>no</td>\n",
              "      <td>2</td>\n",
              "      <td>174</td>\n",
              "      <td>0</td>\n",
              "      <td>0.0</td>\n",
              "      <td>2</td>\n",
              "      <td>1</td>\n",
              "      <td>3</td>\n",
              "      <td>1</td>\n",
              "    </tr>\n",
              "  </tbody>\n",
              "</table>\n",
              "<p>134 rows × 14 columns</p>\n",
              "</div>"
            ],
            "text/plain": [
              "     age sex   cp  trestbps  chol  fbs  ...  exang  oldpeak  slope  ca  thal  state\n",
              "1     67   M  asp       160   286   no  ...      1      1.5      2   3     3      2\n",
              "2     67   M  asp       120   229   no  ...      1      2.6      2   2     7      1\n",
              "8     63   M  asp       130   254   no  ...      0      1.4      2   1     7      2\n",
              "9     53   M  asp       140   203  yes  ...      1      3.1      3   0     7      1\n",
              "12    56   M  nap       130   256  yes  ...      1      0.6      2   1     6      2\n",
              "..   ...  ..  ...       ...   ...  ...  ...    ...      ...    ...  ..   ...    ...\n",
              "296   59   M  asp       164   176  yes  ...      0      1.0      2   2     6      3\n",
              "297   57   F  asp       140   241   no  ...      1      0.2      2   0     7      1\n",
              "298   45   M  tap       110   264   no  ...      0      1.2      2   0     7      1\n",
              "299   68   M  asp       144   193  yes  ...      0      3.4      2   2     7      2\n",
              "301   57   F  aap       130   236   no  ...      0      0.0      2   1     3      1\n",
              "\n",
              "[134 rows x 14 columns]"
            ]
          },
          "metadata": {
            "tags": []
          },
          "execution_count": 17
        }
      ]
    },
    {
      "cell_type": "code",
      "metadata": {
        "colab": {
          "base_uri": "https://localhost:8080/"
        },
        "id": "qfZYzzrKE4XP",
        "outputId": "2fae1baa-9714-4805-80b6-7a7ab27bb95c"
      },
      "source": [
        "#Finding all patients at risk\n",
        "heart_df5 = heart_df3[heart_df3.state != 0]\n",
        "#finding the total number \n",
        "heart_df5.age.count()\n",
        "#finding abnormal BP ECG pain\n",
        "heart_df6 = heart_df5[(heart_df5[\"cp\"] == \"asp\") & (heart_df5[\"fbs\"] == \"yes\") & (heart_df5[\"restecg\"] != 0 )]\n",
        "print(str(heart_df6.age.count()/heart_df5.age.count()*100)+ \"%\")"
      ],
      "execution_count": null,
      "outputs": [
        {
          "output_type": "stream",
          "text": [
            "8.208955223880597%\n"
          ],
          "name": "stdout"
        }
      ]
    },
    {
      "cell_type": "markdown",
      "metadata": {
        "id": "FdQPu4imE44M"
      },
      "source": [
        "# FINDING AVERAGE"
      ]
    },
    {
      "cell_type": "code",
      "metadata": {
        "colab": {
          "base_uri": "https://localhost:8080/"
        },
        "id": "wCj_kytrJTtL",
        "outputId": "0ca8210e-ba32-42c9-ba7c-57c141a7ed39"
      },
      "source": [
        "heart_df7 = heart_df3[heart_df3.slope == 1]\n",
        "heart_df8 = heart_df3[heart_df3.slope == 3]\n",
        "df_mean1 = heart_df7[\"trestbps\"].mean()\n",
        "df_mean2 = heart_df8[\"trestbps\"].mean()\n",
        "print(\"The average blood pressure for up sloping ST is \" + str(df_mean1))\n",
        "print(\"The average blood pressure for down sloping ST is \" + str(df_mean2))"
      ],
      "execution_count": null,
      "outputs": [
        {
          "output_type": "stream",
          "text": [
            "The average blood pressure for up sloping ST is 131.57894736842104\n",
            "The average blood pressure for down sloping ST is 143.9\n"
          ],
          "name": "stdout"
        }
      ]
    },
    {
      "cell_type": "markdown",
      "metadata": {
        "id": "4llK5Xr6E6JL"
      },
      "source": [
        "# GROUPING PARTICIPANTS BY AGE"
      ]
    },
    {
      "cell_type": "code",
      "metadata": {
        "colab": {
          "base_uri": "https://localhost:8080/"
        },
        "id": "sEdSxduKNUSf",
        "outputId": "70960009-edf9-45ca-e478-47af10743b27"
      },
      "source": [
        "print(heart_df3.age.min())\n",
        "print(heart_df3.age.max())"
      ],
      "execution_count": null,
      "outputs": [
        {
          "output_type": "stream",
          "text": [
            "35\n",
            "77\n"
          ],
          "name": "stdout"
        }
      ]
    },
    {
      "cell_type": "code",
      "metadata": {
        "colab": {
          "base_uri": "https://localhost:8080/"
        },
        "id": "-VVOTciWJM9P",
        "outputId": "f6686a15-a257-455c-cb16-a832471aefb2"
      },
      "source": [
        "heart_data = {'Heart Rate':[heart_df3[(heart_df3[\"age\"] >= 30) & (heart_df3[\"age\"] < 40)].thalach.mean(),\n",
        "                      heart_df3[(heart_df3[\"age\"] >= 40) & (heart_df3[\"age\"] < 50)].thalach.mean(),\n",
        "                      heart_df3[(heart_df3[\"age\"] >= 50) & (heart_df3[\"age\"] < 60)].thalach.mean(), \n",
        "                      heart_df3[(heart_df3[\"age\"] >= 60) & (heart_df3[\"age\"] < 70)].thalach.mean(),\n",
        "                      heart_df3[(heart_df3[\"age\"] >= 70) & (heart_df3[\"age\"] < 80)].thalach.mean()],\n",
        "        'Blood Pressure':[heart_df3[(heart_df3[\"age\"] >= 30) & (heart_df3[\"age\"] < 40)].trestbps.mean(),\n",
        "                          heart_df3[(heart_df3[\"age\"] >= 40) & (heart_df3[\"age\"] < 50)].trestbps.mean(),\n",
        "                          heart_df3[(heart_df3[\"age\"] >= 50) & (heart_df3[\"age\"] < 60)].trestbps.mean(),\n",
        "                          heart_df3[(heart_df3[\"age\"] >= 60) & (heart_df3[\"age\"] < 70)].trestbps.mean(),\n",
        "                          heart_df3[(heart_df3[\"age\"] >= 70) & (heart_df3[\"age\"] < 80)].trestbps.mean()],\n",
        "        'Cholesterol Level':[heart_df3[(heart_df3[\"age\"] >= 30) & (heart_df3[\"age\"] < 40)].chol.mean(),\n",
        "                          heart_df3[(heart_df3[\"age\"] >= 40) & (heart_df3[\"age\"] < 50)].chol.mean(),\n",
        "                          heart_df3[(heart_df3[\"age\"] >= 50) & (heart_df3[\"age\"] < 60)].chol.mean(),\n",
        "                          heart_df3[(heart_df3[\"age\"] >= 60) & (heart_df3[\"age\"] < 70)].chol.mean(),\n",
        "                          heart_df3[(heart_df3[\"age\"] >= 70) & (heart_df3[\"age\"] < 80)].chol.mean()]}\n",
        "\n",
        "heart_df9 = pd.DataFrame(heart_data,index =['29-39 age',\n",
        "                                '40-49 age',\n",
        "                                '50-59 age',\n",
        "                                '60-69 age',\n",
        "                                '70-80 age'])\n",
        "#print the dataframe\n",
        "print(heart_df9)"
      ],
      "execution_count": null,
      "outputs": [
        {
          "output_type": "stream",
          "text": [
            "           Heart Rate  Blood Pressure  Cholesterol Level\n",
            "29-39 age  152.000000      121.000000         232.500000\n",
            "40-49 age  142.476190      124.095238         240.333333\n",
            "50-59 age  139.466667      138.150000         253.800000\n",
            "60-69 age  137.800000      135.022222         254.044444\n",
            "70-80 age  127.000000      140.000000         267.250000\n"
          ],
          "name": "stdout"
        }
      ]
    },
    {
      "cell_type": "markdown",
      "metadata": {
        "id": "oOKIMc2jE9uy"
      },
      "source": [
        "# FINDING RELATIONSHIPS"
      ]
    },
    {
      "cell_type": "code",
      "metadata": {
        "id": "zTNfbKUFOau_"
      },
      "source": [
        "heart_malefemale = {'Male Cholesterol Level':[heart_df3[(heart_df3[\"age\"] >= 30) & (heart_df3[\"age\"] < 40) & (heart_df3[\"sex\"] == \"M\")].chol.mean(),\n",
        "                          heart_df3[(heart_df3[\"age\"] >= 40) & (heart_df3[\"age\"] < 50) & (heart_df3[\"sex\"] == \"M\")].chol.mean(),\n",
        "                          heart_df3[(heart_df3[\"age\"] >= 50) & (heart_df3[\"age\"] < 60) & (heart_df3[\"sex\"] == \"M\")].chol.mean(),\n",
        "                          heart_df3[(heart_df3[\"age\"] >= 60) & (heart_df3[\"age\"] < 70) & (heart_df3[\"sex\"] == \"M\")].chol.mean(),\n",
        "                          heart_df3[(heart_df3[\"age\"] >= 70) & (heart_df3[\"age\"] < 80) & (heart_df3[\"sex\"] == \"M\")].chol.mean()],\n",
        "              'Female Cholesterol Level':[heart_df3[(heart_df3[\"age\"] >= 30) & (heart_df3[\"age\"] < 40) & (heart_df3[\"sex\"] == \"F\")].chol.mean(),\n",
        "                          heart_df3[(heart_df3[\"age\"] >= 40) & (heart_df3[\"age\"] < 50) & (heart_df3[\"sex\"] == \"F\")].chol.mean(),\n",
        "                          heart_df3[(heart_df3[\"age\"] >= 50) & (heart_df3[\"age\"] < 60) & (heart_df3[\"sex\"] == \"F\")].chol.mean(),\n",
        "                          heart_df3[(heart_df3[\"age\"] >= 60) & (heart_df3[\"age\"] < 70) & (heart_df3[\"sex\"] == \"F\")].chol.mean(),\n",
        "                          heart_df3[(heart_df3[\"age\"] >= 70) & (heart_df3[\"age\"] < 80) & (heart_df3[\"sex\"] == \"F\")].chol.mean()]}\n"
      ],
      "execution_count": null,
      "outputs": []
    },
    {
      "cell_type": "code",
      "metadata": {
        "colab": {
          "base_uri": "https://localhost:8080/"
        },
        "id": "YMz5XxnvP9U7",
        "outputId": "0f502ce0-83cf-4d73-fb7b-8ab72d587cea"
      },
      "source": [
        "print(heart_df3[(heart_df3[\"age\"] >= 30) & (heart_df3[\"age\"] < 40) & (heart_df3[\"sex\"] == \"F\")].chol.count())\n",
        "print(heart_df3[(heart_df3[\"age\"] >= 70) & (heart_df3[\"age\"] < 80) & (heart_df3[\"sex\"] == \"F\")].chol.count())\n",
        "heart_df11 = pd.DataFrame(heart_malefemale)\n",
        "#print dataframe with Male and female average cholesterol level\n",
        "print(heart_df11)"
      ],
      "execution_count": null,
      "outputs": [
        {
          "output_type": "stream",
          "text": [
            "0\n",
            "0\n",
            "   Male Cholesterol Level  Female Cholesterol Level\n",
            "0                  232.50                       NaN\n",
            "1                  235.30                341.000000\n",
            "2                  248.48                280.400000\n",
            "3                  248.00                272.727273\n",
            "4                  267.25                       NaN\n"
          ],
          "name": "stdout"
        }
      ]
    },
    {
      "cell_type": "code",
      "metadata": {
        "id": "DHIUEzJtRg0z"
      },
      "source": [
        "# From age 30 -80 as age increases in males the average Male Cholesterol Level increases aswell, positive corelation\n",
        "# From age 40-70 as age increases in female the average Male Cholesterol Level increases aswell, positive corelation\n",
        "# no data for females age 30-40 and 70-80"
      ],
      "execution_count": null,
      "outputs": []
    },
    {
      "cell_type": "markdown",
      "metadata": {
        "id": "mQPwWCClE_yB"
      },
      "source": [
        "# FINDING RELATIONSHIPS "
      ]
    },
    {
      "cell_type": "code",
      "metadata": {
        "id": "ifvd_dueSD7k"
      },
      "source": [
        "x1 = heart_df3[\"chol\"]\n",
        "y1 = heart_df3[\"trestbps\"]\n",
        "x2 = heart_df3[\"chol\"]\n",
        "y2 = heart_df3[\"thalach\"]\n"
      ],
      "execution_count": null,
      "outputs": []
    },
    {
      "cell_type": "code",
      "metadata": {
        "colab": {
          "base_uri": "https://localhost:8080/",
          "height": 281
        },
        "id": "4xgM83RVTTGQ",
        "outputId": "62dd3185-683b-483f-c293-959154b77336"
      },
      "source": [
        "plt.scatter(x1,y1, c='b', label='Blood Pressure')\n",
        "plt.scatter(x2, y2, c='r', label='Heart rate')\n",
        "plt.legend(loc='lower right')\n",
        "plt.title('Blood Pressure vs Cho & Heart rate VS Cho')\n",
        "plt.show()\n"
      ],
      "execution_count": null,
      "outputs": [
        {
          "output_type": "display_data",
          "data": {
            "image/png": "[encoded data removed]",
            "text/plain": [
              "<Figure size 432x288 with 1 Axes>"
            ]
          },
          "metadata": {
            "tags": [],
            "needs_background": "light"
          }
        }
      ]
    },
    {
      "cell_type": "markdown",
      "metadata": {
        "id": "sRW3MDK3FCOr"
      },
      "source": [
        "# FINDING RELATIONSHIPS"
      ]
    },
    {
      "cell_type": "code",
      "metadata": {
        "id": "8tmXOefHWJmU"
      },
      "source": [
        "x3 = [male_block.chol[male_block.ca == 0].mean(),\n",
        "      male_block.chol[male_block.ca == 1].mean(),\n",
        "      male_block.chol[male_block.ca == 2].mean(),\n",
        "      male_block.chol[male_block.ca == 3].mean()]\n",
        "x4 = [female_block.chol[female_block.ca == 0].mean(),\n",
        "      female_block.chol[female_block.ca == 1].mean(),\n",
        "      female_block.chol[female_block.ca == 2].mean(),\n",
        "      female_block.chol[female_block.ca == 3].mean(),]\n",
        "blocked_number = [0,1,2,3]\n",
        "\n"
      ],
      "execution_count": null,
      "outputs": []
    },
    {
      "cell_type": "code",
      "metadata": {
        "colab": {
          "base_uri": "https://localhost:8080/",
          "height": 295
        },
        "id": "eEBGKERfYyGd",
        "outputId": "b99304fd-7903-41f9-ffee-413613aa9578"
      },
      "source": [
        "plt.plot(blocked_number, x3, label = \"Males\")\n",
        "plt.plot(blocked_number, x4, label = \" Females\")\n",
        "plt.xlabel('blocked vessels')\n",
        "plt.ylabel('cholesterol')\n",
        "plt.title(' blocked vessels VS cholesterol for male/female')\n",
        "plt.legend()\n",
        "plt.show()"
      ],
      "execution_count": null,
      "outputs": [
        {
          "output_type": "display_data",
          "data": {
            "image/png": "[encoded data removed]",
            "text/plain": [
              "<Figure size 432x288 with 1 Axes>"
            ]
          },
          "metadata": {
            "tags": [],
            "needs_background": "light"
          }
        }
      ]
    },
    {
      "cell_type": "code",
      "metadata": {
        "id": "o-86FndTZtyo"
      },
      "source": [
        "# Males have lower CHOL levels than females at 0 blocked vessels\n",
        "# Males have higher CHOL levels than females at 1 blocked vessels\n",
        "# Males have lower CHOL levels than females at 2 blocked vessels\n",
        "# Males have the same CHOL levels as females at 3 blocked vessels"
      ],
      "execution_count": null,
      "outputs": []
    },
    {
      "cell_type": "markdown",
      "metadata": {
        "id": "6S64KkKLFDs-"
      },
      "source": [
        "# BINNING GROUPS"
      ]
    },
    {
      "cell_type": "code",
      "metadata": {
        "id": "ges6VbAndwO_"
      },
      "source": [
        "x5 = heart_df9['Heart Rate']\n",
        "x6 = heart_df9['Blood Pressure']\n",
        "age_groups = ['29-39 age',\n",
        "              '40-49 age',\n",
        "              '50-59 age',\n",
        "              '60-69 age',\n",
        "              '70-80 age']\n",
        "\n"
      ],
      "execution_count": null,
      "outputs": []
    },
    {
      "cell_type": "code",
      "metadata": {
        "colab": {
          "base_uri": "https://localhost:8080/",
          "height": 312
        },
        "id": "zWw8d9WRgKF9",
        "outputId": "294b9521-96df-4761-9749-838ea37999ca"
      },
      "source": [
        "plt.bar(age_groups,x5)\n",
        "plt.xlabel('age groups')\n",
        "plt.ylabel('Heart rate')\n",
        "plt.title('Heart rate across age groups ')\n",
        "print(\"As age groups increases average heart rate decreases for all age groups\")"
      ],
      "execution_count": null,
      "outputs": [
        {
          "output_type": "stream",
          "text": [
            "As age groups increases average heart rate decreases for all age groups\n"
          ],
          "name": "stdout"
        },
        {
          "output_type": "display_data",
          "data": {
            "image/png": "[encoded data removed]",
            "text/plain": [
              "<Figure size 432x288 with 1 Axes>"
            ]
          },
          "metadata": {
            "tags": [],
            "needs_background": "light"
          }
        }
      ]
    },
    {
      "cell_type": "code",
      "metadata": {
        "colab": {
          "base_uri": "https://localhost:8080/",
          "height": 312
        },
        "id": "AI7RMz9Sg5WR",
        "outputId": "41ba2373-49af-4f39-a815-b8501d785c23"
      },
      "source": [
        "plt.bar(age_groups,x6)\n",
        "plt.xlabel('age groups')\n",
        "plt.ylabel('Blood Pressure')\n",
        "plt.title('Blood Pressure across age groups ')\n"
      ],
      "execution_count": null,
      "outputs": [
        {
          "output_type": "execute_result",
          "data": {
            "text/plain": [
              "Text(0.5, 1.0, 'Blood Pressure across age groups ')"
            ]
          },
          "metadata": {
            "tags": []
          },
          "execution_count": 32
        },
        {
          "output_type": "display_data",
          "data": {
            "image/png": "[encoded data removed]",
            "text/plain": [
              "<Figure size 432x288 with 1 Axes>"
            ]
          },
          "metadata": {
            "tags": [],
            "needs_background": "light"
          }
        }
      ]
    },
    {
      "cell_type": "code",
      "metadata": {
        "colab": {
          "base_uri": "https://localhost:8080/",
          "height": 312
        },
        "id": "gGoaSxYRh1e9",
        "outputId": "40fe5417-b23c-4931-dd1b-0b44fe51cbf2"
      },
      "source": [
        "            TotalNumber = [heart_df3[(heart_df3[\"age\"] >= 30) & (heart_df3[\"age\"] < 40)].trestbps.count(),\n",
        "                          heart_df3[(heart_df3[\"age\"] >= 40) & (heart_df3[\"age\"] < 50)].trestbps.count(),\n",
        "                          heart_df3[(heart_df3[\"age\"] >= 50) & (heart_df3[\"age\"] < 60)].trestbps.count(),\n",
        "                          heart_df3[(heart_df3[\"age\"] >= 60) & (heart_df3[\"age\"] < 70)].trestbps.count(),\n",
        "                          heart_df3[(heart_df3[\"age\"] >= 70) & (heart_df3[\"age\"] < 80)].trestbps.count()]\n",
        "plt.bar(age_groups,TotalNumber)\n",
        "plt.xlabel('age groups')\n",
        "plt.ylabel('Total Number of patients')\n",
        "plt.title('Total Number across age groups ')            "
      ],
      "execution_count": null,
      "outputs": [
        {
          "output_type": "execute_result",
          "data": {
            "text/plain": [
              "Text(0.5, 1.0, 'Total Number across age groups ')"
            ]
          },
          "metadata": {
            "tags": []
          },
          "execution_count": 33
        },
        {
          "output_type": "display_data",
          "data": {
            "image/png": "[encoded data removed]",
            "text/plain": [
              "<Figure size 432x288 with 1 Axes>"
            ]
          },
          "metadata": {
            "tags": [],
            "needs_background": "light"
          }
        }
      ]
    },
    {
      "cell_type": "code",
      "metadata": {
        "id": "OKaDrSgPhbdG"
      },
      "source": [
        "#As age groups increases average heart rate decreases for all age groups\n",
        "\n",
        "#As age groups increases average Cholesterol level increases for all age groups except \n",
        "# for 60-69 age group for which the average falls below the 50-59 age group\n",
        "\n",
        "# the number of total patients increases in the range from 29-59\n",
        "#then decreases from 59 - 80 years old \n",
        "\n"
      ],
      "execution_count": null,
      "outputs": []
    },
    {
      "cell_type": "markdown",
      "metadata": {
        "id": "-saav50VFFtD"
      },
      "source": [
        "# SUBGROUPING FEMALE/MALES AT RISK"
      ]
    },
    {
      "cell_type": "code",
      "metadata": {
        "id": "Fh4cBZqWFHLR"
      },
      "source": [
        "num_male_patients = [heart_df3.age[(heart_df3[\"age\"] >= 30) & (heart_df3[\"age\"] < 40) & (heart_df3[\"sex\"] == \"M\")].count(),\n",
        "                       heart_df3.age[(heart_df3[\"age\"] >= 40) & (heart_df3[\"age\"] < 50) & (heart_df3[\"sex\"] == \"M\")].count(),\n",
        "                       heart_df3.age[(heart_df3[\"age\"] >= 50) & (heart_df3[\"age\"] < 60) & (heart_df3[\"sex\"] == \"M\")].count(),\n",
        "                       heart_df3.age[(heart_df3[\"age\"] >= 60) & (heart_df3[\"age\"] < 70) & (heart_df3[\"sex\"] == \"M\")].count(),\n",
        "                       heart_df3.age[(heart_df3[\"age\"] >= 70) & (heart_df3[\"age\"] < 80) & (heart_df3[\"sex\"] == \"M\")].count()]\n",
        "\n",
        "num_female_patients = [heart_df3.age[(heart_df3[\"age\"] >= 30) & (heart_df3[\"age\"] < 40) & (heart_df3[\"sex\"] == \"F\")].count(),\n",
        "                       heart_df3.age[(heart_df3[\"age\"] >= 40) & (heart_df3[\"age\"] < 50) & (heart_df3[\"sex\"] == \"F\")].count(),\n",
        "                       heart_df3.age[(heart_df3[\"age\"] >= 50) & (heart_df3[\"age\"] < 60) & (heart_df3[\"sex\"] == \"F\")].count(),\n",
        "                       heart_df3.age[(heart_df3[\"age\"] >= 60) & (heart_df3[\"age\"] < 70) & (heart_df3[\"sex\"] == \"F\")].count(),\n",
        "                       heart_df3.age[(heart_df3[\"age\"] >= 70) & (heart_df3[\"age\"] < 80) & (heart_df3[\"sex\"] == \"F\")].count()]\n",
        "heart_df9['num_male_patients'] = num_male_patients\n",
        "heart_df9['num_female_patients'] = num_female_patients\n",
        "\n",
        " \n",
        "\n"
      ],
      "execution_count": null,
      "outputs": []
    },
    {
      "cell_type": "code",
      "metadata": {
        "id": "OvEfIHhYoPPJ"
      },
      "source": [
        "#save the csv to same directory \n",
        "heart_df9.to_csv(\"age_group_stat.csv\", encoding='utf-8', index=False )"
      ],
      "execution_count": null,
      "outputs": []
    },
    {
      "cell_type": "markdown",
      "metadata": {
        "id": "u59trR9koVPo"
      },
      "source": [
        "# SAVING DATASET"
      ]
    },
    {
      "cell_type": "code",
      "metadata": {
        "colab": {
          "base_uri": "https://localhost:8080/"
        },
        "id": "6oPH0CWHsv5V",
        "outputId": "f59787fa-f970-4653-cfb4-7a7c1b4d81c4"
      },
      "source": [
        "heart_df1.shape\n",
        "ttt = heart_df1[\"state\"].fillna(method='ffill')\n",
        "print(heart_df1.state.isna().sum())"
      ],
      "execution_count": null,
      "outputs": [
        {
          "output_type": "stream",
          "text": [
            "10\n"
          ],
          "name": "stdout"
        }
      ]
    },
    {
      "cell_type": "code",
      "metadata": {
        "colab": {
          "base_uri": "https://localhost:8080/"
        },
        "id": "JXvlgWApoT8i",
        "outputId": "28f09d28-1ec6-4e33-cb08-4da27331b468"
      },
      "source": [
        "heart_df1[\"state\"] = heart_df1[\"state\"].fillna(method='ffill')\n",
        "print(heart_df1.state.isna().sum())\n",
        "#the csv can be found main google drive folder\n",
        "heart_df1.to_csv(\"clean_data.csv\", encoding='utf-8', index=False )"
      ],
      "execution_count": null,
      "outputs": [
        {
          "output_type": "stream",
          "text": [
            "0\n"
          ],
          "name": "stdout"
        },
        {
          "output_type": "stream",
          "text": [
            "/usr/local/lib/python3.7/dist-packages/ipykernel_launcher.py:1: SettingWithCopyWarning: \n",
            "A value is trying to be set on a copy of a slice from a DataFrame.\n",
            "Try using .loc[row_indexer,col_indexer] = value instead\n",
            "\n",
            "See the caveats in the documentation: https://pandas.pydata.org/pandas-docs/stable/user_guide/indexing.html#returning-a-view-versus-a-copy\n",
            "  \"\"\"Entry point for launching an IPython kernel.\n"
          ],
          "name": "stderr"
        }
      ]
    }
  ]
}
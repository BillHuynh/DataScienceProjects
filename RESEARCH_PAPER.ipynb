{
  "nbformat": 4,
  "nbformat_minor": 0,
  "metadata": {
    "colab": {
      "name": "RESEARCH PAPER.ipynb",
      "provenance": [],
      "collapsed_sections": [],
      "authorship_tag": "ABX9TyOZk4PJGEZpEdJ7Jsk9lFBX",
      "include_colab_link": true
    },
    "kernelspec": {
      "name": "python3",
      "display_name": "Python 3"
    },
    "language_info": {
      "name": "python"
    }
  },
  "cells": [
    {
      "cell_type": "markdown",
      "metadata": {
        "id": "view-in-github",
        "colab_type": "text"
      },
      "source": [
        "<a href=\"https://colab.research.google.com/github/BillHuynh/DataScienceProjects/blob/master/RESEARCH_PAPER.ipynb\" target=\"_parent\"><img src=\"https://colab.research.google.com/assets/colab-badge.svg\" alt=\"Open In Colab\"/></a>"
      ]
    },
    {
      "cell_type": "code",
      "metadata": {
        "colab": {
          "base_uri": "https://localhost:8080/"
        },
        "id": "q3FbAbjo1fIX",
        "outputId": "c3925913-c1fa-4cd0-8fad-af751999c9fe"
      },
      "source": [
        "%pip install mlxtend --upgrade\n",
        "#warning colab and mlxtend don't really work well together something about different upgrade versions \n",
        "# run time will be restarted\n",
        "# run this first please \n",
        "# if you get disconnected mlxtend won't work properly"
      ],
      "execution_count": null,
      "outputs": [
        {
          "output_type": "stream",
          "name": "stdout",
          "text": [
            "Requirement already satisfied: mlxtend in /usr/local/lib/python3.7/dist-packages (0.14.0)\n",
            "Collecting mlxtend\n",
            "  Downloading mlxtend-0.19.0-py2.py3-none-any.whl (1.3 MB)\n",
            "\u001b[K     |████████████████████████████████| 1.3 MB 5.0 MB/s \n",
            "\u001b[?25hRequirement already satisfied: pandas>=0.24.2 in /usr/local/lib/python3.7/dist-packages (from mlxtend) (1.1.5)\n",
            "Requirement already satisfied: joblib>=0.13.2 in /usr/local/lib/python3.7/dist-packages (from mlxtend) (1.0.1)\n",
            "Requirement already satisfied: matplotlib>=3.0.0 in /usr/local/lib/python3.7/dist-packages (from mlxtend) (3.2.2)\n",
            "Requirement already satisfied: scikit-learn>=0.20.3 in /usr/local/lib/python3.7/dist-packages (from mlxtend) (0.22.2.post1)\n",
            "Requirement already satisfied: numpy>=1.16.2 in /usr/local/lib/python3.7/dist-packages (from mlxtend) (1.19.5)\n",
            "Requirement already satisfied: setuptools in /usr/local/lib/python3.7/dist-packages (from mlxtend) (57.4.0)\n",
            "Requirement already satisfied: scipy>=1.2.1 in /usr/local/lib/python3.7/dist-packages (from mlxtend) (1.4.1)\n",
            "Requirement already satisfied: pyparsing!=2.0.4,!=2.1.2,!=2.1.6,>=2.0.1 in /usr/local/lib/python3.7/dist-packages (from matplotlib>=3.0.0->mlxtend) (2.4.7)\n",
            "Requirement already satisfied: python-dateutil>=2.1 in /usr/local/lib/python3.7/dist-packages (from matplotlib>=3.0.0->mlxtend) (2.8.2)\n",
            "Requirement already satisfied: kiwisolver>=1.0.1 in /usr/local/lib/python3.7/dist-packages (from matplotlib>=3.0.0->mlxtend) (1.3.2)\n",
            "Requirement already satisfied: cycler>=0.10 in /usr/local/lib/python3.7/dist-packages (from matplotlib>=3.0.0->mlxtend) (0.10.0)\n",
            "Requirement already satisfied: six in /usr/local/lib/python3.7/dist-packages (from cycler>=0.10->matplotlib>=3.0.0->mlxtend) (1.15.0)\n",
            "Requirement already satisfied: pytz>=2017.2 in /usr/local/lib/python3.7/dist-packages (from pandas>=0.24.2->mlxtend) (2018.9)\n",
            "Installing collected packages: mlxtend\n",
            "  Attempting uninstall: mlxtend\n",
            "    Found existing installation: mlxtend 0.14.0\n",
            "    Uninstalling mlxtend-0.14.0:\n",
            "      Successfully uninstalled mlxtend-0.14.0\n",
            "Successfully installed mlxtend-0.19.0\n"
          ]
        }
      ]
    },
    {
      "cell_type": "code",
      "metadata": {
        "id": "vkFuU57qKl8N"
      },
      "source": [
        "from mlxtend.classifier import OneRClassifier"
      ],
      "execution_count": null,
      "outputs": []
    },
    {
      "cell_type": "code",
      "metadata": {
        "id": "8wZVODshsuQC"
      },
      "source": [
        "import numpy as np\n",
        "import pandas as pd\n",
        "import matplotlib.pyplot as plt\n",
        "from sklearn.model_selection import train_test_split\n",
        "from sklearn.metrics import matthews_corrcoef\n",
        "from sklearn.metrics import roc_auc_score\n",
        "from sklearn.metrics import confusion_matrix\n",
        "from sklearn.ensemble import RandomForestClassifier\n",
        "from sklearn.metrics import auc\n",
        "from sklearn.metrics import confusion_matrix\n",
        "from sklearn.metrics import f1_score\n",
        "from sklearn.metrics import recall_score\n",
        "from sklearn.metrics import precision_score\n",
        "from sklearn.metrics import average_precision_score\n",
        "from sklearn.metrics import accuracy_score\n",
        "from sklearn.tree import DecisionTreeClassifier\n",
        "from sklearn.naive_bayes import GaussianNB\n",
        "from sklearn.linear_model import LinearRegression\n",
        "from sklearn.neighbors import KNeighborsClassifier\n",
        "from sklearn import svm\n",
        "from sklearn.metrics import make_scorer\n",
        "from sklearn.model_selection import KFold\n",
        "from sklearn.model_selection import GridSearchCV\n",
        "from sklearn.model_selection import cross_val_score\n",
        "from numpy import mean\n",
        "from numpy import std\n",
        "from sklearn.model_selection import cross_val_predict\n",
        "from xgboost import XGBClassifier\n",
        "from sklearn.neural_network import MLPClassifier\n",
        "from sklearn.preprocessing import StandardScaler"
      ],
      "execution_count": null,
      "outputs": []
    },
    {
      "cell_type": "code",
      "metadata": {
        "colab": {
          "base_uri": "https://localhost:8080/"
        },
        "id": "IbpjL-e2sJfw",
        "outputId": "872aa4cc-0221-45f7-f1ff-885bcd121384"
      },
      "source": [
        "from google.colab import drive\n",
        "drive.mount('/content/drive')"
      ],
      "execution_count": null,
      "outputs": [
        {
          "output_type": "stream",
          "name": "stdout",
          "text": [
            "Mounted at /content/drive\n"
          ]
        }
      ]
    },
    {
      "cell_type": "code",
      "metadata": {
        "id": "hvTDYx3EsunN"
      },
      "source": [
        "data = pd.read_csv('/content/drive/MyDrive/heart_failure_clinical_records_dataset.csv', delimiter=',')"
      ],
      "execution_count": null,
      "outputs": []
    },
    {
      "cell_type": "code",
      "metadata": {
        "colab": {
          "base_uri": "https://localhost:8080/",
          "height": 439
        },
        "id": "iz6YEU1Y2dmK",
        "outputId": "ec7014cf-e9d3-41de-f774-53862ee0d29f"
      },
      "source": [
        "\n",
        "data1 = pd.DataFrame(data)\n",
        "data1"
      ],
      "execution_count": null,
      "outputs": [
        {
          "output_type": "execute_result",
          "data": {
            "text/html": [
              "<div>\n",
              "<style scoped>\n",
              "    .dataframe tbody tr th:only-of-type {\n",
              "        vertical-align: middle;\n",
              "    }\n",
              "\n",
              "    .dataframe tbody tr th {\n",
              "        vertical-align: top;\n",
              "    }\n",
              "\n",
              "    .dataframe thead th {\n",
              "        text-align: right;\n",
              "    }\n",
              "</style>\n",
              "<table border=\"1\" class=\"dataframe\">\n",
              "  <thead>\n",
              "    <tr style=\"text-align: right;\">\n",
              "      <th></th>\n",
              "      <th>age</th>\n",
              "      <th>anaemia</th>\n",
              "      <th>creatinine_phosphokinase</th>\n",
              "      <th>diabetes</th>\n",
              "      <th>ejection_fraction</th>\n",
              "      <th>high_blood_pressure</th>\n",
              "      <th>platelets</th>\n",
              "      <th>serum_creatinine</th>\n",
              "      <th>serum_sodium</th>\n",
              "      <th>sex</th>\n",
              "      <th>smoking</th>\n",
              "      <th>time</th>\n",
              "      <th>DEATH_EVENT</th>\n",
              "    </tr>\n",
              "  </thead>\n",
              "  <tbody>\n",
              "    <tr>\n",
              "      <th>0</th>\n",
              "      <td>75.0</td>\n",
              "      <td>0</td>\n",
              "      <td>582</td>\n",
              "      <td>0</td>\n",
              "      <td>20</td>\n",
              "      <td>1</td>\n",
              "      <td>265000.00</td>\n",
              "      <td>1.9</td>\n",
              "      <td>130</td>\n",
              "      <td>1</td>\n",
              "      <td>0</td>\n",
              "      <td>4</td>\n",
              "      <td>1</td>\n",
              "    </tr>\n",
              "    <tr>\n",
              "      <th>1</th>\n",
              "      <td>55.0</td>\n",
              "      <td>0</td>\n",
              "      <td>7861</td>\n",
              "      <td>0</td>\n",
              "      <td>38</td>\n",
              "      <td>0</td>\n",
              "      <td>263358.03</td>\n",
              "      <td>1.1</td>\n",
              "      <td>136</td>\n",
              "      <td>1</td>\n",
              "      <td>0</td>\n",
              "      <td>6</td>\n",
              "      <td>1</td>\n",
              "    </tr>\n",
              "    <tr>\n",
              "      <th>2</th>\n",
              "      <td>65.0</td>\n",
              "      <td>0</td>\n",
              "      <td>146</td>\n",
              "      <td>0</td>\n",
              "      <td>20</td>\n",
              "      <td>0</td>\n",
              "      <td>162000.00</td>\n",
              "      <td>1.3</td>\n",
              "      <td>129</td>\n",
              "      <td>1</td>\n",
              "      <td>1</td>\n",
              "      <td>7</td>\n",
              "      <td>1</td>\n",
              "    </tr>\n",
              "    <tr>\n",
              "      <th>3</th>\n",
              "      <td>50.0</td>\n",
              "      <td>1</td>\n",
              "      <td>111</td>\n",
              "      <td>0</td>\n",
              "      <td>20</td>\n",
              "      <td>0</td>\n",
              "      <td>210000.00</td>\n",
              "      <td>1.9</td>\n",
              "      <td>137</td>\n",
              "      <td>1</td>\n",
              "      <td>0</td>\n",
              "      <td>7</td>\n",
              "      <td>1</td>\n",
              "    </tr>\n",
              "    <tr>\n",
              "      <th>4</th>\n",
              "      <td>65.0</td>\n",
              "      <td>1</td>\n",
              "      <td>160</td>\n",
              "      <td>1</td>\n",
              "      <td>20</td>\n",
              "      <td>0</td>\n",
              "      <td>327000.00</td>\n",
              "      <td>2.7</td>\n",
              "      <td>116</td>\n",
              "      <td>0</td>\n",
              "      <td>0</td>\n",
              "      <td>8</td>\n",
              "      <td>1</td>\n",
              "    </tr>\n",
              "    <tr>\n",
              "      <th>...</th>\n",
              "      <td>...</td>\n",
              "      <td>...</td>\n",
              "      <td>...</td>\n",
              "      <td>...</td>\n",
              "      <td>...</td>\n",
              "      <td>...</td>\n",
              "      <td>...</td>\n",
              "      <td>...</td>\n",
              "      <td>...</td>\n",
              "      <td>...</td>\n",
              "      <td>...</td>\n",
              "      <td>...</td>\n",
              "      <td>...</td>\n",
              "    </tr>\n",
              "    <tr>\n",
              "      <th>294</th>\n",
              "      <td>62.0</td>\n",
              "      <td>0</td>\n",
              "      <td>61</td>\n",
              "      <td>1</td>\n",
              "      <td>38</td>\n",
              "      <td>1</td>\n",
              "      <td>155000.00</td>\n",
              "      <td>1.1</td>\n",
              "      <td>143</td>\n",
              "      <td>1</td>\n",
              "      <td>1</td>\n",
              "      <td>270</td>\n",
              "      <td>0</td>\n",
              "    </tr>\n",
              "    <tr>\n",
              "      <th>295</th>\n",
              "      <td>55.0</td>\n",
              "      <td>0</td>\n",
              "      <td>1820</td>\n",
              "      <td>0</td>\n",
              "      <td>38</td>\n",
              "      <td>0</td>\n",
              "      <td>270000.00</td>\n",
              "      <td>1.2</td>\n",
              "      <td>139</td>\n",
              "      <td>0</td>\n",
              "      <td>0</td>\n",
              "      <td>271</td>\n",
              "      <td>0</td>\n",
              "    </tr>\n",
              "    <tr>\n",
              "      <th>296</th>\n",
              "      <td>45.0</td>\n",
              "      <td>0</td>\n",
              "      <td>2060</td>\n",
              "      <td>1</td>\n",
              "      <td>60</td>\n",
              "      <td>0</td>\n",
              "      <td>742000.00</td>\n",
              "      <td>0.8</td>\n",
              "      <td>138</td>\n",
              "      <td>0</td>\n",
              "      <td>0</td>\n",
              "      <td>278</td>\n",
              "      <td>0</td>\n",
              "    </tr>\n",
              "    <tr>\n",
              "      <th>297</th>\n",
              "      <td>45.0</td>\n",
              "      <td>0</td>\n",
              "      <td>2413</td>\n",
              "      <td>0</td>\n",
              "      <td>38</td>\n",
              "      <td>0</td>\n",
              "      <td>140000.00</td>\n",
              "      <td>1.4</td>\n",
              "      <td>140</td>\n",
              "      <td>1</td>\n",
              "      <td>1</td>\n",
              "      <td>280</td>\n",
              "      <td>0</td>\n",
              "    </tr>\n",
              "    <tr>\n",
              "      <th>298</th>\n",
              "      <td>50.0</td>\n",
              "      <td>0</td>\n",
              "      <td>196</td>\n",
              "      <td>0</td>\n",
              "      <td>45</td>\n",
              "      <td>0</td>\n",
              "      <td>395000.00</td>\n",
              "      <td>1.6</td>\n",
              "      <td>136</td>\n",
              "      <td>1</td>\n",
              "      <td>1</td>\n",
              "      <td>285</td>\n",
              "      <td>0</td>\n",
              "    </tr>\n",
              "  </tbody>\n",
              "</table>\n",
              "<p>299 rows × 13 columns</p>\n",
              "</div>"
            ],
            "text/plain": [
              "      age  anaemia  creatinine_phosphokinase  ...  smoking  time  DEATH_EVENT\n",
              "0    75.0        0                       582  ...        0     4            1\n",
              "1    55.0        0                      7861  ...        0     6            1\n",
              "2    65.0        0                       146  ...        1     7            1\n",
              "3    50.0        1                       111  ...        0     7            1\n",
              "4    65.0        1                       160  ...        0     8            1\n",
              "..    ...      ...                       ...  ...      ...   ...          ...\n",
              "294  62.0        0                        61  ...        1   270            0\n",
              "295  55.0        0                      1820  ...        0   271            0\n",
              "296  45.0        0                      2060  ...        0   278            0\n",
              "297  45.0        0                      2413  ...        1   280            0\n",
              "298  50.0        0                       196  ...        1   285            0\n",
              "\n",
              "[299 rows x 13 columns]"
            ]
          },
          "metadata": {},
          "execution_count": 4
        }
      ]
    },
    {
      "cell_type": "code",
      "metadata": {
        "id": "I-V6a0-i2wUX"
      },
      "source": [
        "df_feature = data1.drop(columns=['DEATH_EVENT'])\n",
        "df_death = data1[[\"DEATH_EVENT\"]]"
      ],
      "execution_count": null,
      "outputs": []
    },
    {
      "cell_type": "markdown",
      "metadata": {
        "id": "E8R_J4khkgFT"
      },
      "source": [
        "Recreating research paper methods"
      ]
    },
    {
      "cell_type": "code",
      "metadata": {
        "id": "gRjsLvlFHSre"
      },
      "source": [
        "# split test/ train 0.2\n",
        "X_train, X_test, y_train, y_test = train_test_split( df_feature, df_death, test_size=0.2, random_state=5)"
      ],
      "execution_count": null,
      "outputs": []
    },
    {
      "cell_type": "code",
      "metadata": {
        "id": "kialabbdZteO"
      },
      "source": [
        "import warnings\n",
        "warnings.filterwarnings('ignore')\n",
        "#important "
      ],
      "execution_count": null,
      "outputs": []
    },
    {
      "cell_type": "code",
      "metadata": {
        "id": "y1Y7wrJlsk_O"
      },
      "source": [
        "MCCrandomForest = []\n",
        "ACCrandomForest = []\n",
        "TPrandomForest = []\n",
        "TNrandomForest = []\n",
        "PRaucrandomForest = []\n",
        "ROCaucrandomForest = []\n",
        "F1scorerandomForest = []\n",
        "\n",
        "for i in range(1,101):\n",
        "  # model\n",
        "  X_train, X_test, y_train, y_test = train_test_split( df_feature, df_death, test_size=0.2)\n",
        "  rfclf = RandomForestClassifier()\n",
        "  rfclf.fit(X_train,y_train)\n",
        "  y_pred = rfclf.predict(X_test)\n",
        "  #metrics\n",
        "  tn, fp, fn, tp = confusion_matrix(y_test, y_pred).ravel()\n",
        "  specificity = tn / (tn+fp) # TN Rate\n",
        "  Recall = recall_score(y_pred,y_test) # TP rate\n",
        "  ACC = accuracy_score(y_test, y_pred)\n",
        "  PRauc = average_precision_score(y_test, y_pred)\n",
        "  ROCauc = roc_auc_score(y_test, y_pred)\n",
        "  MCC = matthews_corrcoef(y_test, y_pred)\n",
        "  f1score = f1_score(y_pred,y_test)\n",
        "  # record\n",
        "  MCCrandomForest.append(MCC)\n",
        "  TNrandomForest.append(specificity) # TN\n",
        "  ACCrandomForest.append(ACC)\n",
        "  TPrandomForest.append(Recall) # TP\n",
        "  PRaucrandomForest.append(PRauc)\n",
        "  ROCaucrandomForest.append(ROCauc)\n",
        "  F1scorerandomForest.append(f1score)\n",
        "\n"
      ],
      "execution_count": null,
      "outputs": []
    },
    {
      "cell_type": "code",
      "metadata": {
        "id": "QOwRWzNWfUNI"
      },
      "source": [
        "Random_Forest_score = [sum(MCCrandomForest)/len(MCCrandomForest),\n",
        "                       sum(F1scorerandomForest)/len(F1scorerandomForest),\n",
        "                       sum(ACCrandomForest)/len(ACCrandomForest),\n",
        "                       sum(TPrandomForest)/len(TPrandomForest),\n",
        "                       sum(TNrandomForest)/len(TNrandomForest),\n",
        "                       sum(PRaucrandomForest)/len(PRaucrandomForest),\n",
        "                       sum(ROCaucrandomForest)/len(ROCaucrandomForest)]"
      ],
      "execution_count": null,
      "outputs": []
    },
    {
      "cell_type": "code",
      "metadata": {
        "colab": {
          "base_uri": "https://localhost:8080/"
        },
        "id": "s8Q8SXW0YLem",
        "outputId": "bbdcc36d-966c-4ea7-cad6-0dd5a9b93035"
      },
      "source": [
        "print(sum(MCCrandomForest)/len(MCCrandomForest))\n",
        "print(sum(F1scorerandomForest)/len(F1scorerandomForest))\n",
        "print(sum(ACCrandomForest)/len(ACCrandomForest))\n",
        "print(sum(TPrandomForest)/len(TPrandomForest))\n",
        "print(sum(TNrandomForest)/len(TNrandomForest))\n",
        "print(sum(PRaucrandomForest)/len(PRaucrandomForest))\n",
        "print(sum(ROCaucrandomForest)/len(ROCaucrandomForest))"
      ],
      "execution_count": null,
      "outputs": [
        {
          "output_type": "stream",
          "name": "stdout",
          "text": [
            "0.3846362912301069\n",
            "0.5384598977847034\n",
            "0.7461666666666664\n",
            "0.6418637304724264\n",
            "0.8718686455880992\n",
            "0.47493995354141577\n",
            "0.675809147221615\n"
          ]
        }
      ]
    },
    {
      "cell_type": "code",
      "metadata": {
        "id": "wl5WTD9yaI1Z"
      },
      "source": [
        "MCCDecision_Tree = []\n",
        "F1scoreDecision_Tree = []\n",
        "ACCDecision_Tree = []\n",
        "TPDecision_Tree = []\n",
        "TNDecision_Tree = []\n",
        "PRDecision_Tree = []\n",
        "ROCDecision_Tree = []\n",
        "\n",
        "\n",
        "for i in range(1,101):\n",
        "  # model\n",
        "  X_train, X_test, y_train, y_test = train_test_split( df_feature, df_death, test_size=0.2, random_state=5)\n",
        "  clf = DecisionTreeClassifier()\n",
        "  # Train Decision Tree Classifer\n",
        "  clf = clf.fit(X_train,y_train)\n",
        "  #Predict the response for test dataset\n",
        "  y_pred = clf.predict(X_test)\n",
        "  #metrics\n",
        "  tn, fp, fn, tp = confusion_matrix(y_test, y_pred).ravel()\n",
        "  specificity = tn / (tn+fp) # TN Rate\n",
        "  Recall = recall_score(y_pred,y_test) # TP rate\n",
        "  ACC = accuracy_score(y_test, y_pred)\n",
        "  PRauc = average_precision_score(y_test, y_pred)\n",
        "  ROCauc = roc_auc_score(y_test, y_pred)\n",
        "  MCC = matthews_corrcoef(y_test, y_pred)\n",
        "  f1score = f1_score(y_pred,y_test)\n",
        "  # record\n",
        "  MCCDecision_Tree.append(MCC)\n",
        "  F1scoreDecision_Tree.append(f1score)\n",
        "  ACCDecision_Tree.append(ACC)\n",
        "  TPDecision_Tree.append(Recall) # TP\n",
        "  TNDecision_Tree.append(specificity) # TN\n",
        "  PRDecision_Tree.append(PRauc)\n",
        "  ROCDecision_Tree.append(ROCauc)"
      ],
      "execution_count": null,
      "outputs": []
    },
    {
      "cell_type": "code",
      "metadata": {
        "id": "CHxVwCpPhWNt"
      },
      "source": [
        "Decision_Tree_score = [sum(MCCDecision_Tree)/len(MCCDecision_Tree),\n",
        "                       sum(F1scoreDecision_Tree)/len(F1scoreDecision_Tree),\n",
        "                       sum(ACCDecision_Tree)/len(ACCDecision_Tree),\n",
        "                       sum(TPDecision_Tree)/len(TPDecision_Tree),\n",
        "                       sum(TNDecision_Tree)/len(TNDecision_Tree),\n",
        "                       sum(PRDecision_Tree)/len(PRDecision_Tree),\n",
        "                       sum(ROCDecision_Tree)/len(ROCDecision_Tree)]"
      ],
      "execution_count": null,
      "outputs": []
    },
    {
      "cell_type": "code",
      "metadata": {
        "colab": {
          "base_uri": "https://localhost:8080/"
        },
        "id": "B3oD_B7vhk1w",
        "outputId": "56f58472-5fb5-4429-905f-48d58e424dba"
      },
      "source": [
        "print(sum(MCCDecision_Tree)/len(MCCDecision_Tree))\n",
        "print(sum(F1scoreDecision_Tree)/len(F1scoreDecision_Tree))\n",
        "print(sum(ACCDecision_Tree)/len(ACCDecision_Tree))\n",
        "print(sum(TPDecision_Tree)/len(TPDecision_Tree))\n",
        "print(sum(TNDecision_Tree)/len(TNDecision_Tree))\n",
        "print(sum(PRDecision_Tree)/len(PRDecision_Tree))\n",
        "print(sum(ROCDecision_Tree)/len(ROCDecision_Tree))"
      ],
      "execution_count": null,
      "outputs": [
        {
          "output_type": "stream",
          "name": "stdout",
          "text": [
            "0.3020759796109015\n",
            "0.44444444444444353\n",
            "0.6965\n",
            "0.4717665870092576\n",
            "0.7455813953488378\n",
            "0.39314218643220333\n",
            "0.6589671682626539\n"
          ]
        }
      ]
    },
    {
      "cell_type": "code",
      "metadata": {
        "id": "hupSAlfFllVi"
      },
      "source": [
        "MCCNB = []\n",
        "F1scoreNB = []\n",
        "ACCNB = []\n",
        "TPNB = []\n",
        "TNNB = []\n",
        "PRNB = []\n",
        "ROCNB = []\n",
        "\n",
        "\n",
        "for i in range(1,101):\n",
        "  # model\n",
        "  X_train, X_test, y_train, y_test = train_test_split( df_feature, df_death, test_size=0.2, random_state=5)\n",
        "  gnb = GaussianNB()\n",
        "  y_pred = gnb.fit(X_train, y_train).predict(X_test)\n",
        "  #metrics\n",
        "  tn, fp, fn, tp = confusion_matrix(y_test, y_pred).ravel()\n",
        "  specificity = tn / (tn+fp) # TN Rate\n",
        "  Recall = recall_score(y_pred,y_test) # TP rate\n",
        "  ACC = accuracy_score(y_test, y_pred)\n",
        "  PRauc = average_precision_score(y_test, y_pred)\n",
        "  ROCauc = roc_auc_score(y_test, y_pred)\n",
        "  MCC = matthews_corrcoef(y_test, y_pred)\n",
        "  f1score = f1_score(y_pred,y_test)\n",
        "  # record\n",
        "  MCCNB.append(MCC)\n",
        "  F1scoreNB.append(f1score)\n",
        "  ACCNB.append(ACC)\n",
        "  TPNB.append(Recall) # TP\n",
        "  TNNB.append(specificity) # TN\n",
        "  PRNB.append(PRauc)\n",
        "  ROCNB.append(ROCauc)"
      ],
      "execution_count": null,
      "outputs": []
    },
    {
      "cell_type": "code",
      "metadata": {
        "id": "CGQMy1mNmPfe"
      },
      "source": [
        "NB_score = [sum(MCCNB)/len(MCCNB),\n",
        "            sum(F1scoreNB)/len(F1scoreNB),\n",
        "            sum(ACCNB)/len(ACCNB),\n",
        "            sum(TPNB)/len(TPNB),\n",
        "            sum(TNNB)/len(TNNB),\n",
        "            sum(PRNB)/len(PRNB),\n",
        "            sum(ROCNB)/len(ROCNB)]"
      ],
      "execution_count": null,
      "outputs": []
    },
    {
      "cell_type": "code",
      "metadata": {
        "colab": {
          "base_uri": "https://localhost:8080/"
        },
        "id": "r1pCs02ZmqOI",
        "outputId": "a69c8af6-eb58-4e1c-9304-da432937e5e3"
      },
      "source": [
        "print(sum(MCCNB)/len(MCCNB))\n",
        "print(sum(F1scoreNB)/len(F1scoreNB))\n",
        "print(sum(ACCNB)/len(ACCNB))\n",
        "print(sum(TPNB)/len(TPNB))\n",
        "print(sum(TNNB)/len(TNNB))\n",
        "print(sum(PRNB)/len(PRNB))\n",
        "print(sum(ROCNB)/len(ROCNB))"
      ],
      "execution_count": null,
      "outputs": [
        {
          "output_type": "stream",
          "name": "stdout",
          "text": [
            "0.08443505653944877\n",
            "0.44444444444444353\n",
            "0.6666666666666659\n",
            "0.3636363636363638\n",
            "0.8372093023255809\n",
            "0.3022281639928693\n",
            "0.536251709986319\n"
          ]
        }
      ]
    },
    {
      "cell_type": "code",
      "metadata": {
        "id": "EwXHWTRsDwJZ"
      },
      "source": [
        "MCClr = []\n",
        "F1scorelr = []\n",
        "ACClr = []\n",
        "TPlr = []\n",
        "TNlr = []\n",
        "PRlr = []\n",
        "ROClr = []\n",
        "\n",
        "\n",
        "for i in range(1,101):\n",
        "  # model\n",
        "  X_train, X_test, y_train, y_test = train_test_split( df_feature, df_death, test_size=0.2)\n",
        "  lr = LinearRegression()\n",
        "  lr.fit(X_train, y_train)\n",
        "  bucket = lr.predict(X_test)\n",
        "  #bucketing threshold Y > 0.5 = 1\n",
        "  y_pred = [1 if x > 0.5 else 0 for x in bucket]\n",
        "  #metrics\n",
        "  tn, fp, fn, tp = confusion_matrix(y_test, y_pred).ravel()\n",
        "  specificity = tn / (tn+fp) # TN Rate\n",
        "  Recall = recall_score(y_pred,y_test) # TP rate\n",
        "  ACC = accuracy_score(y_test, y_pred)\n",
        "  PRauc = average_precision_score(y_test, y_pred)\n",
        "  ROCauc = roc_auc_score(y_test, y_pred)\n",
        "  MCC = matthews_corrcoef(y_test, y_pred)\n",
        "  f1score = f1_score(y_pred,y_test)\n",
        "  # record\n",
        "  MCClr.append(MCC)\n",
        "  F1scorelr.append(f1score)\n",
        "  ACClr.append(ACC)\n",
        "  TPlr.append(Recall) # TP\n",
        "  TNlr.append(specificity) # TN\n",
        "  PRlr.append(PRauc)\n",
        "  ROClr.append(ROCauc)"
      ],
      "execution_count": null,
      "outputs": []
    },
    {
      "cell_type": "code",
      "metadata": {
        "id": "3lq3pPCVFXEI"
      },
      "source": [
        "NB_score = [sum(MCClr)/len(MCClr),\n",
        "            sum(F1scorelr)/len(F1scorelr),\n",
        "            sum(ACClr)/len(ACClr),\n",
        "            sum(TPlr)/len(TPlr),\n",
        "            sum(TNlr)/len(TNlr),\n",
        "            sum(PRlr)/len(PRlr),\n",
        "            sum(ROClr)/len(ROClr)]"
      ],
      "execution_count": null,
      "outputs": []
    },
    {
      "cell_type": "code",
      "metadata": {
        "colab": {
          "base_uri": "https://localhost:8080/"
        },
        "id": "AMxIu1v8F3zD",
        "outputId": "6bffd213-5f1c-4039-b9b0-5b260f666586"
      },
      "source": [
        "print(sum(MCClr)/len(MCClr))\n",
        "print(sum(F1scorelr)/len(F1scorelr))\n",
        "print(sum(ACClr)/len(ACClr))\n",
        "print(sum(TPlr)/len(TPlr))\n",
        "print(sum(TNlr)/len(TNlr))\n",
        "print(sum(PRlr)/len(PRlr))\n",
        "print(sum(ROClr)/len(ROClr))"
      ],
      "execution_count": null,
      "outputs": [
        {
          "output_type": "stream",
          "name": "stdout",
          "text": [
            "0.35351449756401526\n",
            "0.4918338341974078\n",
            "0.7355000000000003\n",
            "0.6551337962433162\n",
            "0.8929545847587541\n",
            "0.4603746845310074\n",
            "0.6523354500254129\n"
          ]
        }
      ]
    },
    {
      "cell_type": "code",
      "metadata": {
        "id": "Y97dGjxSnFYY"
      },
      "source": [
        "df_onedata = df_feature"
      ],
      "execution_count": null,
      "outputs": []
    },
    {
      "cell_type": "code",
      "metadata": {
        "id": "mFAQLwzXKgge",
        "colab": {
          "base_uri": "https://localhost:8080/",
          "height": 419
        },
        "outputId": "5b69752f-16b0-408e-e78f-bf27fee867bc"
      },
      "source": [
        "#decritize for one rule \n",
        "bin_labels_5 = [0, 1, 2, 3]\n",
        "df_onedata['age'] = pd.qcut(df_onedata['age'], q=[0, .25, .5, .75, 1], labels=bin_labels_5)\n",
        "df_onedata['creatinine_phosphokinase'] = pd.qcut(df_onedata['creatinine_phosphokinase'], q=[0, .25, .5, .75, 1], labels=bin_labels_5)\n",
        "df_onedata['ejection_fraction'] = pd.qcut(df_onedata['ejection_fraction'], q=[0, .25, .5, .75, 1], labels=bin_labels_5)\n",
        "df_onedata['platelets'] = pd.qcut(df_onedata['platelets'], q=[0, .25, .5, .75, 1], labels=bin_labels_5)\n",
        "df_onedata['serum_creatinine'] = pd.qcut(df_onedata['serum_creatinine'], q=[0, .25, .5, .75, 1], labels=bin_labels_5)\n",
        "df_onedata['serum_sodium'] = pd.qcut(df_onedata['serum_sodium'], q=[0, .25, .5, .75, 1], labels=bin_labels_5)\n",
        "df_onedata"
      ],
      "execution_count": null,
      "outputs": [
        {
          "output_type": "execute_result",
          "data": {
            "text/html": [
              "<div>\n",
              "<style scoped>\n",
              "    .dataframe tbody tr th:only-of-type {\n",
              "        vertical-align: middle;\n",
              "    }\n",
              "\n",
              "    .dataframe tbody tr th {\n",
              "        vertical-align: top;\n",
              "    }\n",
              "\n",
              "    .dataframe thead th {\n",
              "        text-align: right;\n",
              "    }\n",
              "</style>\n",
              "<table border=\"1\" class=\"dataframe\">\n",
              "  <thead>\n",
              "    <tr style=\"text-align: right;\">\n",
              "      <th></th>\n",
              "      <th>age</th>\n",
              "      <th>anaemia</th>\n",
              "      <th>creatinine_phosphokinase</th>\n",
              "      <th>diabetes</th>\n",
              "      <th>ejection_fraction</th>\n",
              "      <th>high_blood_pressure</th>\n",
              "      <th>platelets</th>\n",
              "      <th>serum_creatinine</th>\n",
              "      <th>serum_sodium</th>\n",
              "      <th>sex</th>\n",
              "      <th>smoking</th>\n",
              "    </tr>\n",
              "  </thead>\n",
              "  <tbody>\n",
              "    <tr>\n",
              "      <th>0</th>\n",
              "      <td>3</td>\n",
              "      <td>0</td>\n",
              "      <td>2</td>\n",
              "      <td>0</td>\n",
              "      <td>0</td>\n",
              "      <td>1</td>\n",
              "      <td>2</td>\n",
              "      <td>3</td>\n",
              "      <td>0</td>\n",
              "      <td>1</td>\n",
              "      <td>0</td>\n",
              "    </tr>\n",
              "    <tr>\n",
              "      <th>1</th>\n",
              "      <td>1</td>\n",
              "      <td>0</td>\n",
              "      <td>3</td>\n",
              "      <td>0</td>\n",
              "      <td>1</td>\n",
              "      <td>0</td>\n",
              "      <td>2</td>\n",
              "      <td>1</td>\n",
              "      <td>1</td>\n",
              "      <td>1</td>\n",
              "      <td>0</td>\n",
              "    </tr>\n",
              "    <tr>\n",
              "      <th>2</th>\n",
              "      <td>2</td>\n",
              "      <td>0</td>\n",
              "      <td>1</td>\n",
              "      <td>0</td>\n",
              "      <td>0</td>\n",
              "      <td>0</td>\n",
              "      <td>0</td>\n",
              "      <td>2</td>\n",
              "      <td>0</td>\n",
              "      <td>1</td>\n",
              "      <td>1</td>\n",
              "    </tr>\n",
              "    <tr>\n",
              "      <th>3</th>\n",
              "      <td>0</td>\n",
              "      <td>1</td>\n",
              "      <td>0</td>\n",
              "      <td>0</td>\n",
              "      <td>0</td>\n",
              "      <td>0</td>\n",
              "      <td>0</td>\n",
              "      <td>3</td>\n",
              "      <td>1</td>\n",
              "      <td>1</td>\n",
              "      <td>0</td>\n",
              "    </tr>\n",
              "    <tr>\n",
              "      <th>4</th>\n",
              "      <td>2</td>\n",
              "      <td>1</td>\n",
              "      <td>1</td>\n",
              "      <td>1</td>\n",
              "      <td>0</td>\n",
              "      <td>0</td>\n",
              "      <td>3</td>\n",
              "      <td>3</td>\n",
              "      <td>0</td>\n",
              "      <td>0</td>\n",
              "      <td>0</td>\n",
              "    </tr>\n",
              "    <tr>\n",
              "      <th>...</th>\n",
              "      <td>...</td>\n",
              "      <td>...</td>\n",
              "      <td>...</td>\n",
              "      <td>...</td>\n",
              "      <td>...</td>\n",
              "      <td>...</td>\n",
              "      <td>...</td>\n",
              "      <td>...</td>\n",
              "      <td>...</td>\n",
              "      <td>...</td>\n",
              "      <td>...</td>\n",
              "    </tr>\n",
              "    <tr>\n",
              "      <th>294</th>\n",
              "      <td>2</td>\n",
              "      <td>0</td>\n",
              "      <td>0</td>\n",
              "      <td>1</td>\n",
              "      <td>1</td>\n",
              "      <td>1</td>\n",
              "      <td>0</td>\n",
              "      <td>1</td>\n",
              "      <td>3</td>\n",
              "      <td>1</td>\n",
              "      <td>1</td>\n",
              "    </tr>\n",
              "    <tr>\n",
              "      <th>295</th>\n",
              "      <td>1</td>\n",
              "      <td>0</td>\n",
              "      <td>3</td>\n",
              "      <td>0</td>\n",
              "      <td>1</td>\n",
              "      <td>0</td>\n",
              "      <td>2</td>\n",
              "      <td>2</td>\n",
              "      <td>2</td>\n",
              "      <td>0</td>\n",
              "      <td>0</td>\n",
              "    </tr>\n",
              "    <tr>\n",
              "      <th>296</th>\n",
              "      <td>0</td>\n",
              "      <td>0</td>\n",
              "      <td>3</td>\n",
              "      <td>1</td>\n",
              "      <td>3</td>\n",
              "      <td>0</td>\n",
              "      <td>3</td>\n",
              "      <td>0</td>\n",
              "      <td>2</td>\n",
              "      <td>0</td>\n",
              "      <td>0</td>\n",
              "    </tr>\n",
              "    <tr>\n",
              "      <th>297</th>\n",
              "      <td>0</td>\n",
              "      <td>0</td>\n",
              "      <td>3</td>\n",
              "      <td>0</td>\n",
              "      <td>1</td>\n",
              "      <td>0</td>\n",
              "      <td>0</td>\n",
              "      <td>2</td>\n",
              "      <td>2</td>\n",
              "      <td>1</td>\n",
              "      <td>1</td>\n",
              "    </tr>\n",
              "    <tr>\n",
              "      <th>298</th>\n",
              "      <td>0</td>\n",
              "      <td>0</td>\n",
              "      <td>1</td>\n",
              "      <td>0</td>\n",
              "      <td>2</td>\n",
              "      <td>0</td>\n",
              "      <td>3</td>\n",
              "      <td>3</td>\n",
              "      <td>1</td>\n",
              "      <td>1</td>\n",
              "      <td>1</td>\n",
              "    </tr>\n",
              "  </tbody>\n",
              "</table>\n",
              "<p>299 rows × 11 columns</p>\n",
              "</div>"
            ],
            "text/plain": [
              "    age  anaemia creatinine_phosphokinase  ...  serum_sodium sex  smoking\n",
              "0     3        0                        2  ...             0   1        0\n",
              "1     1        0                        3  ...             1   1        0\n",
              "2     2        0                        1  ...             0   1        1\n",
              "3     0        1                        0  ...             1   1        0\n",
              "4     2        1                        1  ...             0   0        0\n",
              "..   ..      ...                      ...  ...           ...  ..      ...\n",
              "294   2        0                        0  ...             3   1        1\n",
              "295   1        0                        3  ...             2   0        0\n",
              "296   0        0                        3  ...             2   0        0\n",
              "297   0        0                        3  ...             2   1        1\n",
              "298   0        0                        1  ...             1   1        1\n",
              "\n",
              "[299 rows x 11 columns]"
            ]
          },
          "metadata": {},
          "execution_count": 32
        }
      ]
    },
    {
      "cell_type": "code",
      "metadata": {
        "colab": {
          "base_uri": "https://localhost:8080/"
        },
        "id": "CLsRg_Jon6ft",
        "outputId": "1c52598e-ad81-46ec-b403-eda11b514dd9"
      },
      "source": [
        "# format dataframe for one rule\n",
        "oneX = df_onedata.to_numpy()\n",
        "oneY = df_death.to_numpy()\n",
        "oneY = oneY[:, 0]\n",
        "\n",
        "print(oneX.shape)\n",
        "print(oneY.shape)"
      ],
      "execution_count": null,
      "outputs": [
        {
          "output_type": "stream",
          "name": "stdout",
          "text": [
            "(299, 11)\n",
            "(299,)\n"
          ]
        }
      ]
    },
    {
      "cell_type": "code",
      "metadata": {
        "id": "2sEbJm720O9g"
      },
      "source": [
        "MCCOneRule = []\n",
        "F1scoreOneRule = []\n",
        "ACCOneRule = []\n",
        "TPOneRule = []\n",
        "TNOneRule = []\n",
        "PROneRule = []\n",
        "ROCOneRule = []\n",
        "\n",
        "\n",
        "for i in range(1,101):\n",
        "  # model\n",
        "  X_train, X_test, y_train, y_test = train_test_split( oneX, oneY, test_size=0.2)\n",
        "  oner = OneRClassifier()\n",
        "  oner.fit(X_train, y_train)\n",
        "  y_pred = oner.predict(X_test)\n",
        "  #metrics\n",
        "  tn, fp, fn, tp = confusion_matrix(y_test, y_pred).ravel()\n",
        "  specificity = tn / (tn+fp) # TN Rate\n",
        "  Recall = recall_score(y_pred,y_test) # TP rate\n",
        "  ACC = accuracy_score(y_test, y_pred)\n",
        "  PRauc = average_precision_score(y_test, y_pred)\n",
        "  ROCauc = roc_auc_score(y_test, y_pred)\n",
        "  MCC = matthews_corrcoef(y_test, y_pred)\n",
        "  f1score = f1_score(y_pred,y_test) \n",
        "  # record\n",
        "  MCCOneRule.append(MCC)\n",
        "  F1scoreOneRule.append(f1score)\n",
        "  ACCOneRule.append(ACC)\n",
        "  TPOneRule.append(Recall) # TP\n",
        "  TNOneRule.append(specificity) # TN\n",
        "  PROneRule.append(PRauc)\n",
        "  ROCOneRule.append(ROCauc)"
      ],
      "execution_count": null,
      "outputs": []
    },
    {
      "cell_type": "code",
      "metadata": {
        "id": "-gPrWxr--cPJ"
      },
      "source": [
        "OneRule_Score = [sum(MCCOneRule)/len(MCCOneRule),\n",
        "            sum(F1scoreOneRule)/len(F1scoreOneRule),\n",
        "            sum(ACCOneRule)/len(ACCOneRule),\n",
        "            sum(TPOneRule)/len(TPOneRule),\n",
        "            sum(TNOneRule)/len(TNOneRule),\n",
        "            sum(PROneRule)/len(PROneRule),\n",
        "            sum(ROCOneRule)/len(ROCOneRule)]"
      ],
      "execution_count": null,
      "outputs": []
    },
    {
      "cell_type": "code",
      "metadata": {
        "colab": {
          "base_uri": "https://localhost:8080/"
        },
        "id": "9FzIw7gf-cq0",
        "outputId": "e99b8f55-5f59-4f84-85ca-e398c6cdfcf9"
      },
      "source": [
        "print(sum(MCCOneRule)/len(MCCOneRule))\n",
        "print(sum(F1scoreOneRule)/len(F1scoreOneRule))\n",
        "print(sum(ACCOneRule)/len(ACCOneRule))\n",
        "print(sum(TPOneRule)/len(TPOneRule))\n",
        "print(sum(TNOneRule)/len(TNOneRule))\n",
        "print(sum(PROneRule)/len(PROneRule))\n",
        "print(sum(ROCOneRule)/len(ROCOneRule))"
      ],
      "execution_count": null,
      "outputs": [
        {
          "output_type": "stream",
          "name": "stdout",
          "text": [
            "0.3360089047388682\n",
            "0.5032533493714557\n",
            "0.7286666666666668\n",
            "0.6080846021453608\n",
            "0.8656856281829477\n",
            "0.45482595739663173\n",
            "0.6522563165969301\n"
          ]
        }
      ]
    },
    {
      "cell_type": "code",
      "metadata": {
        "id": "LU_C3CZC_AU1"
      },
      "source": [
        "X_train, X_test, y_train, y_test \n",
        "    = train_test_split(X, y, test_size=0.2, random_state=1)\n",
        "X_train, X_val, y_train, y_val \n",
        "    = train_test_split(X_train, y_train, test_size=0.25, random_state=1) "
      ],
      "execution_count": null,
      "outputs": []
    },
    {
      "cell_type": "code",
      "metadata": {
        "colab": {
          "base_uri": "https://localhost:8080/"
        },
        "id": "_Mis1ENo06S_",
        "outputId": "d9ae5978-ab94-4ec1-a76c-348e0231f79a"
      },
      "source": [
        "range(1,11)"
      ],
      "execution_count": null,
      "outputs": [
        {
          "output_type": "execute_result",
          "data": {
            "text/plain": [
              "range(1, 11)"
            ]
          },
          "metadata": {},
          "execution_count": 23
        }
      ]
    },
    {
      "cell_type": "code",
      "metadata": {
        "id": "UEisOnpnOVe7"
      },
      "source": [
        "\n",
        "MCCknn = []\n",
        "F1scoreknn = []\n",
        "ACCknn = []\n",
        "TPknn = []\n",
        "TNknn = []\n",
        "PRknn = []\n",
        "ROCknn = []\n",
        "\n",
        "for i in range(1,101):\n",
        "   MCCKNNNN = []\n",
        "   X_train, X_test, y_train, y_test = train_test_split(df_feature, df_death, test_size=0.2, random_state=1)\n",
        "   X_train, X_val, y_train, y_val = train_test_split(X_train, y_train, test_size=0.25, random_state=1)\n",
        "   for i in range(1,11):\n",
        "     #grid search model\n",
        "     knn = KNeighborsClassifier(n_neighbors=i)\n",
        "     knn.fit(X_train,y_train)\n",
        "     pred_i = knn.predict(X_val)\n",
        "     # MCC score\n",
        "     MCC = matthews_corrcoef(y_val, pred_i)\n",
        "     MCCKNNNN.append(MCC)\n",
        "   #K value used\n",
        "   KNNnumber = MCCKNNNN.index(max(MCCKNNNN))+1\n",
        "   # second model used \n",
        "   knn2 = KNeighborsClassifier(n_neighbors= KNNnumber )\n",
        "   knn2.fit(X_train,y_train)\n",
        "   pred_y = knn2.predict(X_test)\n",
        "   # metrics\n",
        "   tn, fp, fn, tp = confusion_matrix(y_test, y_pred).ravel()\n",
        "   specificity = tn / (tn+fp) # TN Rate\n",
        "   Recall = recall_score(y_pred,y_test) # TP rate\n",
        "   ACC = accuracy_score(y_test, y_pred)\n",
        "   PRauc = average_precision_score(y_test, y_pred)\n",
        "   ROCauc = roc_auc_score(y_test, y_pred)\n",
        "   MCC = matthews_corrcoef(y_test, y_pred)\n",
        "   f1score = f1_score(y_pred,y_test)\n",
        "   # record\n",
        "   MCCknn.append(MCC)\n",
        "   F1scoreknn.append(f1score)\n",
        "   ACCknn.append(ACC)\n",
        "   TPknn.append(Recall) # TP\n",
        "   TNknn.append(specificity) # TN\n",
        "   PRknn.append(PRauc)\n",
        "   ROCknn.append(ROCauc)"
      ],
      "execution_count": null,
      "outputs": []
    },
    {
      "cell_type": "code",
      "metadata": {
        "id": "B1z4h24Jf0nH"
      },
      "source": [
        "knn_Score = [sum(MCCknn)/len(MCCknn),\n",
        "            sum(F1scoreknn)/len(F1scoreknn),\n",
        "            sum(ACCknn)/len(ACCknn),\n",
        "            sum(TPknn)/len(TPknn),\n",
        "            sum(TNknn)/len(TNknn),\n",
        "            sum(PRknn)/len(PRknn),\n",
        "            sum(ROCknn)/len(ROCknn)]"
      ],
      "execution_count": null,
      "outputs": []
    },
    {
      "cell_type": "code",
      "metadata": {
        "colab": {
          "base_uri": "https://localhost:8080/"
        },
        "id": "VDrOOSPbgBu4",
        "outputId": "c4de08c7-5f1a-4e19-e4ee-9dd28a59c391"
      },
      "source": [
        "print(sum(MCCknn)/len(MCCknn))\n",
        "print(sum(F1scoreknn)/len(F1scoreknn))\n",
        "print(sum(ACCknn)/len(ACCknn))\n",
        "print(sum(TPknn)/len(TPknn))\n",
        "print(sum(TNknn)/len(TNknn))\n",
        "print(sum(PRknn)/len(PRknn))\n",
        "print(sum(ROCknn)/len(ROCknn))"
      ],
      "execution_count": null,
      "outputs": [
        {
          "output_type": "stream",
          "name": "stdout",
          "text": [
            "-0.2467175818975846\n",
            "0.0\n",
            "0.600000000000001\n",
            "0.0\n",
            "0.7826086956521732\n",
            "0.23333333333333336\n",
            "0.3913043478260866\n"
          ]
        }
      ]
    },
    {
      "cell_type": "code",
      "metadata": {
        "id": "UsdJMrB-hnRC"
      },
      "source": [
        "# 4 hours long\n",
        "MCCsvml = []\n",
        "F1scoresvml = []\n",
        "ACCsvml = []\n",
        "TPsvml = []\n",
        "TNsvml = []\n",
        "PRsvml = []\n",
        "ROCsvml = []\n",
        "\n",
        "cvalues = [0.001, 0.01, 0.1]\n",
        "\n",
        "for i in range(1,101):\n",
        "  MCCsvmll = []\n",
        "  X_train, X_test, y_train, y_test = train_test_split(df_feature, df_death, test_size=0.2, random_state=1)\n",
        "  X_train, X_val, y_train, y_val = train_test_split(X_train, y_train, test_size=0.25, random_state=1)\n",
        "  for i in cvalues:\n",
        "    #grid search model\n",
        "    clf = svm.SVC(kernel='linear', C = i) # Linear Kernel\n",
        "    clf.fit(X_train, y_train)\n",
        "    pred_i = clf.predict(X_val)\n",
        "    # MCC score\n",
        "    MCC = matthews_corrcoef(y_val, pred_i)\n",
        "    MCCsvmll.append(MCC)\n",
        "  #K value used\n",
        "  svmlnumber = cvalues[MCCsvmll.index(max(MCCsvmll))]\n",
        "  # second model used \n",
        "  clf2 = svm.SVC(kernel='linear', C = svmlnumber)\n",
        "  clf2.fit(X_train,y_train)\n",
        "  y_pred = clf2.predict(X_test)\n",
        "  # metrics\n",
        "  tn, fp, fn, tp = confusion_matrix(y_test, y_pred).ravel()\n",
        "  specificity = tn / (tn+fp) # TN Rate\n",
        "  Recall = recall_score(y_pred,y_test) # TP rate\n",
        "  ACC = accuracy_score(y_test, y_pred)\n",
        "  PRauc = average_precision_score(y_test, y_pred)\n",
        "  ROCauc = roc_auc_score(y_test, y_pred)\n",
        "  MCC = matthews_corrcoef(y_test, y_pred)\n",
        "  f1score = f1_score(y_pred,y_test)\n",
        "  # record\n",
        "  MCCsvml.append(MCC)\n",
        "  F1scoresvml.append(f1score)\n",
        "  ACCsvml.append(ACC)\n",
        "  TPsvml.append(Recall) # TP\n",
        "  TNsvml.append(specificity) # TN\n",
        "  PRsvml.append(PRauc)\n",
        "  ROCsvml.append(ROCauc)"
      ],
      "execution_count": null,
      "outputs": []
    },
    {
      "cell_type": "code",
      "metadata": {
        "id": "5eugFSYIDBBo"
      },
      "source": [
        "svml_Score = [sum(MCCsvml)/len(MCCsvml),\n",
        "            sum(F1scoresvml)/len(F1scoresvml),\n",
        "            sum(ACCsvml)/len(ACCsvml),\n",
        "            sum(TPsvml)/len(TPsvml),\n",
        "            sum(TNsvml)/len(TNsvml),\n",
        "            sum(PRsvml)/len(PRsvml),\n",
        "            sum(ROCsvml)/len(ROCsvml)]"
      ],
      "execution_count": null,
      "outputs": []
    },
    {
      "cell_type": "code",
      "metadata": {
        "colab": {
          "base_uri": "https://localhost:8080/"
        },
        "id": "vt_zncKEDPNf",
        "outputId": "4ae00cbd-f27b-4188-f3ab-857904d461a4"
      },
      "source": [
        "#results\n",
        "print(sum(MCCsvml)/len(MCCsvml))\n",
        "print(sum(F1scoresvml)/len(F1scoresvml))\n",
        "print(sum(ACCsvml)/len(ACCsvml))\n",
        "print(sum(TPsvml)/len(TPsvml))\n",
        "print(sum(TNsvml)/len(TNsvml))\n",
        "print(sum(PRsvml)/len(PRsvml))\n",
        "print(sum(ROCsvml)/len(ROCsvml))"
      ],
      "execution_count": null,
      "outputs": [
        {
          "output_type": "stream",
          "name": "stdout",
          "text": [
            "0.23598744169812377\n",
            "0.13333333333333325\n",
            "0.7833333333333325\n",
            "1.0\n",
            "1.0\n",
            "0.288095238095238\n",
            "0.5357142857142851\n"
          ]
        }
      ]
    },
    {
      "cell_type": "code",
      "metadata": {
        "id": "Po4dQ0HbUzYP",
        "colab": {
          "base_uri": "https://localhost:8080/"
        },
        "outputId": "97333c74-ff2c-4f52-c5d3-3eeff23ee34b"
      },
      "source": [
        "MCCsvmrad = []\n",
        "F1scoresvmrad = []\n",
        "ACCsvmrad = []\n",
        "TPsvmrad = []\n",
        "TNsvmrad = []\n",
        "PRsvmrad = []\n",
        "ROCsvmrad = []\n",
        "\n",
        "cvalues = [9,10,11,12,13,14,15]\n",
        "\n",
        "for i in range(1,101):\n",
        "  MCCsvmradd = []\n",
        "  X_train, X_test, y_train, y_test = train_test_split(df_feature, df_death, test_size=0.2, random_state=1)\n",
        "  X_train, X_val, y_train, y_val = train_test_split(X_train, y_train, test_size=0.25, random_state=1)\n",
        "  for i in cvalues:\n",
        "    #grid search model\n",
        "    clf3 = svm.SVC( C = i) # rbf Kernel\n",
        "    clf3.fit(X_train, y_train)\n",
        "    pred_i = clf3.predict(X_val)\n",
        "    # MCC score\n",
        "    MCC = matthews_corrcoef(y_val, pred_i)\n",
        "    MCCsvmradd.append(MCC)\n",
        "  #K value used\n",
        "  svmradnumber = cvalues[MCCsvmradd.index(max(MCCsvmradd))]\n",
        "  # second model used \n",
        "  clf4 = svm.SVC( C = svmradnumber)\n",
        "  clf4.fit(X_train,y_train)\n",
        "  y_pred = clf4.predict(X_test)\n",
        "  # metrics\n",
        "  tn, fp, fn, tp = confusion_matrix(y_test, y_pred).ravel()\n",
        "  specificity = tn / (tn+fp) # TN Rate\n",
        "  Recall = recall_score(y_pred,y_test) # TP rate\n",
        "  ACC = accuracy_score(y_test, y_pred)\n",
        "  PRauc = average_precision_score(y_test, y_pred)\n",
        "  ROCauc = roc_auc_score(y_test, y_pred)\n",
        "  MCC = matthews_corrcoef(y_test, y_pred)\n",
        "  f1score = f1_score(y_pred,y_test)\n",
        "  # record\n",
        "  MCCsvmrad.append(MCC)\n",
        "  F1scoresvmrad.append(f1score)\n",
        "  ACCsvmrad.append(ACC)\n",
        "  TPsvmrad.append(Recall) # TP\n",
        "  TNsvmrad.append(specificity) # TN\n",
        "  PRsvmrad.append(PRauc)\n",
        "  ROCsvmrad.append(ROCauc)"
      ],
      "execution_count": null,
      "outputs": [
        {
          "output_type": "stream",
          "name": "stdout",
          "text": [
            "\n",
            "\n",
            "\n",
            "\n",
            "\n",
            "\n",
            "\n",
            "\n",
            "\n",
            "\n",
            "\n",
            "\n",
            "\n",
            "\n",
            "\n",
            "\n",
            "\n",
            "\n",
            "\n",
            "\n",
            "\n",
            "\n",
            "\n",
            "\n",
            "\n",
            "\n",
            "\n",
            "\n",
            "\n",
            "\n",
            "\n",
            "\n",
            "\n",
            "\n",
            "\n",
            "\n",
            "\n",
            "\n",
            "\n",
            "\n",
            "\n",
            "\n",
            "\n",
            "\n",
            "\n",
            "\n",
            "\n",
            "\n",
            "\n",
            "\n",
            "\n",
            "\n",
            "\n",
            "\n",
            "\n",
            "\n",
            "\n",
            "\n",
            "\n",
            "\n",
            "\n",
            "\n",
            "\n",
            "\n",
            "\n",
            "\n",
            "\n",
            "\n",
            "\n",
            "\n",
            "\n",
            "\n",
            "\n",
            "\n",
            "\n",
            "\n",
            "\n",
            "\n",
            "\n",
            "\n",
            "\n",
            "\n",
            "\n",
            "\n",
            "\n",
            "\n",
            "\n",
            "\n",
            "\n",
            "\n",
            "\n",
            "\n",
            "\n",
            "\n",
            "\n",
            "\n",
            "\n",
            "\n",
            "\n",
            "\n"
          ]
        }
      ]
    },
    {
      "cell_type": "code",
      "metadata": {
        "id": "QVTavtFSGq76"
      },
      "source": [
        "svmrad_Score = [sum(MCCsvmrad)/len(MCCsvmrad),\n",
        "            sum(F1scoresvmrad)/len(F1scoresvmrad),\n",
        "            sum(ACCsvmrad)/len(ACCsvmrad),\n",
        "            sum(TPsvmrad)/len(TPsvmrad),\n",
        "            sum(TNsvmrad)/len(TNsvmrad),\n",
        "            sum(PRsvmrad)/len(PRsvmrad),\n",
        "            sum(ROCsvmrad)/len(ROCsvmrad)]"
      ],
      "execution_count": null,
      "outputs": []
    },
    {
      "cell_type": "code",
      "metadata": {
        "colab": {
          "base_uri": "https://localhost:8080/"
        },
        "id": "Uo7PLgmEGwJy",
        "outputId": "357bf4b1-9a50-467d-a99d-4c0db9f18c42"
      },
      "source": [
        "print(sum(MCCsvmrad)/len(MCCsvmrad))\n",
        "print(sum(F1scoresvmrad)/len(F1scoresvmrad))\n",
        "print(sum(ACCsvmrad)/len(ACCsvmrad))\n",
        "print(sum(TPsvmrad)/len(TPsvmrad))\n",
        "print(sum(TNsvmrad)/len(TNsvmrad))\n",
        "print(sum(PRsvmrad)/len(PRsvmrad))\n",
        "print(sum(ROCsvmrad)/len(ROCsvmrad))"
      ],
      "execution_count": null,
      "outputs": [
        {
          "output_type": "stream",
          "name": "stdout",
          "text": [
            "0.11707874272593878\n",
            "0.125\n",
            "0.766666666666666\n",
            "0.5\n",
            "0.9782608695652183\n",
            "0.252380952380953\n",
            "0.5248447204968941\n"
          ]
        }
      ]
    },
    {
      "cell_type": "code",
      "metadata": {
        "id": "xVlYaP6JuTlj"
      },
      "source": [
        "MCCXGB = []\n",
        "ACCXGB = []\n",
        "TPXGB = []\n",
        "TNXGB = []\n",
        "PRXGB = []\n",
        "ROCXGB = []\n",
        "F1scoreXGB = []\n",
        "\n",
        "for i in range(1,101):\n",
        "  # model\n",
        "  X_train, X_test, y_train, y_test = train_test_split( df_feature, df_death, test_size=0.2)\n",
        "  model = XGBClassifier()\n",
        "  model.fit(X_train, y_train)\n",
        "  # make predictions for test data\n",
        "  y_pred = model.predict(X_test)\n",
        "  #metrics\n",
        "  tn, fp, fn, tp = confusion_matrix(y_test, y_pred).ravel()\n",
        "  specificity = tn / (tn+fp) # TN Rate\n",
        "  Recall = recall_score(y_pred,y_test) # TP rate\n",
        "  ACC = accuracy_score(y_test, y_pred)\n",
        "  PRauc = average_precision_score(y_test, y_pred)\n",
        "  ROCauc = roc_auc_score(y_test, y_pred)\n",
        "  MCC = matthews_corrcoef(y_test, y_pred)\n",
        "  f1score = f1_score(y_pred,y_test)\n",
        "  # record\n",
        "  MCCXGB.append(MCC)\n",
        "  TNXGB.append(specificity) # TN\n",
        "  ACCXGB.append(ACC)\n",
        "  TPXGB.append(Recall) # TP\n",
        "  PRXGB.append(PRauc)\n",
        "  ROCXGB.append(ROCauc)\n",
        "  F1scoreXGB.append(f1score)"
      ],
      "execution_count": null,
      "outputs": []
    },
    {
      "cell_type": "code",
      "metadata": {
        "colab": {
          "base_uri": "https://localhost:8080/"
        },
        "id": "NAFIY0wzxM_u",
        "outputId": "bdb2b65b-6906-4810-dc45-ad6d23d2fd53"
      },
      "source": [
        "print(sum(MCCXGB)/len(MCCXGB))\n",
        "print(sum(F1scoreXGB)/len(F1scoreXGB))\n",
        "print(sum(ACCXGB)/len(ACCXGB))\n",
        "print(sum(TPXGB)/len(TPXGB))\n",
        "print(sum(TNXGB)/len(TNXGB))\n",
        "print(sum(PRXGB)/len(PRXGB))\n",
        "print(sum(ROCXGB)/len(ROCXGB))\n"
      ],
      "execution_count": null,
      "outputs": [
        {
          "output_type": "stream",
          "name": "stdout",
          "text": [
            "0.38792296172368057\n",
            "0.5546339494558382\n",
            "0.746\n",
            "0.6204179101771982\n",
            "0.8539635880529538\n",
            "0.4760147757443097\n",
            "0.6832696652408408\n"
          ]
        }
      ]
    },
    {
      "cell_type": "code",
      "metadata": {
        "id": "BaR77AbZ6320"
      },
      "source": [
        "MCCmlp = []\n",
        "F1scoremlp = []\n",
        "ACCmlp = []\n",
        "TPmlp = []\n",
        "TNmlp = []\n",
        "PRmlp = []\n",
        "ROCmlp = []\n",
        "scaler = StandardScaler()\n",
        "\n",
        "df_featurescale = scaler.fit_transform(df_feature)\n",
        "hidden_layers = [(50,),(100,),(150,)]\n",
        "\n",
        "for i in range(1,101):\n",
        "  MCCmlpp = []\n",
        "  X_train, X_test, y_train, y_test = train_test_split(df_featurescale, df_death, test_size=0.2, random_state=1)\n",
        "  X_train, X_val, y_train, y_val = train_test_split(X_train, y_train, test_size=0.25, random_state=1)\n",
        "  for i in hidden_layers:\n",
        "    #grid search model\n",
        "    clfmlp = MLPClassifier(random_state=1,hidden_layer_sizes = i, max_iter=300)\n",
        "    clfmlp.fit(X_train, y_train)\n",
        "    pred_i = clfmlp.predict(X_val)\n",
        "    # MCC score\n",
        "    MCC = matthews_corrcoef(y_val, pred_i)\n",
        "    MCCmlpp.append(MCC)\n",
        "  #K value used\n",
        "  svmmlpnumber = hidden_layers[MCCmlpp.index(max(MCCmlpp))]\n",
        "  # second model used \n",
        "  clfmlp4 = MLPClassifier(random_state=1,hidden_layer_sizes = svmmlpnumber, max_iter=300)\n",
        "  clfmlp4.fit(X_train,y_train)\n",
        "  y_pred = clfmlp4.predict(X_test)\n",
        "  # metrics\n",
        "  tn, fp, fn, tp = confusion_matrix(y_test, y_pred).ravel()\n",
        "  specificity = tn / (tn+fp) # TN Rate\n",
        "  Recall = recall_score(y_pred,y_test) # TP rate\n",
        "  ACC = accuracy_score(y_test, y_pred)\n",
        "  PRauc = average_precision_score(y_test, y_pred)\n",
        "  ROCauc = roc_auc_score(y_test, y_pred)\n",
        "  MCC = matthews_corrcoef(y_test, y_pred)\n",
        "  f1score = f1_score(y_pred,y_test)\n",
        "  # record\n",
        "  MCCmlp.append(MCC)\n",
        "  F1scoremlp.append(f1score)\n",
        "  ACCmlp.append(ACC)\n",
        "  TPmlp.append(Recall) # TP\n",
        "  TNmlp.append(specificity) # TN\n",
        "  PRmlp.append(PRauc)\n",
        "  ROCmlp.append(ROCauc)"
      ],
      "execution_count": null,
      "outputs": []
    },
    {
      "cell_type": "code",
      "metadata": {
        "colab": {
          "base_uri": "https://localhost:8080/"
        },
        "id": "3HZH-gyG9syR",
        "outputId": "f7390f56-010f-41b5-b9d1-6eb0e90ea55c"
      },
      "source": [
        "print(sum(MCCmlp)/len(MCCmlp))\n",
        "print(sum(F1scoremlp)/len(F1scoremlp))\n",
        "print(sum(ACCmlp)/len(ACCmlp))\n",
        "print(sum(TPmlp)/len(TPmlp))\n",
        "print(sum(TNmlp)/len(TNmlp))\n",
        "print(sum(PRmlp)/len(PRmlp))\n",
        "print(sum(ROCmlp)/len(ROCmlp))\n"
      ],
      "execution_count": null,
      "outputs": [
        {
          "output_type": "stream",
          "name": "stdout",
          "text": [
            "0.283763455131285\n",
            "0.44444444444444353\n",
            "0.75\n",
            "0.46153846153846056\n",
            "0.8478260869565212\n",
            "0.3311355311355307\n",
            "0.6381987577639738\n"
          ]
        }
      ]
    },
    {
      "cell_type": "markdown",
      "metadata": {
        "id": "pRjWMpgxknhc"
      },
      "source": [
        "Improving ML methods"
      ]
    },
    {
      "cell_type": "code",
      "metadata": {
        "id": "ojN79yPtknCE"
      },
      "source": [
        "data2 = data1\n",
        "data2"
      ],
      "execution_count": null,
      "outputs": []
    },
    {
      "cell_type": "code",
      "metadata": {
        "id": "4ZhsGBywPKqH"
      },
      "source": [
        "MCCCV = []\n",
        "F1scoreCV = []\n",
        "ACCCV= []\n",
        "TPCV = []\n",
        "TNCV = []\n",
        "PRCV = []\n",
        "ROCCV = []\n",
        "\n",
        "X = data1.drop(columns=[ 'DEATH_EVENT'])\n",
        "y = data1[[\"DEATH_EVENT\"]]\n",
        "#custom score\n",
        "customscore = make_scorer(matthews_corrcoef)\n",
        "\n",
        "# nested K cross validation with Random forest\n",
        "# configure the cross-validation procedure\n",
        "cv_inner = KFold(n_splits=5, shuffle=True, random_state=1)\n",
        "# define the model\n",
        "model = RandomForestClassifier(random_state=1)\n",
        "# define search space\n",
        "space = dict()\n",
        "space['n_estimators'] = [300, 500, 600, 700]\n",
        "space['max_features'] = [2,  11]\n",
        "# define search\n",
        "search = GridSearchCV(model, space, scoring= customscore, n_jobs=1, cv=cv_inner, refit=True)\n",
        "# configure the cross-validation \n",
        "cv_outer = KFold(n_splits=10, shuffle=True, random_state=1)\n",
        "#nested cross-validation\n",
        "y_pred = cross_val_predict(search, X, y, cv= cv_outer, n_jobs=-1)\n",
        "#scores = cross_val_score(search, X, y, scoring= customscore, cv=cv_outer, n_jobs=-1)\n",
        "# report performance\n",
        "# metrics\n",
        "tn, fp, fn, tp = confusion_matrix(y_pred, y).ravel()\n",
        "specificity = tn / (tn+fp) # TN Rate\n",
        "Recall = recall_score(y_pred,y) # TP rate\n",
        "ACC = accuracy_score(y, y_pred)\n",
        "PRauc = average_precision_score(y, y_pred)\n",
        "ROCauc = roc_auc_score(y, y_pred)\n",
        "MCC = matthews_corrcoef(y, y_pred)\n",
        "f1score = f1_score(y_pred,y)\n",
        "# record\n",
        "MCCCV.append(MCC)\n",
        "F1scoreCV.append(f1score)\n",
        "ACCCV.append(ACC)\n",
        "TPCV.append(Recall) # TP\n",
        "TNCV.append(specificity) # TN\n",
        "PRCV.append(PRauc)\n",
        "ROCCV.append(ROCauc)"
      ],
      "execution_count": null,
      "outputs": []
    },
    {
      "cell_type": "code",
      "metadata": {
        "colab": {
          "base_uri": "https://localhost:8080/"
        },
        "id": "DUNTi0Ibi71B",
        "outputId": "d0fe9689-c246-4bb8-fa53-619c40deb299"
      },
      "source": [
        "print(MCCCV)\n",
        "print(F1scoreCV)\n",
        "print(ACCCV)\n",
        "print(TPCV) \n",
        "print(TNCV)\n",
        "print(PRCV)\n",
        "print(ROCCV)"
      ],
      "execution_count": null,
      "outputs": [
        {
          "output_type": "stream",
          "name": "stdout",
          "text": [
            "[0.4096262869505094]\n",
            "[0.5795454545454545]\n",
            "[0.7525083612040134]\n",
            "[0.6375]\n",
            "[0.7945205479452054]\n",
            "[0.48917354724080264]\n",
            "[0.6941964285714286]\n"
          ]
        }
      ]
    },
    {
      "cell_type": "code",
      "metadata": {
        "id": "ehpaazTfPU3Q"
      },
      "source": [
        "scaler = StandardScaler()\n",
        "df_featurescale = scaler.fit_transform(df_feature)"
      ],
      "execution_count": null,
      "outputs": []
    },
    {
      "cell_type": "code",
      "metadata": {
        "id": "m5lE3xtqqsce"
      },
      "source": [
        "MCCCV = []\n",
        "F1scoreCV = []\n",
        "ACCCV= []\n",
        "TPCV = []\n",
        "TNCV = []\n",
        "PRCV = []\n",
        "ROCCV = []\n",
        "\n",
        "X = df_featurescale\n",
        "y = data1[[\"DEATH_EVENT\"]]\n",
        "#custom score\n",
        "customscore = make_scorer(matthews_corrcoef)\n",
        "\n",
        "# nested K cross validation with Random forest\n",
        "# configure the cross-validation procedure\n",
        "cv_inner = KFold(n_splits=5, shuffle=True, random_state=1)\n",
        "# define the model\n",
        "model = RandomForestClassifier(random_state=1)\n",
        "# define search space\n",
        "space = dict()\n",
        "space['n_estimators'] = [300, 500, 600, 700]\n",
        "space['max_features'] = [2,  11]\n",
        "# define search\n",
        "search = GridSearchCV(model, space, scoring= customscore, n_jobs=1, cv=cv_inner, refit=True)\n",
        "# configure the cross-validation \n",
        "cv_outer = KFold(n_splits=10, shuffle=True, random_state=1)\n",
        "#nested cross-validation\n",
        "y_pred = cross_val_predict(search, X, y, cv= cv_outer, n_jobs=-1)\n",
        "# report performance\n",
        "# metrics\n",
        "tn, fp, fn, tp = confusion_matrix(y_pred, y).ravel()\n",
        "specificity = tn / (tn+fp) # TN Rate\n",
        "Recall = recall_score(y_pred,y) # TP rate\n",
        "ACC = accuracy_score(y, y_pred)\n",
        "PRauc = average_precision_score(y, y_pred)\n",
        "ROCauc = roc_auc_score(y, y_pred)\n",
        "MCC = matthews_corrcoef(y, y_pred)\n",
        "f1score = f1_score(y_pred,y)\n",
        "# record\n",
        "MCCCV.append(MCC)\n",
        "F1scoreCV.append(f1score)\n",
        "ACCCV.append(ACC)\n",
        "TPCV.append(Recall) # TP\n",
        "TNCV.append(specificity) # TN\n",
        "PRCV.append(PRauc)\n",
        "ROCCV.append(ROCauc)"
      ],
      "execution_count": null,
      "outputs": []
    },
    {
      "cell_type": "code",
      "metadata": {
        "colab": {
          "base_uri": "https://localhost:8080/"
        },
        "id": "8tlWB1koQVVl",
        "outputId": "b4dbe8e6-001d-41d5-d2d2-9b77686a36e8"
      },
      "source": [
        "print(MCCCV)\n",
        "print(F1scoreCV)\n",
        "print(ACCCV)\n",
        "print(TPCV) \n",
        "print(TNCV)\n",
        "print(PRCV)\n",
        "print(ROCCV)"
      ],
      "execution_count": null,
      "outputs": [
        {
          "output_type": "stream",
          "name": "stdout",
          "text": [
            "[0.6464902190307967]\n",
            "[0.7513812154696135]\n",
            "[0.8494983277591973]\n",
            "[0.8]\n",
            "[0.8691588785046729]\n",
            "[0.6603121516164996]\n",
            "[0.8122947454844007]\n"
          ]
        }
      ]
    }
  ]
}
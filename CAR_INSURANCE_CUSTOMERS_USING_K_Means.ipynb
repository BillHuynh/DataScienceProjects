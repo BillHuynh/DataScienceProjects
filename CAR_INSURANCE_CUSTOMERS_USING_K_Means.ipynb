{
  "nbformat": 4,
  "nbformat_minor": 0,
  "metadata": {
    "colab": {
      "name": "CAR INSURANCE CUSTOMERS USING K-Means.ipynb",
      "provenance": [],
      "authorship_tag": "ABX9TyOSrprtZS5pqFv+A5DX6gd5",
      "include_colab_link": true
    },
    "kernelspec": {
      "name": "python3",
      "display_name": "Python 3"
    },
    "language_info": {
      "name": "python"
    }
  },
  "cells": [
    {
      "cell_type": "markdown",
      "metadata": {
        "id": "view-in-github",
        "colab_type": "text"
      },
      "source": [
        "<a href=\"https://colab.research.google.com/github/BillHuynh/DataScienceProjects/blob/master/CAR_INSURANCE_CUSTOMERS_USING_K_Means.ipynb\" target=\"_parent\"><img src=\"https://colab.research.google.com/assets/colab-badge.svg\" alt=\"Open In Colab\"/></a>"
      ]
    },
    {
      "cell_type": "code",
      "metadata": {
        "id": "iwkumBmr_rvc"
      },
      "source": [
        "import numpy as np\n",
        "import pandas as pd\n",
        "import matplotlib.pyplot as plt\n",
        "from sklearn.cluster import KMeans\n",
        "from sklearn.metrics import *"
      ],
      "execution_count": null,
      "outputs": []
    },
    {
      "cell_type": "code",
      "metadata": {
        "id": "Sm0FAHCOIdUB"
      },
      "source": [
        "np.random.seed(2021)"
      ],
      "execution_count": null,
      "outputs": []
    },
    {
      "cell_type": "code",
      "metadata": {
        "id": "dHKMh7Ax9lDv",
        "colab": {
          "base_uri": "https://localhost:8080/"
        },
        "outputId": "5485dfde-0acf-4969-fa0b-59bc2fa07f11"
      },
      "source": [
        "from google.colab import drive\n",
        "drive.mount('/content/drive')"
      ],
      "execution_count": null,
      "outputs": [
        {
          "output_type": "stream",
          "name": "stdout",
          "text": [
            "Mounted at /content/drive\n"
          ]
        }
      ]
    },
    {
      "cell_type": "markdown",
      "metadata": {
        "id": "cc85DGYFvyZx"
      },
      "source": [
        "SORTING CAR INSURANCE CUSTOMERS USING K-Means Alogrithms "
      ]
    },
    {
      "cell_type": "code",
      "metadata": {
        "colab": {
          "base_uri": "https://localhost:8080/"
        },
        "id": "UZ8hUMG6NaI1",
        "outputId": "90974600-f88d-43a8-98fb-021a063a6d35"
      },
      "source": [
        "data = pd.read_csv('/content/drive/MyDrive/SCADI.csv', delimiter=',', header=None).values\n",
        "data1 = pd.DataFrame(data)\n",
        "data1.head\n",
        "data2 = data1.drop(data1.columns[[0, 1, 205]], axis=1, inplace=False)\n",
        "data2 = data2.iloc[1: , :]\n",
        "print(data2)"
      ],
      "execution_count": null,
      "outputs": [
        {
          "output_type": "stream",
          "name": "stdout",
          "text": [
            "   2   3   4   5   6   7   8   9   10   ... 196 197 198 199 200 201 202 203 204\n",
            "1    0   0   0   0   1   0   0   0   0  ...   0   0   0   0   0   0   1   0   0\n",
            "2    0   0   0   0   1   0   0   0   0  ...   0   0   0   0   0   1   0   0   0\n",
            "3    0   0   0   1   0   0   0   0   0  ...   0   0   0   0   0   1   0   0   0\n",
            "4    0   0   0   0   1   0   0   0   0  ...   0   0   0   0   1   0   0   0   0\n",
            "5    0   0   0   0   1   0   0   0   0  ...   0   0   0   0   1   0   0   0   0\n",
            "..  ..  ..  ..  ..  ..  ..  ..  ..  ..  ...  ..  ..  ..  ..  ..  ..  ..  ..  ..\n",
            "66   0   0   1   0   0   0   0   0   0  ...   0   0   0   1   0   0   0   0   0\n",
            "67   0   0   1   0   0   0   0   0   0  ...   0   0   1   0   0   0   0   0   0\n",
            "68   0   0   0   1   0   0   0   0   0  ...   0   0   0   0   1   0   0   0   0\n",
            "69   0   0   0   1   0   0   0   0   0  ...   0   0   0   0   0   1   0   0   0\n",
            "70   0   0   0   1   0   0   0   0   0  ...   0   0   0   0   1   0   0   0   0\n",
            "\n",
            "[70 rows x 203 columns]\n"
          ]
        }
      ]
    },
    {
      "cell_type": "code",
      "metadata": {
        "colab": {
          "base_uri": "https://localhost:8080/",
          "height": 279
        },
        "id": "pHhOMXfjNehj",
        "outputId": "08a9da00-a295-49b9-a82a-c3efcdfb64fe"
      },
      "source": [
        "\n",
        "sse = {}\n",
        "for k in range(1, 10):\n",
        "    kmeans = KMeans(n_clusters=k, max_iter=1000).fit(data2)\n",
        "    data2[\"clusters\"] = kmeans.labels_\n",
        "    sse[k] = kmeans.inertia_ \n",
        "plt.figure()\n",
        "plt.plot(list(sse.keys()), list(sse.values()))\n",
        "plt.xlabel(\"Number of cluster\")\n",
        "plt.ylabel(\"SSE\")\n",
        "plt.show()"
      ],
      "execution_count": null,
      "outputs": [
        {
          "output_type": "display_data",
          "data": {
            "image/png": "[encoded data removed]",
            "text/plain": [
              "<Figure size 432x288 with 1 Axes>"
            ]
          },
          "metadata": {
            "needs_background": "light"
          }
        }
      ]
    },
    {
      "cell_type": "code",
      "metadata": {
        "id": "2vmfm6N8fvFL"
      },
      "source": [
        "#normalize our data\n",
        "from sklearn.preprocessing import scale\n",
        "Xnorm = scale(data2)\n"
      ],
      "execution_count": null,
      "outputs": []
    },
    {
      "cell_type": "code",
      "metadata": {
        "colab": {
          "base_uri": "https://localhost:8080/"
        },
        "id": "RS_TFJUXAYST",
        "outputId": "e81344ee-31e3-4f97-c672-35098b008519"
      },
      "source": [
        "#perform PCA using sklearn PCA implementation\n",
        "\n",
        "from sklearn.decomposition import PCA\n",
        "pca = PCA(n_components=14)\n",
        "pca.fit(Xnorm)"
      ],
      "execution_count": null,
      "outputs": [
        {
          "output_type": "execute_result",
          "data": {
            "text/plain": [
              "PCA(copy=True, iterated_power='auto', n_components=14, random_state=None,\n",
              "    svd_solver='auto', tol=0.0, whiten=False)"
            ]
          },
          "metadata": {},
          "execution_count": 7
        }
      ]
    },
    {
      "cell_type": "code",
      "metadata": {
        "colab": {
          "base_uri": "https://localhost:8080/"
        },
        "id": "2E38g7CTAYco",
        "outputId": "a560616f-7def-43ae-a3ef-08f6a1b32cec"
      },
      "source": [
        "#The amount of variance that each PC explains\n",
        "var= pca.explained_variance_ratio_\n",
        "print(var)"
      ],
      "execution_count": null,
      "outputs": [
        {
          "output_type": "stream",
          "name": "stdout",
          "text": [
            "[0.19209699 0.13931345 0.09241733 0.05511281 0.04642985 0.04321097\n",
            " 0.03692497 0.03114026 0.02825906 0.02744195 0.02526675 0.02276557\n",
            " 0.02183239 0.01989612]\n"
          ]
        }
      ]
    },
    {
      "cell_type": "code",
      "metadata": {
        "colab": {
          "base_uri": "https://localhost:8080/",
          "height": 330
        },
        "id": "PcKPgWHWAYlT",
        "outputId": "b39fc526-89d0-4eae-9ec5-165efdcad6ce"
      },
      "source": [
        "#Cumulative Variance explains\n",
        "var1=np.cumsum(np.round(pca.explained_variance_ratio_, decimals=4)*100)\n",
        "print(var1)\n",
        "plt.plot(var1)\n",
        "plt.xlabel(\"Principal components\")\n",
        "plt.ylabel(\"Variance captured\")"
      ],
      "execution_count": null,
      "outputs": [
        {
          "output_type": "stream",
          "name": "stdout",
          "text": [
            "[19.21 33.14 42.38 47.89 52.53 56.85 60.54 63.65 66.48 69.22 71.75 74.03\n",
            " 76.21 78.2 ]\n"
          ]
        },
        {
          "output_type": "execute_result",
          "data": {
            "text/plain": [
              "Text(0, 0.5, 'Variance captured')"
            ]
          },
          "metadata": {},
          "execution_count": 9
        },
        {
          "output_type": "display_data",
          "data": {
            "image/png": "[encoded data removed]",
            "text/plain": [
              "<Figure size 432x288 with 1 Axes>"
            ]
          },
          "metadata": {
            "needs_background": "light"
          }
        }
      ]
    },
    {
      "cell_type": "code",
      "metadata": {
        "colab": {
          "base_uri": "https://localhost:8080/"
        },
        "id": "4RiLia3SAmYq",
        "outputId": "80ca9485-0578-47a7-c45c-cdb848b749da"
      },
      "source": [
        "PC_comps = 12\n",
        "pca = PCA(n_components=12)\n",
        "Zred = pca.fit_transform(Xnorm)\n",
        "print(Zred.shape)"
      ],
      "execution_count": null,
      "outputs": [
        {
          "output_type": "stream",
          "name": "stdout",
          "text": [
            "(70, 12)\n"
          ]
        }
      ]
    },
    {
      "cell_type": "code",
      "metadata": {
        "colab": {
          "base_uri": "https://localhost:8080/"
        },
        "id": "rNv99xQQAp0r",
        "outputId": "08d3fff4-7275-412c-ca38-000a326425cb"
      },
      "source": [
        "# Reconstruct our data\n",
        "Xrec = pca.inverse_transform(Zred)\n",
        "print(Xrec.shape)"
      ],
      "execution_count": null,
      "outputs": [
        {
          "output_type": "stream",
          "name": "stdout",
          "text": [
            "(70, 204)\n"
          ]
        }
      ]
    },
    {
      "cell_type": "code",
      "metadata": {
        "colab": {
          "base_uri": "https://localhost:8080/"
        },
        "id": "8rfytHOXAyiC",
        "outputId": "77cd80fa-95b8-43fd-9ec5-b2c610a34ebd"
      },
      "source": [
        "\n",
        "n_comp = range(1,PC_comps+1)\n",
        "print(n_comp)"
      ],
      "execution_count": null,
      "outputs": [
        {
          "output_type": "stream",
          "name": "stdout",
          "text": [
            "range(1, 13)\n"
          ]
        }
      ]
    },
    {
      "cell_type": "code",
      "metadata": {
        "colab": {
          "base_uri": "https://localhost:8080/",
          "height": 500
        },
        "id": "POYIwD9vA1pR",
        "outputId": "bdb467d8-2910-44e9-e5bf-c40bfcacc853"
      },
      "source": [
        "# Initialize vector of rec_error\n",
        "rec_error = np.zeros(len(n_comp)+1)\n",
        "\n",
        "for k in n_comp:\n",
        "    pca = PCA(n_components=k)\n",
        "    Zred = pca.fit_transform(Xnorm)\n",
        "    Xrec = pca.inverse_transform(Zred)\n",
        "    rec_error[k] = np.linalg.norm(Xnorm-Xrec, 'fro')/np.linalg.norm(Xnorm, 'fro')\n",
        "    print(\"k={}, rec_error={}\".format(k, rec_error[k]))\n",
        "\n",
        "rec_error = rec_error[1:] #we started recording from index 1, so drop index 0\n",
        "\n",
        "\n",
        "#Visualize the change in error\n",
        "plt.plot(n_comp,rec_error)\n",
        "plt.xlabel('No of principal components (k)')\n",
        "plt.ylabel('Reconstruction Error')"
      ],
      "execution_count": null,
      "outputs": [
        {
          "output_type": "stream",
          "name": "stdout",
          "text": [
            "k=1, rec_error=0.8988342523485864\n",
            "k=2, rec_error=0.8176732615108753\n",
            "k=3, rec_error=0.7590600992781704\n",
            "k=4, rec_error=0.7218444618934072\n",
            "k=5, rec_error=0.6889336555114777\n",
            "k=6, rec_error=0.6568246409383593\n",
            "k=7, rec_error=0.6280872833166847\n",
            "k=8, rec_error=0.6027880018638659\n",
            "k=9, rec_error=0.5788733168534796\n",
            "k=10, rec_error=0.5546641971049066\n",
            "k=11, rec_error=0.5313996832692838\n",
            "k=12, rec_error=0.5095292432588451\n"
          ]
        },
        {
          "output_type": "execute_result",
          "data": {
            "text/plain": [
              "Text(0, 0.5, 'Reconstruction Error')"
            ]
          },
          "metadata": {},
          "execution_count": 13
        },
        {
          "output_type": "display_data",
          "data": {
            "image/png": "[encoded data removed]",
            "text/plain": [
              "<Figure size 432x288 with 1 Axes>"
            ]
          },
          "metadata": {
            "needs_background": "light"
          }
        }
      ]
    },
    {
      "cell_type": "markdown",
      "metadata": {
        "id": "i4s-b6Me2WEz"
      },
      "source": [
        "# Question 4"
      ]
    },
    {
      "cell_type": "code",
      "metadata": {
        "id": "-xlelxOwcdwf"
      },
      "source": [
        "obesity_data = pd.read_csv('/content/drive/MyDrive/obesity_levels.csv', delimiter=',', header=0)\n",
        "obesity_data1 = pd.DataFrame(obesity_data)\n"
      ],
      "execution_count": null,
      "outputs": []
    },
    {
      "cell_type": "code",
      "metadata": {
        "colab": {
          "base_uri": "https://localhost:8080/"
        },
        "id": "tM3WojCF3QVx",
        "outputId": "c0eeb4cc-f20f-441d-89f2-019d9168f287"
      },
      "source": [
        "print(obesity_data1)"
      ],
      "execution_count": null,
      "outputs": [
        {
          "output_type": "stream",
          "name": "stdout",
          "text": [
            "      Gender        Age  ...                 MTRANS           NObeyesdad\n",
            "0     Female  21.000000  ...  Public_Transportation        Normal_Weight\n",
            "1     Female  21.000000  ...  Public_Transportation        Normal_Weight\n",
            "2       Male  23.000000  ...  Public_Transportation        Normal_Weight\n",
            "3       Male  27.000000  ...                Walking   Overweight_Level_I\n",
            "4       Male  22.000000  ...  Public_Transportation  Overweight_Level_II\n",
            "...      ...        ...  ...                    ...                  ...\n",
            "2106  Female  20.976842  ...  Public_Transportation     Obesity_Type_III\n",
            "2107  Female  21.982942  ...  Public_Transportation     Obesity_Type_III\n",
            "2108  Female  22.524036  ...  Public_Transportation     Obesity_Type_III\n",
            "2109  Female  24.361936  ...  Public_Transportation     Obesity_Type_III\n",
            "2110  Female  23.664709  ...  Public_Transportation     Obesity_Type_III\n",
            "\n",
            "[2111 rows x 17 columns]\n"
          ]
        }
      ]
    },
    {
      "cell_type": "code",
      "metadata": {
        "colab": {
          "base_uri": "https://localhost:8080/"
        },
        "id": "zZCc0yDo5E6X",
        "outputId": "bb260c79-91f1-4826-f881-0c16bfb78b76"
      },
      "source": [
        "# find unique values \n",
        "obesity_data1['CAEC'].unique()\n",
        "print(obesity_data1['CALC'].unique())\n",
        "print(obesity_data1['MTRANS'].unique())"
      ],
      "execution_count": null,
      "outputs": [
        {
          "output_type": "stream",
          "name": "stdout",
          "text": [
            "['no' 'Sometimes' 'Frequently' 'Always']\n",
            "['Public_Transportation' 'Walking' 'Automobile' 'Motorbike' 'Bike']\n"
          ]
        }
      ]
    },
    {
      "cell_type": "code",
      "metadata": {
        "colab": {
          "base_uri": "https://localhost:8080/"
        },
        "id": "Rcgc0gQL4CFB",
        "outputId": "47626145-ff39-438b-cb68-42dcb88aaad2"
      },
      "source": [
        "print(obesity_data1.head)"
      ],
      "execution_count": null,
      "outputs": [
        {
          "output_type": "stream",
          "name": "stdout",
          "text": [
            "<bound method NDFrame.head of       Gender        Age    Height  ...  CALC  MTRANS           NObeyesdad\n",
            "0          0  21.000000  1.620000  ...     0       2        Normal_Weight\n",
            "1          0  21.000000  1.520000  ...     1       2        Normal_Weight\n",
            "2          1  23.000000  1.800000  ...     2       2        Normal_Weight\n",
            "3          1  27.000000  1.800000  ...     2       0   Overweight_Level_I\n",
            "4          1  22.000000  1.780000  ...     1       2  Overweight_Level_II\n",
            "...      ...        ...       ...  ...   ...     ...                  ...\n",
            "2106       0  20.976842  1.710730  ...     1       2     Obesity_Type_III\n",
            "2107       0  21.982942  1.748584  ...     1       2     Obesity_Type_III\n",
            "2108       0  22.524036  1.752206  ...     1       2     Obesity_Type_III\n",
            "2109       0  24.361936  1.739450  ...     1       2     Obesity_Type_III\n",
            "2110       0  23.664709  1.738836  ...     1       2     Obesity_Type_III\n",
            "\n",
            "[2111 rows x 17 columns]>\n"
          ]
        }
      ]
    },
    {
      "cell_type": "code",
      "metadata": {
        "id": "cLwd_h44dJir"
      },
      "source": [
        "#Gender\n",
        "obesity_data1[\"Gender\"].replace({\"Male\": 1, \"Female\": 0}, inplace=True)\n",
        "# Family history\n",
        "obesity_data1[\"family_history_with_overweight\"].replace({\"yes\": 1, \"no\": 0}, inplace=True)\n",
        "#Gender\n",
        "obesity_data1[\"FAVC\"].replace({\"no\": 1, \"yes\": 0}, inplace=True)\n",
        "# CAEC\n",
        "obesity_data1[\"CAEC\"].replace({\"no\": 0, \"Sometimes\": 1,\"Frequently\": 2,\"Always\": 3}, inplace=True)\n",
        "#smoke\n",
        "obesity_data1[\"SMOKE\"].replace({\"no\": 1, \"yes\": 0}, inplace=True)\n",
        "# CAEC\n",
        "obesity_data1[\"CALC\"].replace({\"no\": 0, \"Sometimes\": 1,\"Frequently\": 2,\"Always\": 3}, inplace=True)\n",
        "# CAEC\n",
        "obesity_data1[\"MTRANS\"].replace({\"Walking\": 0, \"Bike\": 1,\"Public_Transportation\": 2,\"Motorbike\": 3,\"Automobile\": 4}, inplace=True)\n",
        "#SCC\n",
        "obesity_data1[\"SCC\"].replace({\"yes\": 1, \"no\": 0}, inplace=True)\n",
        "\n"
      ],
      "execution_count": null,
      "outputs": []
    },
    {
      "cell_type": "code",
      "metadata": {
        "id": "zvRHXOKITJoS"
      },
      "source": [
        "obesity_data2 = obesity_data1.drop('Weight', 1)\n",
        "obesity_data2 = obesity_data2.drop('NObeyesdad', 1)\n",
        "obesity_data3 = pd.DataFrame(obesity_data2)"
      ],
      "execution_count": null,
      "outputs": []
    },
    {
      "cell_type": "code",
      "metadata": {
        "colab": {
          "base_uri": "https://localhost:8080/"
        },
        "id": "Nhpc47m2n0_I",
        "outputId": "0af7bce3-c6fe-4082-9590-8c585e2c91ac"
      },
      "source": [
        "print(obesity_data3)"
      ],
      "execution_count": null,
      "outputs": [
        {
          "output_type": "stream",
          "name": "stdout",
          "text": [
            "      Gender        Age    Height  ...       TUE  CALC  MTRANS\n",
            "0          0  21.000000  1.620000  ...  1.000000     0       2\n",
            "1          0  21.000000  1.520000  ...  0.000000     1       2\n",
            "2          1  23.000000  1.800000  ...  1.000000     2       2\n",
            "3          1  27.000000  1.800000  ...  0.000000     2       0\n",
            "4          1  22.000000  1.780000  ...  0.000000     1       2\n",
            "...      ...        ...       ...  ...       ...   ...     ...\n",
            "2106       0  20.976842  1.710730  ...  0.906247     1       2\n",
            "2107       0  21.982942  1.748584  ...  0.599270     1       2\n",
            "2108       0  22.524036  1.752206  ...  0.646288     1       2\n",
            "2109       0  24.361936  1.739450  ...  0.586035     1       2\n",
            "2110       0  23.664709  1.738836  ...  0.714137     1       2\n",
            "\n",
            "[2111 rows x 15 columns]\n"
          ]
        }
      ]
    },
    {
      "cell_type": "code",
      "metadata": {
        "colab": {
          "base_uri": "https://localhost:8080/",
          "height": 279
        },
        "id": "6ArhDNKp3AeQ",
        "outputId": "1d898181-2baa-4a8e-9fd8-292337b6def9"
      },
      "source": [
        "# find optimal number of clusters\n",
        "sse = {}\n",
        "for k in range(1, 10):\n",
        "    kmeans = KMeans(n_clusters=k, max_iter=1000).fit(obesity_data3)\n",
        "    obesity_data3[\"clusters\"] = kmeans.labels_\n",
        "    sse[k] = kmeans.inertia_ \n",
        "plt.figure()\n",
        "plt.plot(list(sse.keys()), list(sse.values()))\n",
        "plt.xlabel(\"Number of cluster\")\n",
        "plt.ylabel(\"SSE\")\n",
        "plt.show()"
      ],
      "execution_count": null,
      "outputs": [
        {
          "output_type": "display_data",
          "data": {
            "image/png": "[encoded data removed]",
            "text/plain": [
              "<Figure size 432x288 with 1 Axes>"
            ]
          },
          "metadata": {
            "needs_background": "light"
          }
        }
      ]
    },
    {
      "cell_type": "code",
      "metadata": {
        "id": "G6jkW02jyLsm"
      },
      "source": [
        "obesity_data4 = obesity_data1\n",
        "obesity_data4['WeightClass']=pd.cut(obesity_data4['Weight'],3,labels=[0,1,2])"
      ],
      "execution_count": null,
      "outputs": []
    },
    {
      "cell_type": "code",
      "metadata": {
        "id": "IDKZ-X9Qxd9H"
      },
      "source": [
        "obesity_data5 = obesity_data4.drop('Weight', 1)\n",
        "obesity_data5 = obesity_data5.drop('NObeyesdad', 1)\n",
        "obesity_data6 = obesity_data5.drop('WeightClass', 1)"
      ],
      "execution_count": null,
      "outputs": []
    },
    {
      "cell_type": "code",
      "metadata": {
        "id": "EOOnEM2D5rSZ"
      },
      "source": [
        "kmeans2 = KMeans(n_clusters=3, max_iter=1000).fit(obesity_data6)\n",
        "obesity_data5[\"clusters\"] = kmeans2.labels_"
      ],
      "execution_count": null,
      "outputs": []
    },
    {
      "cell_type": "code",
      "metadata": {
        "id": "JjUCnjPq59Fq"
      },
      "source": [
        "# finding which class matches baseds on highest matches\n",
        "class0_0 = obesity_data5.loc[(obesity_data5['WeightClass'] == 0) & (obesity_data5['clusters'] == 0)]\n",
        "class0_1 = obesity_data5.loc[(obesity_data5['WeightClass'] == 0) & (obesity_data5['clusters'] == 1)]\n",
        "class0_2 = obesity_data5.loc[(obesity_data5['WeightClass'] == 0) & (obesity_data5['clusters'] == 2)]\n",
        "\n",
        "class1_0 = obesity_data5.loc[(obesity_data5['WeightClass'] == 1) & (obesity_data5['clusters'] == 0)]\n",
        "class1_1 = obesity_data5.loc[(obesity_data5['WeightClass'] == 1) & (obesity_data5['clusters'] == 1)]\n",
        "class1_2 = obesity_data5.loc[(obesity_data5['WeightClass'] == 1) & (obesity_data5['clusters'] == 2)]\n",
        "\n",
        "class2_0 = obesity_data5.loc[(obesity_data5['WeightClass'] == 2) & (obesity_data5['clusters'] == 0)]\n",
        "class2_1 = obesity_data5.loc[(obesity_data5['WeightClass'] == 2) & (obesity_data5['clusters'] == 1)]\n",
        "class2_2 = obesity_data5.loc[(obesity_data5['WeightClass'] == 2) & (obesity_data5['clusters'] == 2)]\n"
      ],
      "execution_count": null,
      "outputs": []
    },
    {
      "cell_type": "code",
      "metadata": {
        "colab": {
          "base_uri": "https://localhost:8080/"
        },
        "id": "CtkP2MGp0V8u",
        "outputId": "91b23838-67ea-401c-8c73-4ad044868a0a"
      },
      "source": [
        "print(\"0-0\", class0_0.shape)\n",
        "print(\"0-1\",class0_1.shape)\n",
        "print(\"0-2\",class0_2.shape)\n",
        "print(\"1-0\",class1_0.shape)\n",
        "print(\"1-1\",class1_1.shape)\n",
        "print(\"1-2\",class1_2.shape)\n",
        "print(\"2-0\",class2_0.shape)\n",
        "print(\"2-1\",class2_1.shape)\n",
        "print(\"2-2\",class2_2.shape)\n",
        "#we are going to swap 1 and 0 clusters labels "
      ],
      "execution_count": null,
      "outputs": [
        {
          "output_type": "stream",
          "name": "stdout",
          "text": [
            "0-0 (812, 17)\n",
            "0-1 (127, 17)\n",
            "0-2 (142, 17)\n",
            "1-0 (315, 17)\n",
            "1-1 (474, 17)\n",
            "1-2 (101, 17)\n",
            "2-0 (119, 17)\n",
            "2-1 (21, 17)\n",
            "2-2 (0, 17)\n"
          ]
        }
      ]
    },
    {
      "cell_type": "code",
      "metadata": {
        "id": "g0hAZ-ab2iO3"
      },
      "source": [
        "obesity_data5[\"clusters\"].replace({ 0: 1, 1: 0}, inplace=True)"
      ],
      "execution_count": null,
      "outputs": []
    },
    {
      "cell_type": "code",
      "metadata": {
        "colab": {
          "base_uri": "https://localhost:8080/"
        },
        "id": "ZNInH4nI2yAB",
        "outputId": "34a8ff95-8bee-40dc-df3b-9bcc47b281a2"
      },
      "source": [
        "print(\"0-0\", class0_0.shape)\n",
        "print(\"0-1\",class0_1.shape)\n",
        "print(\"0-2\",class0_2.shape)\n",
        "print(\"1-0\",class1_0.shape)\n",
        "print(\"1-1\",class1_1.shape)\n",
        "print(\"1-2\",class1_2.shape)\n",
        "print(\"2-0\",class2_0.shape)\n",
        "print(\"2-1\",class2_1.shape)\n",
        "print(\"2-2\",class2_2.shape)"
      ],
      "execution_count": null,
      "outputs": [
        {
          "output_type": "stream",
          "name": "stdout",
          "text": [
            "0-0 (812, 17)\n",
            "0-1 (127, 17)\n",
            "0-2 (142, 17)\n",
            "1-0 (315, 17)\n",
            "1-1 (474, 17)\n",
            "1-2 (101, 17)\n",
            "2-0 (119, 17)\n",
            "2-1 (21, 17)\n",
            "2-2 (0, 17)\n"
          ]
        }
      ]
    },
    {
      "cell_type": "code",
      "metadata": {
        "id": "Ik-HRzyz3b-n"
      },
      "source": [
        "from sklearn.metrics.cluster import adjusted_rand_score"
      ],
      "execution_count": null,
      "outputs": []
    },
    {
      "cell_type": "code",
      "metadata": {
        "id": "pmHK6X144a7B"
      },
      "source": [
        "Truelabels4 = obesity_data5[[\"clusters\"]].to_numpy()\n",
        "Pridectedlabels4 = obesity_data5[[\"WeightClass\"]].to_numpy()"
      ],
      "execution_count": null,
      "outputs": []
    },
    {
      "cell_type": "code",
      "metadata": {
        "colab": {
          "base_uri": "https://localhost:8080/"
        },
        "id": "RsNt2z_E3eDc",
        "outputId": "709a0bf7-ce3f-4313-c28b-ff7f9d84cbc0"
      },
      "source": [
        "\n",
        "\n",
        "print(\" rand score is : \", adjusted_rand_score(Truelabels4.ravel(), Pridectedlabels4.ravel()))\n"
      ],
      "execution_count": null,
      "outputs": [
        {
          "output_type": "stream",
          "name": "stdout",
          "text": [
            " rand score is :  0.14140719167719193\n"
          ]
        }
      ]
    },
    {
      "cell_type": "markdown",
      "metadata": {
        "id": "AzqWNsBJ_N33"
      },
      "source": [
        "PREDICTING OBESITY"
      ]
    },
    {
      "cell_type": "code",
      "metadata": {
        "id": "tI6beCf3_NXJ"
      },
      "source": [
        "obesity_data7 = obesity_data1\n",
        "# removing Insufficient_Weight\n",
        "obesity_data7 = obesity_data7[obesity_data7.NObeyesdad != \"Insufficient_Weight\"]"
      ],
      "execution_count": null,
      "outputs": []
    },
    {
      "cell_type": "code",
      "metadata": {
        "colab": {
          "base_uri": "https://localhost:8080/"
        },
        "id": "4TCoE348A6VU",
        "outputId": "38221e17-b3ab-4dfb-cfce-9084c3c68e19"
      },
      "source": [
        "# repalcing NObeyesdad values\n",
        "obesity_data7[\"NObeyesdad\"].replace({\"Normal_Weight\": 0, \"Overweight_Level_I\": 0,\"Overweight_Level_II\": 0,\"Obesity_Type_I\": 1,\"Obesity_Type_II\": 1,\"Obesity_Type_III\": 1}, inplace=True)"
      ],
      "execution_count": null,
      "outputs": [
        {
          "output_type": "stream",
          "name": "stderr",
          "text": [
            "/usr/local/lib/python3.7/dist-packages/pandas/core/series.py:4582: SettingWithCopyWarning: \n",
            "A value is trying to be set on a copy of a slice from a DataFrame\n",
            "\n",
            "See the caveats in the documentation: https://pandas.pydata.org/pandas-docs/stable/user_guide/indexing.html#returning-a-view-versus-a-copy\n",
            "  method=method,\n"
          ]
        }
      ]
    },
    {
      "cell_type": "code",
      "metadata": {
        "id": "xBrWJNzSBt4B"
      },
      "source": [
        "#Droping No beyesdad target variable \n",
        "obesity_data8 = obesity_data7.drop('NObeyesdad', 1)\n"
      ],
      "execution_count": null,
      "outputs": []
    },
    {
      "cell_type": "code",
      "metadata": {
        "colab": {
          "base_uri": "https://localhost:8080/"
        },
        "id": "bUXbMZc3B_6z",
        "outputId": "5fb680f3-79c6-470e-ca12-777c8b532dac"
      },
      "source": [
        "print(obesity_data8)"
      ],
      "execution_count": null,
      "outputs": [
        {
          "output_type": "stream",
          "name": "stdout",
          "text": [
            "      Gender        Age    Height  ...  CALC  MTRANS  WeightClass\n",
            "0          0  21.000000  1.620000  ...     0       2            0\n",
            "1          0  21.000000  1.520000  ...     1       2            0\n",
            "2          1  23.000000  1.800000  ...     2       2            0\n",
            "3          1  27.000000  1.800000  ...     2       0            1\n",
            "4          1  22.000000  1.780000  ...     1       2            1\n",
            "...      ...        ...       ...  ...   ...     ...          ...\n",
            "2106       0  20.976842  1.710730  ...     1       2            2\n",
            "2107       0  21.982942  1.748584  ...     1       2            2\n",
            "2108       0  22.524036  1.752206  ...     1       2            2\n",
            "2109       0  24.361936  1.739450  ...     1       2            2\n",
            "2110       0  23.664709  1.738836  ...     1       2            2\n",
            "\n",
            "[1839 rows x 17 columns]\n"
          ]
        }
      ]
    },
    {
      "cell_type": "code",
      "metadata": {
        "colab": {
          "base_uri": "https://localhost:8080/"
        },
        "id": "4fHZvu-aHkkE",
        "outputId": "d84b3930-47f9-4d67-fc6c-26c62ff08ee5"
      },
      "source": [
        "# fitting k means making 2 clusters\n",
        "kmeans3 = KMeans(n_clusters=2, max_iter=1000).fit(obesity_data8)\n",
        "obesity_data7[\"clusters\"] = kmeans3.labels_"
      ],
      "execution_count": null,
      "outputs": [
        {
          "output_type": "stream",
          "name": "stderr",
          "text": [
            "/usr/local/lib/python3.7/dist-packages/ipykernel_launcher.py:3: SettingWithCopyWarning: \n",
            "A value is trying to be set on a copy of a slice from a DataFrame.\n",
            "Try using .loc[row_indexer,col_indexer] = value instead\n",
            "\n",
            "See the caveats in the documentation: https://pandas.pydata.org/pandas-docs/stable/user_guide/indexing.html#returning-a-view-versus-a-copy\n",
            "  This is separate from the ipykernel package so we can avoid doing imports until\n"
          ]
        }
      ]
    },
    {
      "cell_type": "code",
      "metadata": {
        "colab": {
          "base_uri": "https://localhost:8080/"
        },
        "id": "Luu7wD1cH4CH",
        "outputId": "79ecd80e-f412-44f6-a966-881bdd68ec83"
      },
      "source": [
        "print(obesity_data7)"
      ],
      "execution_count": null,
      "outputs": [
        {
          "output_type": "stream",
          "name": "stdout",
          "text": [
            "      Gender        Age    Height  ...  NObeyesdad  WeightClass  clusters\n",
            "0          0  21.000000  1.620000  ...           0            0         0\n",
            "1          0  21.000000  1.520000  ...           0            0         0\n",
            "2          1  23.000000  1.800000  ...           0            0         0\n",
            "3          1  27.000000  1.800000  ...           0            1         0\n",
            "4          1  22.000000  1.780000  ...           0            1         0\n",
            "...      ...        ...       ...  ...         ...          ...       ...\n",
            "2106       0  20.976842  1.710730  ...           1            2         1\n",
            "2107       0  21.982942  1.748584  ...           1            2         1\n",
            "2108       0  22.524036  1.752206  ...           1            2         1\n",
            "2109       0  24.361936  1.739450  ...           1            2         1\n",
            "2110       0  23.664709  1.738836  ...           1            2         1\n",
            "\n",
            "[1839 rows x 19 columns]\n"
          ]
        }
      ]
    },
    {
      "cell_type": "code",
      "metadata": {
        "colab": {
          "base_uri": "https://localhost:8080/"
        },
        "id": "AE5TxccHIC31",
        "outputId": "2c75b066-336f-4a30-fb3c-7c7a56248d07"
      },
      "source": [
        "#we want to find which class is to which\n",
        "Q5class0_0 = obesity_data7.loc[(obesity_data7['NObeyesdad'] == 0) & (obesity_data7['clusters'] == 0)]\n",
        "Q5class0_1 = obesity_data7.loc[(obesity_data7['NObeyesdad'] == 0) & (obesity_data7['clusters'] == 1)]\n",
        "Q5class1_0 = obesity_data7.loc[(obesity_data7['NObeyesdad'] == 1) & (obesity_data7['clusters'] == 0)]\n",
        "Q5class1_1 = obesity_data7.loc[(obesity_data7['NObeyesdad'] == 1) & (obesity_data7['clusters'] == 1)]\n",
        "print(\"0-0\", Q5class0_0.shape)\n",
        "print(\"0-1\", Q5class0_1.shape)\n",
        "print(\"1-0\", Q5class1_0.shape)\n",
        "print(\"1-1\", Q5class1_1.shape)\n",
        "# we want  swap 0-1 classes"
      ],
      "execution_count": null,
      "outputs": [
        {
          "output_type": "stream",
          "name": "stdout",
          "text": [
            "0-0 (843, 19)\n",
            "0-1 (24, 19)\n",
            "1-0 (196, 19)\n",
            "1-1 (776, 19)\n"
          ]
        }
      ]
    },
    {
      "cell_type": "code",
      "metadata": {
        "colab": {
          "base_uri": "https://localhost:8080/"
        },
        "id": "EXI9e3LvJ4RD",
        "outputId": "fc32e367-3c29-4abc-f211-6e2d19cc2a50"
      },
      "source": [
        "#Not needed anymore ignore\n",
        "#swapping classes 0-1\n",
        "#obesity_data7[\"clusters\"].replace({ 0: 1, 1: 0}, inplace=True)"
      ],
      "execution_count": null,
      "outputs": [
        {
          "output_type": "stream",
          "name": "stderr",
          "text": [
            "/usr/local/lib/python3.7/dist-packages/pandas/core/series.py:4582: SettingWithCopyWarning: \n",
            "A value is trying to be set on a copy of a slice from a DataFrame\n",
            "\n",
            "See the caveats in the documentation: https://pandas.pydata.org/pandas-docs/stable/user_guide/indexing.html#returning-a-view-versus-a-copy\n",
            "  method=method,\n"
          ]
        }
      ]
    },
    {
      "cell_type": "code",
      "metadata": {
        "colab": {
          "base_uri": "https://localhost:8080/"
        },
        "id": "yy4CgEFWKADH",
        "outputId": "6acc5c79-d701-4194-9548-9876db88d3cf"
      },
      "source": [
        "# counting matching real adn predicted varibles \n",
        "Q5class0_0 = obesity_data7.loc[(obesity_data7['NObeyesdad'] == 0) & (obesity_data7['clusters'] == 0)]\n",
        "Q5class0_1 = obesity_data7.loc[(obesity_data7['NObeyesdad'] == 0) & (obesity_data7['clusters'] == 1)]\n",
        "Q5class1_0 = obesity_data7.loc[(obesity_data7['NObeyesdad'] == 1) & (obesity_data7['clusters'] == 0)]\n",
        "Q5class1_1 = obesity_data7.loc[(obesity_data7['NObeyesdad'] == 1) & (obesity_data7['clusters'] == 1)]\n",
        "print(\"0-0\", Q5class0_0.shape)\n",
        "print(\"0-1\", Q5class0_1.shape)\n",
        "print(\"1-0\", Q5class1_0.shape)\n",
        "print(\"1-1\", Q5class1_1.shape)"
      ],
      "execution_count": null,
      "outputs": [
        {
          "output_type": "stream",
          "name": "stdout",
          "text": [
            "0-0 (843, 19)\n",
            "0-1 (24, 19)\n",
            "1-0 (196, 19)\n",
            "1-1 (776, 19)\n"
          ]
        }
      ]
    },
    {
      "cell_type": "code",
      "metadata": {
        "id": "ASfTHSKLQXDp"
      },
      "source": [
        "from sklearn.metrics import confusion_matrix"
      ],
      "execution_count": null,
      "outputs": []
    },
    {
      "cell_type": "code",
      "metadata": {
        "id": "WIRmFW9vQYMC"
      },
      "source": [
        "# measuring cassification results\n",
        "Truelabels5 = obesity_data7[[\"NObeyesdad\"]].to_numpy()\n",
        "Pridectedlabels5 = obesity_data7[[\"clusters\"]].to_numpy()\n",
        "conconfusion_matrix5 = confusion_matrix(Truelabels5.ravel(), Pridectedlabels5.ravel())\n",
        "accuracy_score5 = (conconfusion_matrix5[0,0] + conconfusion_matrix5[1,1])/(conconfusion_matrix5[0,0] + conconfusion_matrix5[1,1] + conconfusion_matrix5[0,1] + conconfusion_matrix5[1,0] )\n",
        "Recall_score5 = (conconfusion_matrix5[0,0])/(conconfusion_matrix5[0,0]+conconfusion_matrix5[1,0])\n",
        "Flase_positive_rate5 = (conconfusion_matrix5[0,1])/(conconfusion_matrix5[0,1]+conconfusion_matrix5[1,0])\n"
      ],
      "execution_count": null,
      "outputs": []
    },
    {
      "cell_type": "code",
      "metadata": {
        "colab": {
          "base_uri": "https://localhost:8080/"
        },
        "id": "MrmJEa89BfiT",
        "outputId": "878cc832-e6b3-4420-fee9-aa95f5cbac6a"
      },
      "source": [
        "print(\" rand score is : \", adjusted_rand_score(Truelabels5.ravel(), Pridectedlabels5.ravel()))\n",
        "# Calculate Silhoutte Score\n",
        "silhouettescore = silhouette_score(obesity_data8, kmeans3.labels_, metric='euclidean')\n",
        "# Print the score\n",
        "print('Silhouetter Score: %.3f' % silhouettescore)"
      ],
      "execution_count": null,
      "outputs": [
        {
          "output_type": "stream",
          "name": "stdout",
          "text": [
            " rand score is :  0.5784766969326517\n",
            "Silhouetter Score: 0.572\n"
          ]
        }
      ]
    },
    {
      "cell_type": "code",
      "metadata": {
        "colab": {
          "base_uri": "https://localhost:8080/"
        },
        "id": "CDHzHEybROHv",
        "outputId": "ca0b0397-0547-4555-f70b-65a89e12faa3"
      },
      "source": [
        "print(\"K-means No PCA \")\n",
        "print(\"Confusion Matrix \", conconfusion_matrix5)\n",
        "print(\"accuracy score is \", accuracy_score5*100)\n",
        "print(\"Recall score (TPR) is \", Recall_score5*100)\n",
        "print(\"False positive rate score (FPR) is \", Flase_positive_rate5*100)\n"
      ],
      "execution_count": null,
      "outputs": [
        {
          "output_type": "stream",
          "name": "stdout",
          "text": [
            "K-means No PCA \n",
            "Confusion Matrix  [[843  24]\n",
            " [196 776]]\n",
            "accuracy score is  88.03697661772702\n",
            "Recall score (TPR) is  81.13570741097209\n",
            "False positive rate score (FPR) is  10.909090909090908\n"
          ]
        }
      ]
    },
    {
      "cell_type": "code",
      "metadata": {
        "colab": {
          "base_uri": "https://localhost:8080/"
        },
        "id": "syaS8D_xRQjn",
        "outputId": "bb87dcc4-9217-4185-adb5-83b0db3e4b2f"
      },
      "source": [
        "#testing what number principal components to be used \n",
        "from sklearn.preprocessing import scale\n",
        "from sklearn.decomposition import PCA\n",
        "Xnorm5 = scale(obesity_data8)\n",
        "pca = PCA(n_components=10)\n",
        "pca.fit(Xnorm5)\n",
        "var= pca.explained_variance_ratio_\n",
        "print(var)"
      ],
      "execution_count": null,
      "outputs": [
        {
          "output_type": "stream",
          "name": "stdout",
          "text": [
            "[0.17773743 0.11337297 0.09924758 0.07891874 0.06777085 0.06022281\n",
            " 0.05904906 0.05307163 0.05210136 0.04623384]\n"
          ]
        }
      ]
    },
    {
      "cell_type": "code",
      "metadata": {
        "colab": {
          "base_uri": "https://localhost:8080/",
          "height": 313
        },
        "id": "CYwsrQyLfP-4",
        "outputId": "158ff706-a865-454c-9792-935e9f6e5a1f"
      },
      "source": [
        "#Cumulative Variance explains\n",
        "var1=np.cumsum(np.round(pca.explained_variance_ratio_, decimals=4)*100)\n",
        "print(var1)\n",
        "plt.plot(var1)\n",
        "plt.xlabel(\"Principal components\")\n",
        "plt.ylabel(\"Variance captured\")\n",
        "# PC to be used is 9 "
      ],
      "execution_count": null,
      "outputs": [
        {
          "output_type": "stream",
          "name": "stdout",
          "text": [
            "[17.77 29.11 39.03 46.92 53.7  59.72 65.62 70.93 76.14 80.76]\n"
          ]
        },
        {
          "output_type": "execute_result",
          "data": {
            "text/plain": [
              "Text(0, 0.5, 'Variance captured')"
            ]
          },
          "metadata": {},
          "execution_count": 47
        },
        {
          "output_type": "display_data",
          "data": {
            "image/png": "[encoded data removed]",
            "text/plain": [
              "<Figure size 432x288 with 1 Axes>"
            ]
          },
          "metadata": {
            "needs_background": "light"
          }
        }
      ]
    },
    {
      "cell_type": "code",
      "metadata": {
        "id": "gGOYuptirJ3o"
      },
      "source": [
        "from sklearn.preprocessing import StandardScaler\n",
        "from sklearn.preprocessing import normalize"
      ],
      "execution_count": null,
      "outputs": []
    },
    {
      "cell_type": "code",
      "metadata": {
        "id": "8iZsvXCmq0Rs"
      },
      "source": [
        "scaler = StandardScaler()\n",
        "X_scaled = scaler.fit_transform(obesity_data8)\n",
        "# Normalizing the data so that \n",
        "# the data approximately follows a Gaussian distribution\n",
        "obesity_data_normalized = normalize(X_scaled)\n",
        "# Converting the numpy array into a pandas DataFrame\n",
        "obesity_data_normalized = pd.DataFrame(obesity_data_normalized)"
      ],
      "execution_count": null,
      "outputs": []
    },
    {
      "cell_type": "code",
      "metadata": {
        "id": "innz7aMFhikq"
      },
      "source": [
        "pca = PCA(n_components=9)\n",
        "principalComponents = pca.fit_transform(obesity_data_normalized)\n",
        "principal_obesity_data = pd.DataFrame(data = principalComponents\n",
        "             , columns = ['principal component 1', 'principal component 2','principal component 3', \n",
        "                          'principal component 4', 'principal component 5', 'principal component 6', \n",
        "                          'principal component 7', 'principal component 8', 'principal component 9'])"
      ],
      "execution_count": null,
      "outputs": []
    },
    {
      "cell_type": "code",
      "metadata": {
        "colab": {
          "base_uri": "https://localhost:8080/"
        },
        "id": "EsLkPYdgi8D6",
        "outputId": "6a2e8972-911f-4d6e-a737-ab5965a0b9fe"
      },
      "source": [
        "print(principal_obesity_data)"
      ],
      "execution_count": null,
      "outputs": [
        {
          "output_type": "stream",
          "name": "stdout",
          "text": [
            "      principal component 1  ...  principal component 9\n",
            "0                 -0.642873  ...               0.254595\n",
            "1                 -0.284613  ...               0.086432\n",
            "2                 -0.082683  ...               0.011600\n",
            "3                  0.103846  ...               0.349423\n",
            "4                 -0.186653  ...               0.547557\n",
            "...                     ...  ...                    ...\n",
            "1834               0.628161  ...              -0.227458\n",
            "1835               0.731370  ...              -0.142933\n",
            "1836               0.739431  ...              -0.149547\n",
            "1837               0.754972  ...              -0.045242\n",
            "1838               0.750659  ...              -0.027662\n",
            "\n",
            "[1839 rows x 9 columns]\n"
          ]
        }
      ]
    },
    {
      "cell_type": "code",
      "metadata": {
        "colab": {
          "base_uri": "https://localhost:8080/"
        },
        "id": "9OwXgtJ9jNUY",
        "outputId": "a10f6c30-8b52-43cc-899e-f4cc61ccb54a"
      },
      "source": [
        "# redo K-means model + PCA(pc = 9)\n",
        "kmeans4 = KMeans(n_clusters=2, max_iter=1000).fit(principal_obesity_data)\n",
        "obesity_data7[\"clusters2\"] = kmeans4.labels_\n"
      ],
      "execution_count": null,
      "outputs": [
        {
          "output_type": "stream",
          "name": "stderr",
          "text": [
            "/usr/local/lib/python3.7/dist-packages/ipykernel_launcher.py:3: SettingWithCopyWarning: \n",
            "A value is trying to be set on a copy of a slice from a DataFrame.\n",
            "Try using .loc[row_indexer,col_indexer] = value instead\n",
            "\n",
            "See the caveats in the documentation: https://pandas.pydata.org/pandas-docs/stable/user_guide/indexing.html#returning-a-view-versus-a-copy\n",
            "  This is separate from the ipykernel package so we can avoid doing imports until\n"
          ]
        }
      ]
    },
    {
      "cell_type": "code",
      "metadata": {
        "colab": {
          "base_uri": "https://localhost:8080/"
        },
        "id": "IqUuWJVClB_1",
        "outputId": "5fd287f6-7ad3-44d4-b9fe-b073dc8f8237"
      },
      "source": [
        "print(obesity_data7)"
      ],
      "execution_count": null,
      "outputs": [
        {
          "output_type": "stream",
          "name": "stdout",
          "text": [
            "      Gender        Age    Height  ...  WeightClass  clusters  clusters2\n",
            "0          0  21.000000  1.620000  ...            0         1          0\n",
            "1          0  21.000000  1.520000  ...            0         1          0\n",
            "2          1  23.000000  1.800000  ...            0         1          0\n",
            "3          1  27.000000  1.800000  ...            1         1          1\n",
            "4          1  22.000000  1.780000  ...            1         1          0\n",
            "...      ...        ...       ...  ...          ...       ...        ...\n",
            "2106       0  20.976842  1.710730  ...            2         0          1\n",
            "2107       0  21.982942  1.748584  ...            2         0          1\n",
            "2108       0  22.524036  1.752206  ...            2         0          1\n",
            "2109       0  24.361936  1.739450  ...            2         0          1\n",
            "2110       0  23.664709  1.738836  ...            2         0          1\n",
            "\n",
            "[1839 rows x 20 columns]\n"
          ]
        }
      ]
    },
    {
      "cell_type": "code",
      "metadata": {
        "colab": {
          "base_uri": "https://localhost:8080/"
        },
        "id": "F-L80slflI5P",
        "outputId": "0841fee5-d694-4f35-db25-ea56d6f003ff"
      },
      "source": [
        "# counting matching real and predicted varibles \n",
        "Q5_1class0_0 = obesity_data7.loc[(obesity_data7['NObeyesdad'] == 0) & (obesity_data7['clusters2'] == 0)]\n",
        "Q5_1class0_1 = obesity_data7.loc[(obesity_data7['NObeyesdad'] == 0) & (obesity_data7['clusters2'] == 1)]\n",
        "Q5_1class1_0 = obesity_data7.loc[(obesity_data7['NObeyesdad'] == 1) & (obesity_data7['clusters2'] == 0)]\n",
        "Q5_1class1_1 = obesity_data7.loc[(obesity_data7['NObeyesdad'] == 1) & (obesity_data7['clusters2'] == 1)]\n",
        "print(\"0-0\", Q5_1class0_0.shape)\n",
        "print(\"0-1\", Q5_1class0_1.shape)\n",
        "print(\"1-0\", Q5_1class1_0.shape)\n",
        "print(\"1-1\", Q5_1class1_1.shape)\n",
        "# assume to swap 0-1 classes"
      ],
      "execution_count": null,
      "outputs": [
        {
          "output_type": "stream",
          "name": "stdout",
          "text": [
            "0-0 (142, 20)\n",
            "0-1 (725, 20)\n",
            "1-0 (758, 20)\n",
            "1-1 (214, 20)\n"
          ]
        }
      ]
    },
    {
      "cell_type": "code",
      "metadata": {
        "colab": {
          "base_uri": "https://localhost:8080/"
        },
        "id": "Rv2r5aq4rsqc",
        "outputId": "c8185908-149e-4b9b-d38f-eb792fa1edf2"
      },
      "source": [
        "#swapping classes 0-1\n",
        "obesity_data7[\"clusters2\"].replace({ 0: 1, 1: 0}, inplace=True)"
      ],
      "execution_count": null,
      "outputs": [
        {
          "output_type": "stream",
          "name": "stderr",
          "text": [
            "/usr/local/lib/python3.7/dist-packages/pandas/core/series.py:4582: SettingWithCopyWarning: \n",
            "A value is trying to be set on a copy of a slice from a DataFrame\n",
            "\n",
            "See the caveats in the documentation: https://pandas.pydata.org/pandas-docs/stable/user_guide/indexing.html#returning-a-view-versus-a-copy\n",
            "  method=method,\n"
          ]
        }
      ]
    },
    {
      "cell_type": "code",
      "metadata": {
        "id": "C8nzQjiSls2s"
      },
      "source": [
        "# measuring cassification results\n",
        "Truelabels5_1 = obesity_data7[[\"NObeyesdad\"]].to_numpy()\n",
        "Pridectedlabels5_1 = obesity_data7[[\"clusters2\"]].to_numpy()\n",
        "conconfusion_matrix6 = confusion_matrix(Truelabels5_1.ravel(), Pridectedlabels5_1.ravel())\n",
        "accuracy_score5_1 = (conconfusion_matrix6[0,0] + conconfusion_matrix6[1,1])/(conconfusion_matrix6[0,0] + conconfusion_matrix6[1,1] + conconfusion_matrix6[0,1] + conconfusion_matrix6[1,0] )\n",
        "Recall_score5_1 = (conconfusion_matrix6[0,0])/(conconfusion_matrix6[0,0]+conconfusion_matrix6[1,0])\n",
        "Flase_positive_rate5_1 = (conconfusion_matrix6[0,1])/(conconfusion_matrix6[0,1]+conconfusion_matrix6[1,0])"
      ],
      "execution_count": null,
      "outputs": []
    },
    {
      "cell_type": "code",
      "metadata": {
        "colab": {
          "base_uri": "https://localhost:8080/"
        },
        "id": "az-xk5-21yV7",
        "outputId": "04029629-06a5-4247-fe30-2ec0765ec1ab"
      },
      "source": [
        "print(\" rand score is : \", adjusted_rand_score(Truelabels5_1.ravel(), Pridectedlabels5_1.ravel()))\n",
        "# Calculate Silhoutte Score\n",
        "silhouettescore = silhouette_score(principal_obesity_data, kmeans4.labels_, metric='euclidean')\n",
        "# Print the score\n",
        "print('Silhouetter Score: %.3f' % silhouettescore)"
      ],
      "execution_count": null,
      "outputs": [
        {
          "output_type": "stream",
          "name": "stdout",
          "text": [
            " rand score is :  0.3752247844714236\n",
            "Silhouetter Score: 0.183\n"
          ]
        }
      ]
    },
    {
      "cell_type": "code",
      "metadata": {
        "colab": {
          "base_uri": "https://localhost:8080/"
        },
        "id": "DpS0tChkmPiD",
        "outputId": "032df8a8-3105-414d-df0b-145ad0dcc228"
      },
      "source": [
        "print(\"Kmeans + PCA (n=9)\")\n",
        "print(\"Confusion Matrix \", conconfusion_matrix6)\n",
        "print(\"accuracy score is \", accuracy_score5_1*100)\n",
        "print(\"Recall score (TPR) is \", Recall_score5_1*100)\n",
        "print(\"False positive rate score (FPR) is \", Flase_positive_rate5_1*100)\n",
        "# using PCA made the model worse "
      ],
      "execution_count": null,
      "outputs": [
        {
          "output_type": "stream",
          "name": "stdout",
          "text": [
            "Confusion Matrix  [[725 142]\n",
            " [214 758]]\n",
            "accuracy score is  80.64165307232192\n",
            "Recall score (TPR) is  77.209797657082\n",
            "False positive rate score (FPR) is  39.8876404494382\n"
          ]
        }
      ]
    },
    {
      "cell_type": "code",
      "metadata": {
        "colab": {
          "base_uri": "https://localhost:8080/"
        },
        "id": "I4LITKlsoBRV",
        "outputId": "bf428ad5-c90e-4666-b567-174be752ac11"
      },
      "source": [
        "# now we use Spectral Clustering instead of kmeans\n",
        "from sklearn.cluster import SpectralClustering\n",
        "clustering = SpectralClustering(n_clusters=2,).fit(principal_obesity_data)\n",
        "obesity_data7[\"clusters3\"] = clustering.labels_"
      ],
      "execution_count": null,
      "outputs": [
        {
          "output_type": "stream",
          "name": "stderr",
          "text": [
            "/usr/local/lib/python3.7/dist-packages/ipykernel_launcher.py:4: SettingWithCopyWarning: \n",
            "A value is trying to be set on a copy of a slice from a DataFrame.\n",
            "Try using .loc[row_indexer,col_indexer] = value instead\n",
            "\n",
            "See the caveats in the documentation: https://pandas.pydata.org/pandas-docs/stable/user_guide/indexing.html#returning-a-view-versus-a-copy\n",
            "  after removing the cwd from sys.path.\n"
          ]
        }
      ]
    },
    {
      "cell_type": "code",
      "metadata": {
        "colab": {
          "base_uri": "https://localhost:8080/"
        },
        "id": "L6JD4BPHuzy7",
        "outputId": "677cf232-c451-4006-dec7-9c900fa52e51"
      },
      "source": [
        "# counting matching real and predicted varibles \n",
        "Q5_2class0_0 = obesity_data7.loc[(obesity_data7['NObeyesdad'] == 0) & (obesity_data7['clusters3'] == 0)]\n",
        "Q5_2class0_1 = obesity_data7.loc[(obesity_data7['NObeyesdad'] == 0) & (obesity_data7['clusters3'] == 1)]\n",
        "Q5_2class1_0 = obesity_data7.loc[(obesity_data7['NObeyesdad'] == 1) & (obesity_data7['clusters3'] == 0)]\n",
        "Q5_2class1_1 = obesity_data7.loc[(obesity_data7['NObeyesdad'] == 1) & (obesity_data7['clusters3'] == 1)]\n",
        "print(\"0-0\", Q5_2class0_0.shape)\n",
        "print(\"0-1\", Q5_2class0_1.shape)\n",
        "print(\"1-0\", Q5_2class1_0.shape)\n",
        "print(\"1-1\", Q5_2class1_1.shape)"
      ],
      "execution_count": null,
      "outputs": [
        {
          "output_type": "stream",
          "name": "stdout",
          "text": [
            "0-0 (806, 21)\n",
            "0-1 (61, 21)\n",
            "1-0 (362, 21)\n",
            "1-1 (610, 21)\n"
          ]
        }
      ]
    },
    {
      "cell_type": "code",
      "metadata": {
        "id": "skdpkAXrvO3j"
      },
      "source": [
        "# measuring cassification results\n",
        "Truelabels5_2 = obesity_data7[[\"NObeyesdad\"]].to_numpy()\n",
        "Pridectedlabels5_2 = obesity_data7[[\"clusters3\"]].to_numpy()\n",
        "conconfusion_matrix7 = confusion_matrix(Truelabels5_2.ravel(), Pridectedlabels5_2.ravel())\n",
        "accuracy_score5_2 = (conconfusion_matrix7[0,0] + conconfusion_matrix7[1,1])/(conconfusion_matrix7[0,0] + conconfusion_matrix7[1,1] + conconfusion_matrix7[0,1] + conconfusion_matrix7[1,0] )\n",
        "Recall_score5_2 = (conconfusion_matrix7[0,0])/(conconfusion_matrix7[0,0]+conconfusion_matrix7[1,0])\n",
        "Flase_positive_rate5_2 = (conconfusion_matrix7[0,1])/(conconfusion_matrix7[0,1]+conconfusion_matrix7[1,0])"
      ],
      "execution_count": null,
      "outputs": []
    },
    {
      "cell_type": "code",
      "metadata": {
        "colab": {
          "base_uri": "https://localhost:8080/"
        },
        "id": "c3wnZwob08Iu",
        "outputId": "8cb467d6-f15f-4a0e-aeef-278e4c09cb4c"
      },
      "source": [
        "print(\" rand score is : \", adjusted_rand_score(Truelabels5_2.ravel(), Pridectedlabels5_2.ravel()))\n",
        "# Calculate Silhoutte Score\n",
        "silhouettescore = silhouette_score(principal_obesity_data, clustering.labels_, metric='euclidean')\n",
        "# Print the score\n",
        "print('Silhouetter Score: %.3f' % silhouettescore)"
      ],
      "execution_count": null,
      "outputs": [
        {
          "output_type": "stream",
          "name": "stdout",
          "text": [
            " rand score is :  0.2910395733703825\n",
            "Silhouetter Score: 0.183\n"
          ]
        }
      ]
    },
    {
      "cell_type": "code",
      "metadata": {
        "colab": {
          "base_uri": "https://localhost:8080/"
        },
        "id": "sO4LxaTwvmaX",
        "outputId": "b98f1a54-4b40-4b2a-f903-8fee662baffa"
      },
      "source": [
        "print(\"Confusion Matrix \", conconfusion_matrix7)\n",
        "print(\"accuracy score is \", accuracy_score5_2*100)\n",
        "print(\"Recall score (TPR) is \", Recall_score5_2*100)\n",
        "print(\"False positive rate score (FPR) is \", Flase_positive_rate5_2*100)"
      ],
      "execution_count": null,
      "outputs": [
        {
          "output_type": "stream",
          "name": "stdout",
          "text": [
            "Confusion Matrix  [[806  61]\n",
            " [362 610]]\n",
            "accuracy score is  76.99836867862969\n",
            "Recall score (TPR) is  69.0068493150685\n",
            "False positive rate score (FPR) is  14.420803782505912\n"
          ]
        }
      ]
    },
    {
      "cell_type": "markdown",
      "metadata": {
        "id": "VpF6CyAFNLyb"
      },
      "source": [
        "EXTRA WORK"
      ]
    },
    {
      "cell_type": "code",
      "metadata": {
        "id": "JAzrroUC9k1-"
      },
      "source": [
        "weathert = np.random.normal(loc=25, scale=2.0, size=600)"
      ],
      "execution_count": null,
      "outputs": []
    },
    {
      "cell_type": "code",
      "metadata": {
        "id": "KgT800zLJK-P"
      },
      "source": [
        "\n",
        "elements1 = [1, 0]\n",
        "probabilities1 = [0.60, 0.4]\n"
      ],
      "execution_count": null,
      "outputs": []
    },
    {
      "cell_type": "code",
      "metadata": {
        "id": "B99odzaiG9b3"
      },
      "source": [
        "df = pd.DataFrame(data=weathert)\n",
        "df.columns = [\"Temp\"]\n",
        "df['seasons']=pd.cut(df['Temp'],4,labels=[\"winter\",\"autumn\",\"spring\", \"summer\"])\n",
        "df[\"price\"] = np.random.normal(loc=100, scale=3, size=600)\n",
        "df[\"pools\"] = pd.cut(df['Temp'],2,labels=[0,1])\n",
        "df[\"resturant\"] = np.random.choice(elements1, 600, p=probabilities1)\n",
        "df[\"golf_course\"] = pd.cut(df['Temp'],3,labels=[0,1,2])"
      ],
      "execution_count": null,
      "outputs": []
    },
    {
      "cell_type": "code",
      "metadata": {
        "colab": {
          "base_uri": "https://localhost:8080/"
        },
        "id": "K33oSW7OHMeb",
        "outputId": "8f2328c2-2c22-4a04-9f2c-85911488ebe0"
      },
      "source": [
        "# hotel data set\n",
        "print(df)"
      ],
      "execution_count": null,
      "outputs": [
        {
          "output_type": "stream",
          "name": "stdout",
          "text": [
            "          Temp seasons       price pools  resturant golf_course\n",
            "0    26.339966  spring   99.808193     1          1           1\n",
            "1    22.875701  autumn  102.139802     0          1           1\n",
            "2    24.639392  autumn   98.348240     0          1           1\n",
            "3    26.525367  spring  100.935860     1          0           1\n",
            "4    23.675355  autumn  100.107863     0          1           1\n",
            "..         ...     ...         ...   ...        ...         ...\n",
            "595  22.829340  autumn  104.978807     0          1           1\n",
            "596  26.632592  spring  100.562021     1          1           1\n",
            "597  22.372999  autumn   97.043543     0          0           0\n",
            "598  23.125598  autumn   99.186998     0          0           1\n",
            "599  26.716862  spring   97.777402     1          1           1\n",
            "\n",
            "[600 rows x 6 columns]\n"
          ]
        }
      ]
    },
    {
      "cell_type": "code",
      "metadata": {
        "id": "3pj-fTRhLmTC"
      },
      "source": [
        "df[\"seasons\"].replace({ \"winter\": 0,\"autumn\":1,\"spring\":2, \"summer\":3}, inplace=True)"
      ],
      "execution_count": null,
      "outputs": []
    },
    {
      "cell_type": "code",
      "metadata": {
        "colab": {
          "base_uri": "https://localhost:8080/"
        },
        "id": "UIQQneiHMFzz",
        "outputId": "87c7c7c2-626e-4f2c-a09d-99003d5234b2"
      },
      "source": [
        "print(df)"
      ],
      "execution_count": null,
      "outputs": [
        {
          "output_type": "stream",
          "name": "stdout",
          "text": [
            "          Temp  seasons       price pools  resturant golf_course\n",
            "0    26.339966        2   99.808193     1          1           1\n",
            "1    22.875701        1  102.139802     0          1           1\n",
            "2    24.639392        1   98.348240     0          1           1\n",
            "3    26.525367        2  100.935860     1          0           1\n",
            "4    23.675355        1  100.107863     0          1           1\n",
            "..         ...      ...         ...   ...        ...         ...\n",
            "595  22.829340        1  104.978807     0          1           1\n",
            "596  26.632592        2  100.562021     1          1           1\n",
            "597  22.372999        1   97.043543     0          0           0\n",
            "598  23.125598        1   99.186998     0          0           1\n",
            "599  26.716862        2   97.777402     1          1           1\n",
            "\n",
            "[600 rows x 6 columns]\n"
          ]
        }
      ]
    },
    {
      "cell_type": "code",
      "metadata": {
        "id": "zIJWw0Y9MifW"
      },
      "source": [
        "df2 = df.drop('seasons', 1)"
      ],
      "execution_count": null,
      "outputs": []
    },
    {
      "cell_type": "code",
      "metadata": {
        "id": "WmPreFIcNJMW"
      },
      "source": [
        "kmeans6 = KMeans(n_clusters=4, max_iter=1000).fit(df2)\n",
        "df[\"clusters\"] = kmeans6.labels_"
      ],
      "execution_count": null,
      "outputs": []
    },
    {
      "cell_type": "code",
      "metadata": {
        "colab": {
          "base_uri": "https://localhost:8080/"
        },
        "id": "50FNgwGCNosx",
        "outputId": "a4e9c5a2-d98e-4d19-dd5b-303164be2a63"
      },
      "source": [
        "print(df)"
      ],
      "execution_count": null,
      "outputs": [
        {
          "output_type": "stream",
          "name": "stdout",
          "text": [
            "          Temp  seasons       price pools  resturant golf_course  clusters\n",
            "0    26.339966        2   99.808193     1          1           1         2\n",
            "1    22.875701        1  102.139802     0          1           1         1\n",
            "2    24.639392        1   98.348240     0          1           1         0\n",
            "3    26.525367        2  100.935860     1          0           1         2\n",
            "4    23.675355        1  100.107863     0          1           1         0\n",
            "..         ...      ...         ...   ...        ...         ...       ...\n",
            "595  22.829340        1  104.978807     0          1           1         1\n",
            "596  26.632592        2  100.562021     1          1           1         2\n",
            "597  22.372999        1   97.043543     0          0           0         0\n",
            "598  23.125598        1   99.186998     0          0           1         0\n",
            "599  26.716862        2   97.777402     1          1           1         3\n",
            "\n",
            "[600 rows x 7 columns]\n"
          ]
        }
      ]
    },
    {
      "cell_type": "code",
      "metadata": {
        "colab": {
          "base_uri": "https://localhost:8080/"
        },
        "id": "kEPtyX6IPZ2G",
        "outputId": "7251a01b-222c-4ea0-efb5-88d4f2d80216"
      },
      "source": [
        "Truelabels5_1 = df[[\"seasons\"]].to_numpy()\n",
        "Pridectedlabels5_1 = df[[\"clusters\"]].to_numpy()\n",
        "conconfusion_matrix8 = confusion_matrix(Truelabels5_1.ravel(), Pridectedlabels5_1.ravel())\n",
        "print(conconfusion_matrix8)"
      ],
      "execution_count": null,
      "outputs": [
        {
          "output_type": "stream",
          "name": "stdout",
          "text": [
            "[[ 13   7   0   0]\n",
            " [137  70   1  43]\n",
            " [  8  38 163  86]\n",
            " [  0   3  24   7]]\n"
          ]
        }
      ]
    },
    {
      "cell_type": "code",
      "metadata": {
        "colab": {
          "base_uri": "https://localhost:8080/"
        },
        "id": "4V75XJtjm3N8",
        "outputId": "0be5b03e-25a4-408b-bb6a-f716f58cd5ac"
      },
      "source": [
        "print(\" rand score is : \", adjusted_rand_score(Truelabels5_1.ravel(), Pridectedlabels5_1.ravel()))\n",
        "# Calculate Silhoutte Score\n",
        "silhouettescore = silhouette_score(df2, kmeans6.labels_, metric='euclidean')\n",
        "# Print the score\n",
        "print('Silhouetter Score: %.3f' % silhouettescore)"
      ],
      "execution_count": null,
      "outputs": [
        {
          "output_type": "stream",
          "name": "stdout",
          "text": [
            " rand score is :  0.27206804660933376\n",
            "Silhouetter Score: 0.306\n"
          ]
        }
      ]
    }
  ]
}